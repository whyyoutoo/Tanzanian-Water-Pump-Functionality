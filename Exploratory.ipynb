{
 "cells": [
  {
   "cell_type": "markdown",
   "metadata": {},
   "source": [
    "## Final Project Submission\n",
    "\n",
    "Please fill out:\n",
    "* Student name: Wesley Yu\n",
    "* Student pace: Flex\n",
    "* Scheduled project review date/time: September 12, 2022 / 12:30 PM\n",
    "* Instructor name: Abhineet Kulkarni\n",
    "* Blog post URL: https://medium.com/@to.wesleyyu/predicting-pump-functionality-of-water-points-in-tanzania-87c8889fcb25"
   ]
  },
  {
   "cell_type": "markdown",
   "metadata": {},
   "source": [
    "# Tanzanian Water Well Analysis\n",
    "\n",
    "**Authors:** Wesley Yu\n",
    "***"
   ]
  },
  {
   "cell_type": "markdown",
   "metadata": {},
   "source": [
    "## Overview\n",
    "\n",
    "This project will use machine learning techniques to predict functionality of waterpoints in Tanzania."
   ]
  },
  {
   "cell_type": "markdown",
   "metadata": {},
   "source": [
    "## Business Problem\n",
    "\n",
    "The Tanzanian government has set aside a budget to repair non functional water wells. They would like a method to predict the functionality of water wells so that resources can be allocated for repairs. They would also like to know what factors lead to a waterpoint being non functional, so that newly installed waterpoints will have better chances of performing as needed."
   ]
  },
  {
   "cell_type": "markdown",
   "metadata": {},
   "source": [
    "## Data Understanding\n",
    "\n",
    "Data set taken from a Driven Data competition containing around 60,000 records of water points  in Tanzania. Each record contains various information of the water points such as, type of pump, location, management, water source, and water quality as well as the functionality of the water point.\n",
    "\n",
    "Link to competition page: [Pump it Up: Data Mining the Water Table](https://www.drivendata.org/competitions/7/pump-it-up-data-mining-the-water-table/page/25/)"
   ]
  },
  {
   "cell_type": "markdown",
   "metadata": {},
   "source": [
    "## Data Exploration\n",
    "\n",
    "### EDA "
   ]
  },
  {
   "cell_type": "code",
   "execution_count": 1,
   "metadata": {},
   "outputs": [],
   "source": [
    "# import libraries\n",
    "import pandas as pd\n",
    "import numpy as np\n",
    "import seaborn as sns\n",
    "import matplotlib.pyplot as plt       "
   ]
  },
  {
   "cell_type": "code",
   "execution_count": 2,
   "metadata": {},
   "outputs": [
    {
     "data": {
      "text/html": [
       "<div>\n",
       "<style scoped>\n",
       "    .dataframe tbody tr th:only-of-type {\n",
       "        vertical-align: middle;\n",
       "    }\n",
       "\n",
       "    .dataframe tbody tr th {\n",
       "        vertical-align: top;\n",
       "    }\n",
       "\n",
       "    .dataframe thead th {\n",
       "        text-align: right;\n",
       "    }\n",
       "</style>\n",
       "<table border=\"1\" class=\"dataframe\">\n",
       "  <thead>\n",
       "    <tr style=\"text-align: right;\">\n",
       "      <th></th>\n",
       "      <th>id</th>\n",
       "      <th>amount_tsh</th>\n",
       "      <th>date_recorded</th>\n",
       "      <th>funder</th>\n",
       "      <th>gps_height</th>\n",
       "      <th>installer</th>\n",
       "      <th>longitude</th>\n",
       "      <th>latitude</th>\n",
       "      <th>wpt_name</th>\n",
       "      <th>num_private</th>\n",
       "      <th>...</th>\n",
       "      <th>payment_type</th>\n",
       "      <th>water_quality</th>\n",
       "      <th>quality_group</th>\n",
       "      <th>quantity</th>\n",
       "      <th>quantity_group</th>\n",
       "      <th>source</th>\n",
       "      <th>source_type</th>\n",
       "      <th>source_class</th>\n",
       "      <th>waterpoint_type</th>\n",
       "      <th>waterpoint_type_group</th>\n",
       "    </tr>\n",
       "  </thead>\n",
       "  <tbody>\n",
       "    <tr>\n",
       "      <th>0</th>\n",
       "      <td>69572</td>\n",
       "      <td>6000.0</td>\n",
       "      <td>2011-03-14</td>\n",
       "      <td>Roman</td>\n",
       "      <td>1390</td>\n",
       "      <td>Roman</td>\n",
       "      <td>34.938093</td>\n",
       "      <td>-9.856322</td>\n",
       "      <td>none</td>\n",
       "      <td>0</td>\n",
       "      <td>...</td>\n",
       "      <td>annually</td>\n",
       "      <td>soft</td>\n",
       "      <td>good</td>\n",
       "      <td>enough</td>\n",
       "      <td>enough</td>\n",
       "      <td>spring</td>\n",
       "      <td>spring</td>\n",
       "      <td>groundwater</td>\n",
       "      <td>communal standpipe</td>\n",
       "      <td>communal standpipe</td>\n",
       "    </tr>\n",
       "    <tr>\n",
       "      <th>1</th>\n",
       "      <td>8776</td>\n",
       "      <td>0.0</td>\n",
       "      <td>2013-03-06</td>\n",
       "      <td>Grumeti</td>\n",
       "      <td>1399</td>\n",
       "      <td>GRUMETI</td>\n",
       "      <td>34.698766</td>\n",
       "      <td>-2.147466</td>\n",
       "      <td>Zahanati</td>\n",
       "      <td>0</td>\n",
       "      <td>...</td>\n",
       "      <td>never pay</td>\n",
       "      <td>soft</td>\n",
       "      <td>good</td>\n",
       "      <td>insufficient</td>\n",
       "      <td>insufficient</td>\n",
       "      <td>rainwater harvesting</td>\n",
       "      <td>rainwater harvesting</td>\n",
       "      <td>surface</td>\n",
       "      <td>communal standpipe</td>\n",
       "      <td>communal standpipe</td>\n",
       "    </tr>\n",
       "    <tr>\n",
       "      <th>2</th>\n",
       "      <td>34310</td>\n",
       "      <td>25.0</td>\n",
       "      <td>2013-02-25</td>\n",
       "      <td>Lottery Club</td>\n",
       "      <td>686</td>\n",
       "      <td>World vision</td>\n",
       "      <td>37.460664</td>\n",
       "      <td>-3.821329</td>\n",
       "      <td>Kwa Mahundi</td>\n",
       "      <td>0</td>\n",
       "      <td>...</td>\n",
       "      <td>per bucket</td>\n",
       "      <td>soft</td>\n",
       "      <td>good</td>\n",
       "      <td>enough</td>\n",
       "      <td>enough</td>\n",
       "      <td>dam</td>\n",
       "      <td>dam</td>\n",
       "      <td>surface</td>\n",
       "      <td>communal standpipe multiple</td>\n",
       "      <td>communal standpipe</td>\n",
       "    </tr>\n",
       "    <tr>\n",
       "      <th>3</th>\n",
       "      <td>67743</td>\n",
       "      <td>0.0</td>\n",
       "      <td>2013-01-28</td>\n",
       "      <td>Unicef</td>\n",
       "      <td>263</td>\n",
       "      <td>UNICEF</td>\n",
       "      <td>38.486161</td>\n",
       "      <td>-11.155298</td>\n",
       "      <td>Zahanati Ya Nanyumbu</td>\n",
       "      <td>0</td>\n",
       "      <td>...</td>\n",
       "      <td>never pay</td>\n",
       "      <td>soft</td>\n",
       "      <td>good</td>\n",
       "      <td>dry</td>\n",
       "      <td>dry</td>\n",
       "      <td>machine dbh</td>\n",
       "      <td>borehole</td>\n",
       "      <td>groundwater</td>\n",
       "      <td>communal standpipe multiple</td>\n",
       "      <td>communal standpipe</td>\n",
       "    </tr>\n",
       "    <tr>\n",
       "      <th>4</th>\n",
       "      <td>19728</td>\n",
       "      <td>0.0</td>\n",
       "      <td>2011-07-13</td>\n",
       "      <td>Action In A</td>\n",
       "      <td>0</td>\n",
       "      <td>Artisan</td>\n",
       "      <td>31.130847</td>\n",
       "      <td>-1.825359</td>\n",
       "      <td>Shuleni</td>\n",
       "      <td>0</td>\n",
       "      <td>...</td>\n",
       "      <td>never pay</td>\n",
       "      <td>soft</td>\n",
       "      <td>good</td>\n",
       "      <td>seasonal</td>\n",
       "      <td>seasonal</td>\n",
       "      <td>rainwater harvesting</td>\n",
       "      <td>rainwater harvesting</td>\n",
       "      <td>surface</td>\n",
       "      <td>communal standpipe</td>\n",
       "      <td>communal standpipe</td>\n",
       "    </tr>\n",
       "  </tbody>\n",
       "</table>\n",
       "<p>5 rows × 40 columns</p>\n",
       "</div>"
      ],
      "text/plain": [
       "      id  amount_tsh date_recorded        funder  gps_height     installer  \\\n",
       "0  69572      6000.0    2011-03-14         Roman        1390         Roman   \n",
       "1   8776         0.0    2013-03-06       Grumeti        1399       GRUMETI   \n",
       "2  34310        25.0    2013-02-25  Lottery Club         686  World vision   \n",
       "3  67743         0.0    2013-01-28        Unicef         263        UNICEF   \n",
       "4  19728         0.0    2011-07-13   Action In A           0       Artisan   \n",
       "\n",
       "   longitude   latitude              wpt_name  num_private  ... payment_type  \\\n",
       "0  34.938093  -9.856322                  none            0  ...     annually   \n",
       "1  34.698766  -2.147466              Zahanati            0  ...    never pay   \n",
       "2  37.460664  -3.821329           Kwa Mahundi            0  ...   per bucket   \n",
       "3  38.486161 -11.155298  Zahanati Ya Nanyumbu            0  ...    never pay   \n",
       "4  31.130847  -1.825359               Shuleni            0  ...    never pay   \n",
       "\n",
       "  water_quality quality_group      quantity  quantity_group  \\\n",
       "0          soft          good        enough          enough   \n",
       "1          soft          good  insufficient    insufficient   \n",
       "2          soft          good        enough          enough   \n",
       "3          soft          good           dry             dry   \n",
       "4          soft          good      seasonal        seasonal   \n",
       "\n",
       "                 source           source_type  source_class  \\\n",
       "0                spring                spring   groundwater   \n",
       "1  rainwater harvesting  rainwater harvesting       surface   \n",
       "2                   dam                   dam       surface   \n",
       "3           machine dbh              borehole   groundwater   \n",
       "4  rainwater harvesting  rainwater harvesting       surface   \n",
       "\n",
       "               waterpoint_type waterpoint_type_group  \n",
       "0           communal standpipe    communal standpipe  \n",
       "1           communal standpipe    communal standpipe  \n",
       "2  communal standpipe multiple    communal standpipe  \n",
       "3  communal standpipe multiple    communal standpipe  \n",
       "4           communal standpipe    communal standpipe  \n",
       "\n",
       "[5 rows x 40 columns]"
      ]
     },
     "execution_count": 2,
     "metadata": {},
     "output_type": "execute_result"
    }
   ],
   "source": [
    "X = pd.read_csv('Data/train_values.csv')\n",
    "X.head()"
   ]
  },
  {
   "cell_type": "code",
   "execution_count": 3,
   "metadata": {},
   "outputs": [
    {
     "data": {
      "text/html": [
       "<div>\n",
       "<style scoped>\n",
       "    .dataframe tbody tr th:only-of-type {\n",
       "        vertical-align: middle;\n",
       "    }\n",
       "\n",
       "    .dataframe tbody tr th {\n",
       "        vertical-align: top;\n",
       "    }\n",
       "\n",
       "    .dataframe thead th {\n",
       "        text-align: right;\n",
       "    }\n",
       "</style>\n",
       "<table border=\"1\" class=\"dataframe\">\n",
       "  <thead>\n",
       "    <tr style=\"text-align: right;\">\n",
       "      <th></th>\n",
       "      <th>id</th>\n",
       "      <th>status_group</th>\n",
       "    </tr>\n",
       "  </thead>\n",
       "  <tbody>\n",
       "    <tr>\n",
       "      <th>0</th>\n",
       "      <td>69572</td>\n",
       "      <td>functional</td>\n",
       "    </tr>\n",
       "    <tr>\n",
       "      <th>1</th>\n",
       "      <td>8776</td>\n",
       "      <td>functional</td>\n",
       "    </tr>\n",
       "    <tr>\n",
       "      <th>2</th>\n",
       "      <td>34310</td>\n",
       "      <td>functional</td>\n",
       "    </tr>\n",
       "    <tr>\n",
       "      <th>3</th>\n",
       "      <td>67743</td>\n",
       "      <td>non functional</td>\n",
       "    </tr>\n",
       "    <tr>\n",
       "      <th>4</th>\n",
       "      <td>19728</td>\n",
       "      <td>functional</td>\n",
       "    </tr>\n",
       "  </tbody>\n",
       "</table>\n",
       "</div>"
      ],
      "text/plain": [
       "      id    status_group\n",
       "0  69572      functional\n",
       "1   8776      functional\n",
       "2  34310      functional\n",
       "3  67743  non functional\n",
       "4  19728      functional"
      ]
     },
     "execution_count": 3,
     "metadata": {},
     "output_type": "execute_result"
    }
   ],
   "source": [
    "y = pd.read_csv('Data/train_labels.csv')\n",
    "y.head()"
   ]
  },
  {
   "cell_type": "code",
   "execution_count": 4,
   "metadata": {},
   "outputs": [],
   "source": [
    "data = X.merge(y, on = 'id')"
   ]
  },
  {
   "cell_type": "code",
   "execution_count": 5,
   "metadata": {},
   "outputs": [
    {
     "name": "stdout",
     "output_type": "stream",
     "text": [
      "<class 'pandas.core.frame.DataFrame'>\n",
      "Int64Index: 59400 entries, 0 to 59399\n",
      "Data columns (total 41 columns):\n",
      " #   Column                 Non-Null Count  Dtype  \n",
      "---  ------                 --------------  -----  \n",
      " 0   id                     59400 non-null  int64  \n",
      " 1   amount_tsh             59400 non-null  float64\n",
      " 2   date_recorded          59400 non-null  object \n",
      " 3   funder                 55765 non-null  object \n",
      " 4   gps_height             59400 non-null  int64  \n",
      " 5   installer              55745 non-null  object \n",
      " 6   longitude              59400 non-null  float64\n",
      " 7   latitude               59400 non-null  float64\n",
      " 8   wpt_name               59400 non-null  object \n",
      " 9   num_private            59400 non-null  int64  \n",
      " 10  basin                  59400 non-null  object \n",
      " 11  subvillage             59029 non-null  object \n",
      " 12  region                 59400 non-null  object \n",
      " 13  region_code            59400 non-null  int64  \n",
      " 14  district_code          59400 non-null  int64  \n",
      " 15  lga                    59400 non-null  object \n",
      " 16  ward                   59400 non-null  object \n",
      " 17  population             59400 non-null  int64  \n",
      " 18  public_meeting         56066 non-null  object \n",
      " 19  recorded_by            59400 non-null  object \n",
      " 20  scheme_management      55523 non-null  object \n",
      " 21  scheme_name            31234 non-null  object \n",
      " 22  permit                 56344 non-null  object \n",
      " 23  construction_year      59400 non-null  int64  \n",
      " 24  extraction_type        59400 non-null  object \n",
      " 25  extraction_type_group  59400 non-null  object \n",
      " 26  extraction_type_class  59400 non-null  object \n",
      " 27  management             59400 non-null  object \n",
      " 28  management_group       59400 non-null  object \n",
      " 29  payment                59400 non-null  object \n",
      " 30  payment_type           59400 non-null  object \n",
      " 31  water_quality          59400 non-null  object \n",
      " 32  quality_group          59400 non-null  object \n",
      " 33  quantity               59400 non-null  object \n",
      " 34  quantity_group         59400 non-null  object \n",
      " 35  source                 59400 non-null  object \n",
      " 36  source_type            59400 non-null  object \n",
      " 37  source_class           59400 non-null  object \n",
      " 38  waterpoint_type        59400 non-null  object \n",
      " 39  waterpoint_type_group  59400 non-null  object \n",
      " 40  status_group           59400 non-null  object \n",
      "dtypes: float64(3), int64(7), object(31)\n",
      "memory usage: 19.0+ MB\n"
     ]
    }
   ],
   "source": [
    "data.info()"
   ]
  },
  {
   "cell_type": "code",
   "execution_count": 6,
   "metadata": {},
   "outputs": [
    {
     "data": {
      "text/plain": [
       "id                           0\n",
       "amount_tsh                   0\n",
       "date_recorded                0\n",
       "funder                    3635\n",
       "gps_height                   0\n",
       "installer                 3655\n",
       "longitude                    0\n",
       "latitude                     0\n",
       "wpt_name                     0\n",
       "num_private                  0\n",
       "basin                        0\n",
       "subvillage                 371\n",
       "region                       0\n",
       "region_code                  0\n",
       "district_code                0\n",
       "lga                          0\n",
       "ward                         0\n",
       "population                   0\n",
       "public_meeting            3334\n",
       "recorded_by                  0\n",
       "scheme_management         3877\n",
       "scheme_name              28166\n",
       "permit                    3056\n",
       "construction_year            0\n",
       "extraction_type              0\n",
       "extraction_type_group        0\n",
       "extraction_type_class        0\n",
       "management                   0\n",
       "management_group             0\n",
       "payment                      0\n",
       "payment_type                 0\n",
       "water_quality                0\n",
       "quality_group                0\n",
       "quantity                     0\n",
       "quantity_group               0\n",
       "source                       0\n",
       "source_type                  0\n",
       "source_class                 0\n",
       "waterpoint_type              0\n",
       "waterpoint_type_group        0\n",
       "status_group                 0\n",
       "dtype: int64"
      ]
     },
     "execution_count": 6,
     "metadata": {},
     "output_type": "execute_result"
    }
   ],
   "source": [
    "data.isnull().sum()"
   ]
  },
  {
   "cell_type": "code",
   "execution_count": 7,
   "metadata": {},
   "outputs": [
    {
     "data": {
      "text/plain": [
       "0"
      ]
     },
     "execution_count": 7,
     "metadata": {},
     "output_type": "execute_result"
    }
   ],
   "source": [
    "data.duplicated().sum()"
   ]
  },
  {
   "cell_type": "code",
   "execution_count": 8,
   "metadata": {},
   "outputs": [
    {
     "data": {
      "text/plain": [
       "functional                 0.543081\n",
       "non functional             0.384242\n",
       "functional needs repair    0.072677\n",
       "Name: status_group, dtype: float64"
      ]
     },
     "execution_count": 8,
     "metadata": {},
     "output_type": "execute_result"
    }
   ],
   "source": [
    "data.status_group.value_counts(normalize = True)"
   ]
  },
  {
   "cell_type": "code",
   "execution_count": 9,
   "metadata": {},
   "outputs": [],
   "source": [
    "data.loc[data.status_group == 'functional needs repair', 'status_group'] = 'functional'"
   ]
  },
  {
   "cell_type": "markdown",
   "metadata": {},
   "source": [
    "We will focus on providing immediate help to people without clean water. Non functional wells will be prioritized first. Functional wells in need of repair will be group with functional wells."
   ]
  },
  {
   "cell_type": "code",
   "execution_count": 10,
   "metadata": {},
   "outputs": [
    {
     "data": {
      "text/plain": [
       "functional        0.615758\n",
       "non functional    0.384242\n",
       "Name: status_group, dtype: float64"
      ]
     },
     "execution_count": 10,
     "metadata": {},
     "output_type": "execute_result"
    }
   ],
   "source": [
    "data.status_group.value_counts(normalize = True)"
   ]
  },
  {
   "cell_type": "markdown",
   "metadata": {},
   "source": [
    "Based on feature description of the data set from the competition, there may be features that may contain the same information. There is also a class imbalance, 38% are non functional, and 61% are functional."
   ]
  },
  {
   "cell_type": "code",
   "execution_count": 11,
   "metadata": {},
   "outputs": [
    {
     "data": {
      "text/plain": [
       "id                       59400\n",
       "amount_tsh                  98\n",
       "date_recorded              356\n",
       "funder                    1897\n",
       "gps_height                2428\n",
       "installer                 2145\n",
       "longitude                57516\n",
       "latitude                 57517\n",
       "wpt_name                 37400\n",
       "num_private                 65\n",
       "basin                        9\n",
       "subvillage               19287\n",
       "region                      21\n",
       "region_code                 27\n",
       "district_code               20\n",
       "lga                        125\n",
       "ward                      2092\n",
       "population                1049\n",
       "public_meeting               2\n",
       "recorded_by                  1\n",
       "scheme_management           12\n",
       "scheme_name               2696\n",
       "permit                       2\n",
       "construction_year           55\n",
       "extraction_type             18\n",
       "extraction_type_group       13\n",
       "extraction_type_class        7\n",
       "management                  12\n",
       "management_group             5\n",
       "payment                      7\n",
       "payment_type                 7\n",
       "water_quality                8\n",
       "quality_group                6\n",
       "quantity                     5\n",
       "quantity_group               5\n",
       "source                      10\n",
       "source_type                  7\n",
       "source_class                 3\n",
       "waterpoint_type              7\n",
       "waterpoint_type_group        6\n",
       "status_group                 2\n",
       "dtype: int64"
      ]
     },
     "execution_count": 11,
     "metadata": {},
     "output_type": "execute_result"
    }
   ],
   "source": [
    "data.nunique()"
   ]
  },
  {
   "cell_type": "markdown",
   "metadata": {},
   "source": [
    "#### Examining similar features"
   ]
  },
  {
   "cell_type": "markdown",
   "metadata": {},
   "source": [
    "Description of features show several features that may contain the same information.\n",
    "\n",
    "* scheme_management - Who operates the waterpoint\n",
    "* scheme_name - Who operates the waterpoint\n",
    "* management - How the waterpoint is managed\n",
    "* management_group - How the waterpoint is managed"
   ]
  },
  {
   "cell_type": "code",
   "execution_count": 12,
   "metadata": {},
   "outputs": [
    {
     "data": {
      "text/plain": [
       "VWC                 36793\n",
       "WUG                  5206\n",
       "Water authority      3153\n",
       "WUA                  2883\n",
       "Water Board          2748\n",
       "Parastatal           1680\n",
       "Private operator     1063\n",
       "Company              1061\n",
       "Other                 766\n",
       "SWC                    97\n",
       "Trust                  72\n",
       "None                    1\n",
       "Name: scheme_management, dtype: int64"
      ]
     },
     "execution_count": 12,
     "metadata": {},
     "output_type": "execute_result"
    }
   ],
   "source": [
    "data.scheme_management.value_counts()"
   ]
  },
  {
   "cell_type": "code",
   "execution_count": 13,
   "metadata": {},
   "outputs": [
    {
     "data": {
      "text/plain": [
       "K                            682\n",
       "None                         644\n",
       "Borehole                     546\n",
       "Chalinze wate                405\n",
       "M                            400\n",
       "                            ... \n",
       "Kigonigoni water supply        1\n",
       "Nameqhuwadiba                  1\n",
       "Mradi wa maji wa Maposeni      1\n",
       "Kasahunga pipe scheme          1\n",
       "Ikungi                         1\n",
       "Name: scheme_name, Length: 2696, dtype: int64"
      ]
     },
     "execution_count": 13,
     "metadata": {},
     "output_type": "execute_result"
    }
   ],
   "source": [
    "data.scheme_name.value_counts()"
   ]
  },
  {
   "cell_type": "code",
   "execution_count": 14,
   "metadata": {},
   "outputs": [
    {
     "data": {
      "text/plain": [
       "vwc                 40507\n",
       "wug                  6515\n",
       "water board          2933\n",
       "wua                  2535\n",
       "private operator     1971\n",
       "parastatal           1768\n",
       "water authority       904\n",
       "other                 844\n",
       "company               685\n",
       "unknown               561\n",
       "other - school         99\n",
       "trust                  78\n",
       "Name: management, dtype: int64"
      ]
     },
     "execution_count": 14,
     "metadata": {},
     "output_type": "execute_result"
    }
   ],
   "source": [
    "data.management.value_counts()"
   ]
  },
  {
   "cell_type": "markdown",
   "metadata": {},
   "source": [
    "scheme_name has a high amount unique values with low occurrence and also contains 28166 null values, this feature can be dropped. scheme_management contains similar values as management feature but contains 3877 null values. We can drop scheme_management in favor of management feature."
   ]
  },
  {
   "cell_type": "code",
   "execution_count": 15,
   "metadata": {},
   "outputs": [
    {
     "data": {
      "text/plain": [
       "user-group    52490\n",
       "commercial     3638\n",
       "parastatal     1768\n",
       "other           943\n",
       "unknown         561\n",
       "Name: management_group, dtype: int64"
      ]
     },
     "execution_count": 15,
     "metadata": {},
     "output_type": "execute_result"
    }
   ],
   "source": [
    "data.management_group.value_counts()"
   ]
  },
  {
   "cell_type": "code",
   "execution_count": 16,
   "metadata": {},
   "outputs": [
    {
     "data": {
      "text/plain": [
       "management_group  management      \n",
       "commercial        company               685\n",
       "                  private operator     1971\n",
       "                  trust                  78\n",
       "                  water authority       904\n",
       "other             other                 844\n",
       "                  other - school         99\n",
       "parastatal        parastatal           1768\n",
       "unknown           unknown               561\n",
       "user-group        vwc                 40507\n",
       "                  water board          2933\n",
       "                  wua                  2535\n",
       "                  wug                  6515\n",
       "Name: status_group, dtype: int64"
      ]
     },
     "execution_count": 16,
     "metadata": {},
     "output_type": "execute_result"
    }
   ],
   "source": [
    "data.groupby(['management_group', 'management'])['status_group'].count()"
   ]
  },
  {
   "cell_type": "markdown",
   "metadata": {},
   "source": [
    "management_group feature seems to be aggregate of management feature. We will drop management_group as subgroups show different ratios of function and non functional wells."
   ]
  },
  {
   "cell_type": "code",
   "execution_count": 17,
   "metadata": {},
   "outputs": [
    {
     "data": {
      "image/png": "[encoded data removed]",
      "text/plain": [
       "<Figure size 2160x1080 with 1 Axes>"
      ]
     },
     "metadata": {
      "needs_background": "light"
     },
     "output_type": "display_data"
    }
   ],
   "source": [
    "plt.figure(figsize=(30,15))\n",
    "ax = sns.countplot(x = 'management', hue = 'status_group', data = data)"
   ]
  },
  {
   "cell_type": "code",
   "execution_count": 18,
   "metadata": {},
   "outputs": [
    {
     "data": {
      "image/png": "[encoded data removed]",
      "text/plain": [
       "<Figure size 2160x1080 with 1 Axes>"
      ]
     },
     "metadata": {
      "needs_background": "light"
     },
     "output_type": "display_data"
    }
   ],
   "source": [
    "plt.figure(figsize=(30,15))\n",
    "ax = sns.countplot(x = 'management_group', hue = 'status_group', data = data)"
   ]
  },
  {
   "cell_type": "code",
   "execution_count": 19,
   "metadata": {},
   "outputs": [],
   "source": [
    "# creating list of features to drop\n",
    "to_drop = ['scheme_management', 'scheme_name', 'management_group']"
   ]
  },
  {
   "cell_type": "markdown",
   "metadata": {},
   "source": [
    "Extraction features shows values are similar.\n",
    "\n",
    "* extraction_type - The kind of extraction the waterpoint uses\n",
    "* extraction_type_group - The kind of extraction the waterpoint uses\n",
    "* extraction_type_class - The kind of extraction the waterpoint uses"
   ]
  },
  {
   "cell_type": "code",
   "execution_count": 20,
   "metadata": {},
   "outputs": [
    {
     "data": {
      "text/plain": [
       "gravity                      26780\n",
       "nira/tanira                   8154\n",
       "other                         6430\n",
       "submersible                   4764\n",
       "swn 80                        3670\n",
       "mono                          2865\n",
       "india mark ii                 2400\n",
       "afridev                       1770\n",
       "ksb                           1415\n",
       "other - rope pump              451\n",
       "other - swn 81                 229\n",
       "windmill                       117\n",
       "india mark iii                  98\n",
       "cemo                            90\n",
       "other - play pump               85\n",
       "walimi                          48\n",
       "climax                          32\n",
       "other - mkulima/shinyanga        2\n",
       "Name: extraction_type, dtype: int64"
      ]
     },
     "execution_count": 20,
     "metadata": {},
     "output_type": "execute_result"
    }
   ],
   "source": [
    "data.extraction_type.value_counts()"
   ]
  },
  {
   "cell_type": "code",
   "execution_count": 21,
   "metadata": {},
   "outputs": [
    {
     "data": {
      "text/plain": [
       "gravity            26780\n",
       "nira/tanira         8154\n",
       "other               6430\n",
       "submersible         6179\n",
       "swn 80              3670\n",
       "mono                2865\n",
       "india mark ii       2400\n",
       "afridev             1770\n",
       "rope pump            451\n",
       "other handpump       364\n",
       "other motorpump      122\n",
       "wind-powered         117\n",
       "india mark iii        98\n",
       "Name: extraction_type_group, dtype: int64"
      ]
     },
     "execution_count": 21,
     "metadata": {},
     "output_type": "execute_result"
    }
   ],
   "source": [
    "data.extraction_type_group.value_counts()"
   ]
  },
  {
   "cell_type": "code",
   "execution_count": 22,
   "metadata": {},
   "outputs": [
    {
     "data": {
      "text/plain": [
       "gravity         26780\n",
       "handpump        16456\n",
       "other            6430\n",
       "submersible      6179\n",
       "motorpump        2987\n",
       "rope pump         451\n",
       "wind-powered      117\n",
       "Name: extraction_type_class, dtype: int64"
      ]
     },
     "execution_count": 22,
     "metadata": {},
     "output_type": "execute_result"
    }
   ],
   "source": [
    "data.extraction_type_class.value_counts()"
   ]
  },
  {
   "cell_type": "code",
   "execution_count": 23,
   "metadata": {},
   "outputs": [
    {
     "data": {
      "text/plain": [
       "extraction_type_class  extraction_type_group  extraction_type          \n",
       "gravity                gravity                gravity                      26780\n",
       "handpump               afridev                afridev                       1770\n",
       "                       india mark ii          india mark ii                 2400\n",
       "                       india mark iii         india mark iii                  98\n",
       "                       nira/tanira            nira/tanira                   8154\n",
       "                       other handpump         other - mkulima/shinyanga        2\n",
       "                                              other - play pump               85\n",
       "                                              other - swn 81                 229\n",
       "                                              walimi                          48\n",
       "                       swn 80                 swn 80                        3670\n",
       "motorpump              mono                   mono                          2865\n",
       "                       other motorpump        cemo                            90\n",
       "                                              climax                          32\n",
       "other                  other                  other                         6430\n",
       "rope pump              rope pump              other - rope pump              451\n",
       "submersible            submersible            ksb                           1415\n",
       "                                              submersible                   4764\n",
       "wind-powered           wind-powered           windmill                       117\n",
       "Name: status_group, dtype: int64"
      ]
     },
     "execution_count": 23,
     "metadata": {},
     "output_type": "execute_result"
    }
   ],
   "source": [
    "data.groupby(['extraction_type_class','extraction_type_group', 'extraction_type'])['status_group'].count()"
   ]
  },
  {
   "cell_type": "markdown",
   "metadata": {},
   "source": [
    "We will keep only extraction_type_group, due to many sub groups from extraction_type having few occurrences."
   ]
  },
  {
   "cell_type": "code",
   "execution_count": 24,
   "metadata": {},
   "outputs": [],
   "source": [
    "# adding deatures to drop list\n",
    "to_drop.extend(['extraction_type', 'extraction_type_class'])"
   ]
  },
  {
   "cell_type": "code",
   "execution_count": 25,
   "metadata": {},
   "outputs": [
    {
     "data": {
      "image/png": "[encoded data removed]",
      "text/plain": [
       "<Figure size 2160x1080 with 1 Axes>"
      ]
     },
     "metadata": {
      "needs_background": "light"
     },
     "output_type": "display_data"
    }
   ],
   "source": [
    "plt.figure(figsize=(30,15))\n",
    "ax = sns.countplot(x = 'extraction_type_group', hue = 'status_group', data = data)"
   ]
  },
  {
   "cell_type": "markdown",
   "metadata": {},
   "source": [
    "Payment features contain same values, one of these can be dropped.\n",
    "\n",
    "* payment - What the water costs\n",
    "* payment_type - What the water costs"
   ]
  },
  {
   "cell_type": "code",
   "execution_count": 26,
   "metadata": {},
   "outputs": [
    {
     "data": {
      "text/plain": [
       "never pay                25348\n",
       "pay per bucket            8985\n",
       "pay monthly               8300\n",
       "unknown                   8157\n",
       "pay when scheme fails     3914\n",
       "pay annually              3642\n",
       "other                     1054\n",
       "Name: payment, dtype: int64"
      ]
     },
     "execution_count": 26,
     "metadata": {},
     "output_type": "execute_result"
    }
   ],
   "source": [
    "data.payment.value_counts()"
   ]
  },
  {
   "cell_type": "code",
   "execution_count": 27,
   "metadata": {},
   "outputs": [
    {
     "data": {
      "text/plain": [
       "never pay     25348\n",
       "per bucket     8985\n",
       "monthly        8300\n",
       "unknown        8157\n",
       "on failure     3914\n",
       "annually       3642\n",
       "other          1054\n",
       "Name: payment_type, dtype: int64"
      ]
     },
     "execution_count": 27,
     "metadata": {},
     "output_type": "execute_result"
    }
   ],
   "source": [
    "data.payment_type.value_counts()"
   ]
  },
  {
   "cell_type": "code",
   "execution_count": 28,
   "metadata": {},
   "outputs": [
    {
     "data": {
      "image/png": "[encoded data removed]",
      "text/plain": [
       "<Figure size 2160x1080 with 1 Axes>"
      ]
     },
     "metadata": {
      "needs_background": "light"
     },
     "output_type": "display_data"
    }
   ],
   "source": [
    "plt.figure(figsize=(30,15))\n",
    "ax = sns.countplot(x = 'payment', hue = 'status_group', data = data)"
   ]
  },
  {
   "cell_type": "code",
   "execution_count": 29,
   "metadata": {},
   "outputs": [],
   "source": [
    "to_drop.append('payment_type')"
   ]
  },
  {
   "cell_type": "markdown",
   "metadata": {},
   "source": [
    "Water quality features also contain same values. water_quality has two additional values listed as abandoned, but due to low occurrence, we will drop this feature in favor of quality_group.\n",
    "\n",
    "* water_quality - The quality of the water\n",
    "* quality_group - The quality of the water"
   ]
  },
  {
   "cell_type": "code",
   "execution_count": 30,
   "metadata": {},
   "outputs": [
    {
     "data": {
      "text/plain": [
       "soft                  50818\n",
       "salty                  4856\n",
       "unknown                1876\n",
       "milky                   804\n",
       "coloured                490\n",
       "salty abandoned         339\n",
       "fluoride                200\n",
       "fluoride abandoned       17\n",
       "Name: water_quality, dtype: int64"
      ]
     },
     "execution_count": 30,
     "metadata": {},
     "output_type": "execute_result"
    }
   ],
   "source": [
    "data.water_quality.value_counts()"
   ]
  },
  {
   "cell_type": "code",
   "execution_count": 31,
   "metadata": {},
   "outputs": [
    {
     "data": {
      "text/plain": [
       "good        50818\n",
       "salty        5195\n",
       "unknown      1876\n",
       "milky         804\n",
       "colored       490\n",
       "fluoride      217\n",
       "Name: quality_group, dtype: int64"
      ]
     },
     "execution_count": 31,
     "metadata": {},
     "output_type": "execute_result"
    }
   ],
   "source": [
    "data.quality_group.value_counts()"
   ]
  },
  {
   "cell_type": "code",
   "execution_count": 32,
   "metadata": {},
   "outputs": [
    {
     "data": {
      "image/png": "[encoded data removed]",
      "text/plain": [
       "<Figure size 2160x1080 with 1 Axes>"
      ]
     },
     "metadata": {
      "needs_background": "light"
     },
     "output_type": "display_data"
    }
   ],
   "source": [
    "plt.figure(figsize=(30,15))\n",
    "ax = sns.countplot(x = 'quality_group', hue = 'status_group', data = data)"
   ]
  },
  {
   "cell_type": "code",
   "execution_count": 33,
   "metadata": {},
   "outputs": [],
   "source": [
    "to_drop.append('water_quality')"
   ]
  },
  {
   "cell_type": "markdown",
   "metadata": {},
   "source": [
    "Quantity features contain the same values, one of these can be dropped.\n",
    "\n",
    "* quantity - The quantity of water\n",
    "* quantity_group - The quantity of water"
   ]
  },
  {
   "cell_type": "code",
   "execution_count": 34,
   "metadata": {},
   "outputs": [
    {
     "data": {
      "text/plain": [
       "enough          33186\n",
       "insufficient    15129\n",
       "dry              6246\n",
       "seasonal         4050\n",
       "unknown           789\n",
       "Name: quantity, dtype: int64"
      ]
     },
     "execution_count": 34,
     "metadata": {},
     "output_type": "execute_result"
    }
   ],
   "source": [
    "data.quantity.value_counts()"
   ]
  },
  {
   "cell_type": "code",
   "execution_count": 35,
   "metadata": {},
   "outputs": [
    {
     "data": {
      "text/plain": [
       "enough          33186\n",
       "insufficient    15129\n",
       "dry              6246\n",
       "seasonal         4050\n",
       "unknown           789\n",
       "Name: quantity_group, dtype: int64"
      ]
     },
     "execution_count": 35,
     "metadata": {},
     "output_type": "execute_result"
    }
   ],
   "source": [
    "data.quantity_group.value_counts()"
   ]
  },
  {
   "cell_type": "code",
   "execution_count": 36,
   "metadata": {},
   "outputs": [
    {
     "data": {
      "image/png": "[encoded data removed]",
      "text/plain": [
       "<Figure size 2160x1080 with 1 Axes>"
      ]
     },
     "metadata": {
      "needs_background": "light"
     },
     "output_type": "display_data"
    }
   ],
   "source": [
    "plt.figure(figsize=(30,15))\n",
    "ax = sns.countplot(x = 'quantity', hue = 'status_group', data = data)"
   ]
  },
  {
   "cell_type": "code",
   "execution_count": 37,
   "metadata": {},
   "outputs": [],
   "source": [
    "to_drop.append('quantity_group')"
   ]
  },
  {
   "cell_type": "markdown",
   "metadata": {},
   "source": [
    "Source features contain similar values. We will keep only source_type, as additional sub groups from source feature have low occurrence.\n",
    "\n",
    "* source - The source of the water\n",
    "* source_type - The source of the water\n",
    "* source_class - The source of the water"
   ]
  },
  {
   "cell_type": "code",
   "execution_count": 38,
   "metadata": {},
   "outputs": [
    {
     "data": {
      "text/plain": [
       "spring                  17021\n",
       "shallow well            16824\n",
       "machine dbh             11075\n",
       "river                    9612\n",
       "rainwater harvesting     2295\n",
       "hand dtw                  874\n",
       "lake                      765\n",
       "dam                       656\n",
       "other                     212\n",
       "unknown                    66\n",
       "Name: source, dtype: int64"
      ]
     },
     "execution_count": 38,
     "metadata": {},
     "output_type": "execute_result"
    }
   ],
   "source": [
    "data.source.value_counts()"
   ]
  },
  {
   "cell_type": "code",
   "execution_count": 39,
   "metadata": {},
   "outputs": [
    {
     "data": {
      "text/plain": [
       "spring                  17021\n",
       "shallow well            16824\n",
       "borehole                11949\n",
       "river/lake              10377\n",
       "rainwater harvesting     2295\n",
       "dam                       656\n",
       "other                     278\n",
       "Name: source_type, dtype: int64"
      ]
     },
     "execution_count": 39,
     "metadata": {},
     "output_type": "execute_result"
    }
   ],
   "source": [
    "data.source_type.value_counts()"
   ]
  },
  {
   "cell_type": "code",
   "execution_count": 40,
   "metadata": {},
   "outputs": [
    {
     "data": {
      "text/plain": [
       "groundwater    45794\n",
       "surface        13328\n",
       "unknown          278\n",
       "Name: source_class, dtype: int64"
      ]
     },
     "execution_count": 40,
     "metadata": {},
     "output_type": "execute_result"
    }
   ],
   "source": [
    "data.source_class.value_counts()"
   ]
  },
  {
   "cell_type": "code",
   "execution_count": 41,
   "metadata": {},
   "outputs": [
    {
     "data": {
      "text/plain": [
       "source_class  source_type           source              \n",
       "groundwater   borehole              hand dtw                  874\n",
       "                                    machine dbh             11075\n",
       "              shallow well          shallow well            16824\n",
       "              spring                spring                  17021\n",
       "surface       dam                   dam                       656\n",
       "              rainwater harvesting  rainwater harvesting     2295\n",
       "              river/lake            lake                      765\n",
       "                                    river                    9612\n",
       "unknown       other                 other                     212\n",
       "                                    unknown                    66\n",
       "Name: status_group, dtype: int64"
      ]
     },
     "execution_count": 41,
     "metadata": {},
     "output_type": "execute_result"
    }
   ],
   "source": [
    "data.groupby(['source_class','source_type', 'source'])['status_group'].count()"
   ]
  },
  {
   "cell_type": "code",
   "execution_count": 42,
   "metadata": {},
   "outputs": [
    {
     "data": {
      "image/png": "[encoded data removed]",
      "text/plain": [
       "<Figure size 2160x1080 with 1 Axes>"
      ]
     },
     "metadata": {
      "needs_background": "light"
     },
     "output_type": "display_data"
    }
   ],
   "source": [
    "plt.figure(figsize=(30,15))\n",
    "ax = sns.countplot(x = 'source_type', hue = 'status_group', data = data)"
   ]
  },
  {
   "cell_type": "code",
   "execution_count": 43,
   "metadata": {},
   "outputs": [],
   "source": [
    "to_drop.extend(['source', 'source_class'])"
   ]
  },
  {
   "cell_type": "markdown",
   "metadata": {},
   "source": [
    "Waterpoint features are very similar. We will keep waterpoint_type due to data showing communal standpipe multiple having more non functional wells than functional.\n",
    "\n",
    "* waterpoint_type - The kind of waterpoint\n",
    "* waterpoint_type_group - The kind of waterpoint"
   ]
  },
  {
   "cell_type": "code",
   "execution_count": 44,
   "metadata": {},
   "outputs": [
    {
     "data": {
      "text/plain": [
       "communal standpipe             28522\n",
       "hand pump                      17488\n",
       "other                           6380\n",
       "communal standpipe multiple     6103\n",
       "improved spring                  784\n",
       "cattle trough                    116\n",
       "dam                                7\n",
       "Name: waterpoint_type, dtype: int64"
      ]
     },
     "execution_count": 44,
     "metadata": {},
     "output_type": "execute_result"
    }
   ],
   "source": [
    "data.waterpoint_type.value_counts()"
   ]
  },
  {
   "cell_type": "code",
   "execution_count": 45,
   "metadata": {},
   "outputs": [
    {
     "data": {
      "text/plain": [
       "communal standpipe    34625\n",
       "hand pump             17488\n",
       "other                  6380\n",
       "improved spring         784\n",
       "cattle trough           116\n",
       "dam                       7\n",
       "Name: waterpoint_type_group, dtype: int64"
      ]
     },
     "execution_count": 45,
     "metadata": {},
     "output_type": "execute_result"
    }
   ],
   "source": [
    "data.waterpoint_type_group.value_counts()"
   ]
  },
  {
   "cell_type": "code",
   "execution_count": 46,
   "metadata": {},
   "outputs": [
    {
     "data": {
      "image/png": "[encoded data removed]",
      "text/plain": [
       "<Figure size 2160x1080 with 1 Axes>"
      ]
     },
     "metadata": {
      "needs_background": "light"
     },
     "output_type": "display_data"
    }
   ],
   "source": [
    "plt.figure(figsize=(30,15))\n",
    "ax = sns.countplot(x = 'waterpoint_type', hue = 'status_group', data = data)"
   ]
  },
  {
   "cell_type": "code",
   "execution_count": 47,
   "metadata": {},
   "outputs": [],
   "source": [
    "to_drop.append('waterpoint_type_group')"
   ]
  },
  {
   "cell_type": "markdown",
   "metadata": {},
   "source": [
    "Moving on to location features.\n",
    "\n",
    "* subvillage - Geographic location\n",
    "* region - Geographic location\n",
    "* region_code - Geographic location (coded)\n",
    "* district_code - Geographic location (coded)\n",
    "* lga - Geographic location\n",
    "* ward - Geographic location"
   ]
  },
  {
   "cell_type": "code",
   "execution_count": 48,
   "metadata": {},
   "outputs": [
    {
     "data": {
      "text/plain": [
       "Madukani          508\n",
       "Shuleni           506\n",
       "Majengo           502\n",
       "Kati              373\n",
       "Mtakuja           262\n",
       "                 ... \n",
       "Nyamajiva           1\n",
       "Nachitalala         1\n",
       "Emugurunanyoki      1\n",
       "Wtskim              1\n",
       "Nhombola            1\n",
       "Name: subvillage, Length: 19287, dtype: int64"
      ]
     },
     "execution_count": 48,
     "metadata": {},
     "output_type": "execute_result"
    }
   ],
   "source": [
    "data.subvillage.value_counts()"
   ]
  },
  {
   "cell_type": "markdown",
   "metadata": {},
   "source": [
    "subvillage contains high number of unique values, this feature will be dropped."
   ]
  },
  {
   "cell_type": "code",
   "execution_count": 49,
   "metadata": {},
   "outputs": [
    {
     "data": {
      "text/plain": [
       "Iringa           5294\n",
       "Shinyanga        4982\n",
       "Mbeya            4639\n",
       "Kilimanjaro      4379\n",
       "Morogoro         4006\n",
       "Arusha           3350\n",
       "Kagera           3316\n",
       "Mwanza           3102\n",
       "Kigoma           2816\n",
       "Ruvuma           2640\n",
       "Pwani            2635\n",
       "Tanga            2547\n",
       "Dodoma           2201\n",
       "Singida          2093\n",
       "Mara             1969\n",
       "Tabora           1959\n",
       "Rukwa            1808\n",
       "Mtwara           1730\n",
       "Manyara          1583\n",
       "Lindi            1546\n",
       "Dar es Salaam     805\n",
       "Name: region, dtype: int64"
      ]
     },
     "execution_count": 49,
     "metadata": {},
     "output_type": "execute_result"
    }
   ],
   "source": [
    "data.region.value_counts()"
   ]
  },
  {
   "cell_type": "code",
   "execution_count": 50,
   "metadata": {},
   "outputs": [
    {
     "data": {
      "image/png": "[encoded data removed]",
      "text/plain": [
       "<Figure size 2160x1080 with 1 Axes>"
      ]
     },
     "metadata": {
      "needs_background": "light"
     },
     "output_type": "display_data"
    }
   ],
   "source": [
    "plt.figure(figsize=(30,15))\n",
    "ax = sns.countplot(x = 'region', hue = 'status_group', data = data)"
   ]
  },
  {
   "cell_type": "code",
   "execution_count": 51,
   "metadata": {},
   "outputs": [
    {
     "data": {
      "text/plain": [
       "region         region_code\n",
       "Arusha         2              3024\n",
       "               24              326\n",
       "Dar es Salaam  7               805\n",
       "Dodoma         1              2201\n",
       "Iringa         11             5294\n",
       "Kagera         18             3316\n",
       "Kigoma         16             2816\n",
       "Kilimanjaro    3              4379\n",
       "Lindi          8               300\n",
       "               18                8\n",
       "               80             1238\n",
       "Manyara        21             1583\n",
       "Mara           20             1969\n",
       "Mbeya          12             4639\n",
       "Morogoro       5              4006\n",
       "Mtwara         9               390\n",
       "               90              917\n",
       "               99              423\n",
       "Mwanza         17               55\n",
       "               19             3047\n",
       "Pwani          6              1609\n",
       "               40                1\n",
       "               60             1025\n",
       "Rukwa          15             1808\n",
       "Ruvuma         10             2640\n",
       "Shinyanga      11                6\n",
       "               14               20\n",
       "               17             4956\n",
       "Singida        13             2093\n",
       "Tabora         14             1959\n",
       "Tanga          4              2513\n",
       "               5                34\n",
       "Name: status_group, dtype: int64"
      ]
     },
     "execution_count": 51,
     "metadata": {},
     "output_type": "execute_result"
    }
   ],
   "source": [
    "data.groupby(['region', 'region_code'])['status_group'].count()"
   ]
  },
  {
   "cell_type": "code",
   "execution_count": 52,
   "metadata": {},
   "outputs": [
    {
     "data": {
      "text/plain": [
       "1     12203\n",
       "2     11173\n",
       "3      9998\n",
       "4      8999\n",
       "5      4356\n",
       "6      4074\n",
       "7      3343\n",
       "8      1043\n",
       "30      995\n",
       "33      874\n",
       "53      745\n",
       "43      505\n",
       "13      391\n",
       "23      293\n",
       "63      195\n",
       "62      109\n",
       "60       63\n",
       "0        23\n",
       "80       12\n",
       "67        6\n",
       "Name: district_code, dtype: int64"
      ]
     },
     "execution_count": 52,
     "metadata": {},
     "output_type": "execute_result"
    }
   ],
   "source": [
    "data.district_code.value_counts()"
   ]
  },
  {
   "cell_type": "code",
   "execution_count": 53,
   "metadata": {
    "scrolled": false
   },
   "outputs": [
    {
     "data": {
      "text/plain": [
       "region  district_code\n",
       "Arusha  1                 189\n",
       "        2                1206\n",
       "        3                 109\n",
       "        5                 201\n",
       "        6                 310\n",
       "                         ... \n",
       "Tanga   4                 110\n",
       "        5                 293\n",
       "        6                 266\n",
       "        7                 127\n",
       "        8                 288\n",
       "Name: status_group, Length: 132, dtype: int64"
      ]
     },
     "execution_count": 53,
     "metadata": {},
     "output_type": "execute_result"
    }
   ],
   "source": [
    "data.groupby(['region', 'district_code'])['status_group'].count()"
   ]
  },
  {
   "cell_type": "code",
   "execution_count": 54,
   "metadata": {},
   "outputs": [
    {
     "data": {
      "image/png": "[encoded data removed]",
      "text/plain": [
       "<Figure size 2160x1080 with 1 Axes>"
      ]
     },
     "metadata": {
      "needs_background": "light"
     },
     "output_type": "display_data"
    }
   ],
   "source": [
    "plt.figure(figsize=(30,15))\n",
    "ax = sns.countplot(x = 'district_code', hue = 'status_group', data = data)"
   ]
  },
  {
   "cell_type": "code",
   "execution_count": 55,
   "metadata": {},
   "outputs": [
    {
     "data": {
      "text/plain": [
       "Dodoma    23\n",
       "Name: region, dtype: int64"
      ]
     },
     "execution_count": 55,
     "metadata": {},
     "output_type": "execute_result"
    }
   ],
   "source": [
    "data[data.district_code == 0]['region'].value_counts()"
   ]
  },
  {
   "cell_type": "markdown",
   "metadata": {},
   "source": [
    "We are unsure of what values district_code represents. It seems to be a ranking of districts within a region (with 1 being highest rank). Various regions contain similar district_code values. Above graph does show as district_code increases there are more non functional wells compared to functional. 0 value may be represented as not recorded or unknown."
   ]
  },
  {
   "cell_type": "code",
   "execution_count": 56,
   "metadata": {},
   "outputs": [
    {
     "data": {
      "text/plain": [
       "Njombe          2503\n",
       "Arusha Rural    1252\n",
       "Moshi Rural     1251\n",
       "Bariadi         1177\n",
       "Rungwe          1106\n",
       "                ... \n",
       "Moshi Urban       79\n",
       "Kigoma Urban      71\n",
       "Arusha Urban      63\n",
       "Lindi Urban       21\n",
       "Nyamagana          1\n",
       "Name: lga, Length: 125, dtype: int64"
      ]
     },
     "execution_count": 56,
     "metadata": {},
     "output_type": "execute_result"
    }
   ],
   "source": [
    "data.lga.value_counts()"
   ]
  },
  {
   "cell_type": "code",
   "execution_count": 57,
   "metadata": {
    "scrolled": false
   },
   "outputs": [
    {
     "data": {
      "text/plain": [
       "region  lga         \n",
       "Arusha  Arusha Rural    1252\n",
       "        Arusha Urban      63\n",
       "        Karatu           326\n",
       "        Longido          310\n",
       "        Meru            1009\n",
       "                        ... \n",
       "Tanga   Lushoto          694\n",
       "        Mkinga           288\n",
       "        Muheza           334\n",
       "        Pangani          305\n",
       "        Tanga             99\n",
       "Name: status_group, Length: 125, dtype: int64"
      ]
     },
     "execution_count": 57,
     "metadata": {},
     "output_type": "execute_result"
    }
   ],
   "source": [
    "data.groupby(['region', 'lga'])['status_group'].count()"
   ]
  },
  {
   "cell_type": "markdown",
   "metadata": {},
   "source": [
    "Based on a google search values in lga feature seem to be the districts within each region."
   ]
  },
  {
   "cell_type": "code",
   "execution_count": 58,
   "metadata": {},
   "outputs": [
    {
     "data": {
      "text/plain": [
       "Igosi            307\n",
       "Imalinyi         252\n",
       "Siha Kati        232\n",
       "Mdandu           231\n",
       "Nduruma          217\n",
       "                ... \n",
       "Mitole             1\n",
       "Kihangimahuka      1\n",
       "Chinugulu          1\n",
       "Matarawe           1\n",
       "Kapilula           1\n",
       "Name: ward, Length: 2092, dtype: int64"
      ]
     },
     "execution_count": 58,
     "metadata": {},
     "output_type": "execute_result"
    }
   ],
   "source": [
    "data.ward.value_counts()"
   ]
  },
  {
   "cell_type": "markdown",
   "metadata": {},
   "source": [
    "ward feature contains a high number of unique values with low occurrence."
   ]
  },
  {
   "cell_type": "markdown",
   "metadata": {},
   "source": [
    "From wikipedia \"Tanzania is divided into thirty-one regions (mkoa in Swahili). Each region is subdivided into districts (wilaya in Swahili). The districts are sub-divided into divisions (tarafa in Swahili) and further into local wards (kata in Swahili).\"\n",
    "<br>\n",
    "<br>\n",
    "Out of the location features we will choose to keep lga and distict_code. "
   ]
  },
  {
   "cell_type": "code",
   "execution_count": 59,
   "metadata": {},
   "outputs": [],
   "source": [
    "to_drop.extend(['subvillage', 'region', 'region_code', 'ward'])"
   ]
  },
  {
   "cell_type": "markdown",
   "metadata": {},
   "source": [
    "#### Examining other columns"
   ]
  },
  {
   "cell_type": "markdown",
   "metadata": {},
   "source": [
    "Total static head feature contains around 70% of 0 values.\n",
    "\n",
    "* amount_tsh - Total static head (amount water available to waterpoint)"
   ]
  },
  {
   "cell_type": "code",
   "execution_count": 60,
   "metadata": {},
   "outputs": [
    {
     "data": {
      "text/plain": [
       "0.0         41639\n",
       "500.0        3102\n",
       "50.0         2472\n",
       "1000.0       1488\n",
       "20.0         1463\n",
       "            ...  \n",
       "8500.0          1\n",
       "6300.0          1\n",
       "220.0           1\n",
       "138000.0        1\n",
       "12.0            1\n",
       "Name: amount_tsh, Length: 98, dtype: int64"
      ]
     },
     "execution_count": 60,
     "metadata": {},
     "output_type": "execute_result"
    }
   ],
   "source": [
    "data.amount_tsh.value_counts()"
   ]
  },
  {
   "cell_type": "code",
   "execution_count": 61,
   "metadata": {},
   "outputs": [
    {
     "data": {
      "text/plain": [
       "count     59400.000000\n",
       "mean        317.650385\n",
       "std        2997.574558\n",
       "min           0.000000\n",
       "25%           0.000000\n",
       "50%           0.000000\n",
       "75%          20.000000\n",
       "max      350000.000000\n",
       "Name: amount_tsh, dtype: float64"
      ]
     },
     "execution_count": 61,
     "metadata": {},
     "output_type": "execute_result"
    }
   ],
   "source": [
    "data.amount_tsh.describe()"
   ]
  },
  {
   "cell_type": "code",
   "execution_count": 62,
   "metadata": {},
   "outputs": [
    {
     "data": {
      "image/png": "[encoded data removed]",
      "text/plain": [
       "<Figure size 2160x1080 with 1 Axes>"
      ]
     },
     "metadata": {
      "needs_background": "light"
     },
     "output_type": "display_data"
    }
   ],
   "source": [
    "plt.figure(figsize=(30,15))\n",
    "ax = sns.violinplot(x = 'status_group', y = 'amount_tsh', data = data);"
   ]
  },
  {
   "cell_type": "code",
   "execution_count": 63,
   "metadata": {},
   "outputs": [
    {
     "data": {
      "text/html": [
       "<div>\n",
       "<style scoped>\n",
       "    .dataframe tbody tr th:only-of-type {\n",
       "        vertical-align: middle;\n",
       "    }\n",
       "\n",
       "    .dataframe tbody tr th {\n",
       "        vertical-align: top;\n",
       "    }\n",
       "\n",
       "    .dataframe thead th {\n",
       "        text-align: right;\n",
       "    }\n",
       "</style>\n",
       "<table border=\"1\" class=\"dataframe\">\n",
       "  <thead>\n",
       "    <tr style=\"text-align: right;\">\n",
       "      <th></th>\n",
       "      <th>id</th>\n",
       "      <th>amount_tsh</th>\n",
       "      <th>date_recorded</th>\n",
       "      <th>funder</th>\n",
       "      <th>gps_height</th>\n",
       "      <th>installer</th>\n",
       "      <th>longitude</th>\n",
       "      <th>latitude</th>\n",
       "      <th>wpt_name</th>\n",
       "      <th>num_private</th>\n",
       "      <th>...</th>\n",
       "      <th>payment_type</th>\n",
       "      <th>water_quality</th>\n",
       "      <th>quality_group</th>\n",
       "      <th>quantity</th>\n",
       "      <th>quantity_group</th>\n",
       "      <th>source</th>\n",
       "      <th>source_type</th>\n",
       "      <th>source_class</th>\n",
       "      <th>waterpoint_type</th>\n",
       "      <th>waterpoint_type_group</th>\n",
       "    </tr>\n",
       "    <tr>\n",
       "      <th>status_group</th>\n",
       "      <th></th>\n",
       "      <th></th>\n",
       "      <th></th>\n",
       "      <th></th>\n",
       "      <th></th>\n",
       "      <th></th>\n",
       "      <th></th>\n",
       "      <th></th>\n",
       "      <th></th>\n",
       "      <th></th>\n",
       "      <th></th>\n",
       "      <th></th>\n",
       "      <th></th>\n",
       "      <th></th>\n",
       "      <th></th>\n",
       "      <th></th>\n",
       "      <th></th>\n",
       "      <th></th>\n",
       "      <th></th>\n",
       "      <th></th>\n",
       "      <th></th>\n",
       "    </tr>\n",
       "  </thead>\n",
       "  <tbody>\n",
       "    <tr>\n",
       "      <th>functional</th>\n",
       "      <td>22754</td>\n",
       "      <td>22754</td>\n",
       "      <td>22754</td>\n",
       "      <td>20661</td>\n",
       "      <td>22754</td>\n",
       "      <td>20645</td>\n",
       "      <td>22754</td>\n",
       "      <td>22754</td>\n",
       "      <td>22754</td>\n",
       "      <td>22754</td>\n",
       "      <td>...</td>\n",
       "      <td>22754</td>\n",
       "      <td>22754</td>\n",
       "      <td>22754</td>\n",
       "      <td>22754</td>\n",
       "      <td>22754</td>\n",
       "      <td>22754</td>\n",
       "      <td>22754</td>\n",
       "      <td>22754</td>\n",
       "      <td>22754</td>\n",
       "      <td>22754</td>\n",
       "    </tr>\n",
       "    <tr>\n",
       "      <th>non functional</th>\n",
       "      <td>18885</td>\n",
       "      <td>18885</td>\n",
       "      <td>18885</td>\n",
       "      <td>17697</td>\n",
       "      <td>18885</td>\n",
       "      <td>17698</td>\n",
       "      <td>18885</td>\n",
       "      <td>18885</td>\n",
       "      <td>18885</td>\n",
       "      <td>18885</td>\n",
       "      <td>...</td>\n",
       "      <td>18885</td>\n",
       "      <td>18885</td>\n",
       "      <td>18885</td>\n",
       "      <td>18885</td>\n",
       "      <td>18885</td>\n",
       "      <td>18885</td>\n",
       "      <td>18885</td>\n",
       "      <td>18885</td>\n",
       "      <td>18885</td>\n",
       "      <td>18885</td>\n",
       "    </tr>\n",
       "  </tbody>\n",
       "</table>\n",
       "<p>2 rows × 40 columns</p>\n",
       "</div>"
      ],
      "text/plain": [
       "                   id  amount_tsh  date_recorded  funder  gps_height  \\\n",
       "status_group                                                           \n",
       "functional      22754       22754          22754   20661       22754   \n",
       "non functional  18885       18885          18885   17697       18885   \n",
       "\n",
       "                installer  longitude  latitude  wpt_name  num_private  ...  \\\n",
       "status_group                                                           ...   \n",
       "functional          20645      22754     22754     22754        22754  ...   \n",
       "non functional      17698      18885     18885     18885        18885  ...   \n",
       "\n",
       "                payment_type  water_quality  quality_group  quantity  \\\n",
       "status_group                                                           \n",
       "functional             22754          22754          22754     22754   \n",
       "non functional         18885          18885          18885     18885   \n",
       "\n",
       "                quantity_group  source  source_type  source_class  \\\n",
       "status_group                                                        \n",
       "functional               22754   22754        22754         22754   \n",
       "non functional           18885   18885        18885         18885   \n",
       "\n",
       "                waterpoint_type  waterpoint_type_group  \n",
       "status_group                                            \n",
       "functional                22754                  22754  \n",
       "non functional            18885                  18885  \n",
       "\n",
       "[2 rows x 40 columns]"
      ]
     },
     "execution_count": 63,
     "metadata": {},
     "output_type": "execute_result"
    }
   ],
   "source": [
    "data[data.amount_tsh == 0].groupby('status_group').count()"
   ]
  },
  {
   "cell_type": "code",
   "execution_count": 64,
   "metadata": {},
   "outputs": [
    {
     "data": {
      "text/html": [
       "<div>\n",
       "<style scoped>\n",
       "    .dataframe tbody tr th:only-of-type {\n",
       "        vertical-align: middle;\n",
       "    }\n",
       "\n",
       "    .dataframe tbody tr th {\n",
       "        vertical-align: top;\n",
       "    }\n",
       "\n",
       "    .dataframe thead th {\n",
       "        text-align: right;\n",
       "    }\n",
       "</style>\n",
       "<table border=\"1\" class=\"dataframe\">\n",
       "  <thead>\n",
       "    <tr style=\"text-align: right;\">\n",
       "      <th></th>\n",
       "      <th>id</th>\n",
       "      <th>amount_tsh</th>\n",
       "      <th>date_recorded</th>\n",
       "      <th>funder</th>\n",
       "      <th>gps_height</th>\n",
       "      <th>installer</th>\n",
       "      <th>longitude</th>\n",
       "      <th>latitude</th>\n",
       "      <th>wpt_name</th>\n",
       "      <th>num_private</th>\n",
       "      <th>...</th>\n",
       "      <th>payment_type</th>\n",
       "      <th>water_quality</th>\n",
       "      <th>quality_group</th>\n",
       "      <th>quantity</th>\n",
       "      <th>quantity_group</th>\n",
       "      <th>source</th>\n",
       "      <th>source_type</th>\n",
       "      <th>source_class</th>\n",
       "      <th>waterpoint_type</th>\n",
       "      <th>waterpoint_type_group</th>\n",
       "    </tr>\n",
       "    <tr>\n",
       "      <th>status_group</th>\n",
       "      <th></th>\n",
       "      <th></th>\n",
       "      <th></th>\n",
       "      <th></th>\n",
       "      <th></th>\n",
       "      <th></th>\n",
       "      <th></th>\n",
       "      <th></th>\n",
       "      <th></th>\n",
       "      <th></th>\n",
       "      <th></th>\n",
       "      <th></th>\n",
       "      <th></th>\n",
       "      <th></th>\n",
       "      <th></th>\n",
       "      <th></th>\n",
       "      <th></th>\n",
       "      <th></th>\n",
       "      <th></th>\n",
       "      <th></th>\n",
       "      <th></th>\n",
       "    </tr>\n",
       "  </thead>\n",
       "  <tbody>\n",
       "    <tr>\n",
       "      <th>functional</th>\n",
       "      <td>13822</td>\n",
       "      <td>13822</td>\n",
       "      <td>13822</td>\n",
       "      <td>13497</td>\n",
       "      <td>13822</td>\n",
       "      <td>13491</td>\n",
       "      <td>13822</td>\n",
       "      <td>13822</td>\n",
       "      <td>13822</td>\n",
       "      <td>13822</td>\n",
       "      <td>...</td>\n",
       "      <td>13822</td>\n",
       "      <td>13822</td>\n",
       "      <td>13822</td>\n",
       "      <td>13822</td>\n",
       "      <td>13822</td>\n",
       "      <td>13822</td>\n",
       "      <td>13822</td>\n",
       "      <td>13822</td>\n",
       "      <td>13822</td>\n",
       "      <td>13822</td>\n",
       "    </tr>\n",
       "    <tr>\n",
       "      <th>non functional</th>\n",
       "      <td>3939</td>\n",
       "      <td>3939</td>\n",
       "      <td>3939</td>\n",
       "      <td>3910</td>\n",
       "      <td>3939</td>\n",
       "      <td>3911</td>\n",
       "      <td>3939</td>\n",
       "      <td>3939</td>\n",
       "      <td>3939</td>\n",
       "      <td>3939</td>\n",
       "      <td>...</td>\n",
       "      <td>3939</td>\n",
       "      <td>3939</td>\n",
       "      <td>3939</td>\n",
       "      <td>3939</td>\n",
       "      <td>3939</td>\n",
       "      <td>3939</td>\n",
       "      <td>3939</td>\n",
       "      <td>3939</td>\n",
       "      <td>3939</td>\n",
       "      <td>3939</td>\n",
       "    </tr>\n",
       "  </tbody>\n",
       "</table>\n",
       "<p>2 rows × 40 columns</p>\n",
       "</div>"
      ],
      "text/plain": [
       "                   id  amount_tsh  date_recorded  funder  gps_height  \\\n",
       "status_group                                                           \n",
       "functional      13822       13822          13822   13497       13822   \n",
       "non functional   3939        3939           3939    3910        3939   \n",
       "\n",
       "                installer  longitude  latitude  wpt_name  num_private  ...  \\\n",
       "status_group                                                           ...   \n",
       "functional          13491      13822     13822     13822        13822  ...   \n",
       "non functional       3911       3939      3939      3939         3939  ...   \n",
       "\n",
       "                payment_type  water_quality  quality_group  quantity  \\\n",
       "status_group                                                           \n",
       "functional             13822          13822          13822     13822   \n",
       "non functional          3939           3939           3939      3939   \n",
       "\n",
       "                quantity_group  source  source_type  source_class  \\\n",
       "status_group                                                        \n",
       "functional               13822   13822        13822         13822   \n",
       "non functional            3939    3939         3939          3939   \n",
       "\n",
       "                waterpoint_type  waterpoint_type_group  \n",
       "status_group                                            \n",
       "functional                13822                  13822  \n",
       "non functional             3939                   3939  \n",
       "\n",
       "[2 rows x 40 columns]"
      ]
     },
     "execution_count": 64,
     "metadata": {},
     "output_type": "execute_result"
    }
   ],
   "source": [
    "data[data.amount_tsh > 0].groupby('status_group').count()"
   ]
  },
  {
   "cell_type": "markdown",
   "metadata": {},
   "source": [
    "When amount_tsh is greater than 0, we can see that there is a higher number of functional wells compared to non functional wells. This feature will be modified to a binary variable with 0 having no amount_tsh and 1 having amount_tsh."
   ]
  },
  {
   "cell_type": "code",
   "execution_count": 65,
   "metadata": {},
   "outputs": [],
   "source": [
    "data.loc[data.amount_tsh > 0, 'amount_tsh'] = 1"
   ]
  },
  {
   "cell_type": "code",
   "execution_count": 66,
   "metadata": {},
   "outputs": [
    {
     "data": {
      "text/plain": [
       "0.0    41639\n",
       "1.0    17761\n",
       "Name: amount_tsh, dtype: int64"
      ]
     },
     "execution_count": 66,
     "metadata": {},
     "output_type": "execute_result"
    }
   ],
   "source": [
    "data.amount_tsh.value_counts()"
   ]
  },
  {
   "cell_type": "markdown",
   "metadata": {},
   "source": [
    "Funder and installer features both contain a high number of unique values. We may choose to only use the most frequent values.\n",
    "\n",
    "* funder - Who funded the well\n",
    "* installer - Organization that installed the well"
   ]
  },
  {
   "cell_type": "code",
   "execution_count": 67,
   "metadata": {},
   "outputs": [
    {
     "data": {
      "text/plain": [
       "Government Of Tanzania     9084\n",
       "Danida                     3114\n",
       "Hesawa                     2202\n",
       "Rwssp                      1374\n",
       "World Bank                 1349\n",
       "                           ... \n",
       "Shinyanga Shallow Wells       1\n",
       "Dmk Anglican                  1\n",
       "Saidi Halfani                 1\n",
       "Alia                          1\n",
       "Pancrasi                      1\n",
       "Name: funder, Length: 1897, dtype: int64"
      ]
     },
     "execution_count": 67,
     "metadata": {},
     "output_type": "execute_result"
    }
   ],
   "source": [
    "data.funder.value_counts()"
   ]
  },
  {
   "cell_type": "code",
   "execution_count": 68,
   "metadata": {},
   "outputs": [
    {
     "data": {
      "text/plain": [
       "Government Of Tanzania    9084\n",
       "Danida                    3114\n",
       "Hesawa                    2202\n",
       "Rwssp                     1374\n",
       "World Bank                1349\n",
       "Kkkt                      1287\n",
       "World Vision              1246\n",
       "Unicef                    1057\n",
       "Tasaf                      877\n",
       "District Council           843\n",
       "Name: funder, dtype: int64"
      ]
     },
     "execution_count": 68,
     "metadata": {},
     "output_type": "execute_result"
    }
   ],
   "source": [
    "data.funder.value_counts().head(10)"
   ]
  },
  {
   "cell_type": "code",
   "execution_count": 69,
   "metadata": {},
   "outputs": [],
   "source": [
    "funder_top10 = data.funder.value_counts().head(10).index"
   ]
  },
  {
   "cell_type": "code",
   "execution_count": 70,
   "metadata": {},
   "outputs": [],
   "source": [
    "# changing other values not in the top 10 to others, this will include null values.\n",
    "data.loc[~data.funder.isin(funder_top10), 'funder'] = 'other'"
   ]
  },
  {
   "cell_type": "code",
   "execution_count": 71,
   "metadata": {},
   "outputs": [
    {
     "data": {
      "text/plain": [
       "other                     36967\n",
       "Government Of Tanzania     9084\n",
       "Danida                     3114\n",
       "Hesawa                     2202\n",
       "Rwssp                      1374\n",
       "World Bank                 1349\n",
       "Kkkt                       1287\n",
       "World Vision               1246\n",
       "Unicef                     1057\n",
       "Tasaf                       877\n",
       "District Council            843\n",
       "Name: funder, dtype: int64"
      ]
     },
     "execution_count": 71,
     "metadata": {},
     "output_type": "execute_result"
    }
   ],
   "source": [
    "data.funder.value_counts()"
   ]
  },
  {
   "cell_type": "code",
   "execution_count": 72,
   "metadata": {},
   "outputs": [
    {
     "data": {
      "image/png": "[encoded data removed]",
      "text/plain": [
       "<Figure size 2160x1080 with 1 Axes>"
      ]
     },
     "metadata": {
      "needs_background": "light"
     },
     "output_type": "display_data"
    }
   ],
   "source": [
    "plt.figure(figsize=(30,15))\n",
    "ax = sns.countplot(x = 'funder', hue = 'status_group', data = data)"
   ]
  },
  {
   "cell_type": "markdown",
   "metadata": {},
   "source": [
    "Wells funded by Government of Tanzania and World Bank show to have more non functional than functional. "
   ]
  },
  {
   "cell_type": "code",
   "execution_count": 73,
   "metadata": {},
   "outputs": [
    {
     "data": {
      "text/plain": [
       "DWE                    17402\n",
       "Government              1825\n",
       "RWE                     1206\n",
       "Commu                   1060\n",
       "DANIDA                  1050\n",
       "                       ...  \n",
       "Church Of Disciples        1\n",
       "ISSAC MOLLEl               1\n",
       "ACTION AID                 1\n",
       "germany                    1\n",
       "DIMON                      1\n",
       "Name: installer, Length: 2145, dtype: int64"
      ]
     },
     "execution_count": 73,
     "metadata": {},
     "output_type": "execute_result"
    }
   ],
   "source": [
    "data.installer.value_counts()"
   ]
  },
  {
   "cell_type": "markdown",
   "metadata": {},
   "source": [
    "Some values are similar, but are recorded as upper and lower case."
   ]
  },
  {
   "cell_type": "code",
   "execution_count": 74,
   "metadata": {},
   "outputs": [
    {
     "data": {
      "text/plain": [
       "dwe             17405\n",
       "government       1891\n",
       "hesawa           1395\n",
       "rwe              1206\n",
       "commu            1065\n",
       "                ...  \n",
       "missionaries        1\n",
       "tcrs/ twesa         1\n",
       "africa m            1\n",
       "adam kea            1\n",
       "morovian            1\n",
       "Name: installer, Length: 1935, dtype: int64"
      ]
     },
     "execution_count": 74,
     "metadata": {},
     "output_type": "execute_result"
    }
   ],
   "source": [
    "data.installer.str.lower().value_counts()"
   ]
  },
  {
   "cell_type": "markdown",
   "metadata": {},
   "source": [
    "Changing all values to lower case reduced the number of unique values from 2145 to 1935."
   ]
  },
  {
   "cell_type": "code",
   "execution_count": 75,
   "metadata": {},
   "outputs": [],
   "source": [
    "data.installer = data.installer.str.lower()"
   ]
  },
  {
   "cell_type": "code",
   "execution_count": 76,
   "metadata": {},
   "outputs": [
    {
     "data": {
      "text/plain": [
       "dwe                   17405\n",
       "government             1891\n",
       "hesawa                 1395\n",
       "rwe                    1206\n",
       "commu                  1065\n",
       "danida                 1050\n",
       "district council        961\n",
       "kkkt                    910\n",
       "0                       777\n",
       "central government      763\n",
       "Name: installer, dtype: int64"
      ]
     },
     "execution_count": 76,
     "metadata": {},
     "output_type": "execute_result"
    }
   ],
   "source": [
    "data.installer.value_counts().head(10)"
   ]
  },
  {
   "cell_type": "code",
   "execution_count": 77,
   "metadata": {},
   "outputs": [],
   "source": [
    "data.loc[data.installer == '0', 'installer'] = 'other'"
   ]
  },
  {
   "cell_type": "code",
   "execution_count": 78,
   "metadata": {},
   "outputs": [
    {
     "data": {
      "text/plain": [
       "dwe                   17405\n",
       "government             1891\n",
       "hesawa                 1395\n",
       "rwe                    1206\n",
       "commu                  1065\n",
       "danida                 1050\n",
       "district council        961\n",
       "kkkt                    910\n",
       "other                   777\n",
       "central government      763\n",
       "Name: installer, dtype: int64"
      ]
     },
     "execution_count": 78,
     "metadata": {},
     "output_type": "execute_result"
    }
   ],
   "source": [
    "data.installer.value_counts().head(10)"
   ]
  },
  {
   "cell_type": "code",
   "execution_count": 79,
   "metadata": {},
   "outputs": [],
   "source": [
    "installer_top10 = data.installer.value_counts().head(10).index"
   ]
  },
  {
   "cell_type": "code",
   "execution_count": 80,
   "metadata": {},
   "outputs": [],
   "source": [
    "data.loc[~data.installer.isin(installer_top10), 'installer'] = 'other'"
   ]
  },
  {
   "cell_type": "code",
   "execution_count": 81,
   "metadata": {},
   "outputs": [
    {
     "data": {
      "text/plain": [
       "other                 32754\n",
       "dwe                   17405\n",
       "government             1891\n",
       "hesawa                 1395\n",
       "rwe                    1206\n",
       "commu                  1065\n",
       "danida                 1050\n",
       "district council        961\n",
       "kkkt                    910\n",
       "central government      763\n",
       "Name: installer, dtype: int64"
      ]
     },
     "execution_count": 81,
     "metadata": {},
     "output_type": "execute_result"
    }
   ],
   "source": [
    "data.installer.value_counts()"
   ]
  },
  {
   "cell_type": "code",
   "execution_count": 82,
   "metadata": {},
   "outputs": [
    {
     "data": {
      "image/png": "[encoded data removed]",
      "text/plain": [
       "<Figure size 2160x1080 with 1 Axes>"
      ]
     },
     "metadata": {
      "needs_background": "light"
     },
     "output_type": "display_data"
    }
   ],
   "source": [
    "plt.figure(figsize=(30,15))\n",
    "ax = sns.countplot(x = 'installer', hue = 'status_group', data = data)"
   ]
  },
  {
   "cell_type": "markdown",
   "metadata": {},
   "source": [
    "Graph shows a few installers have more non functional wells than functional wells."
   ]
  },
  {
   "cell_type": "markdown",
   "metadata": {},
   "source": [
    "gps height feature does not seem to provide any additional information on whether wells are functional or non functional. Distribution of values is similar when comparing between functional and non functional status. This feature can be dropped.\n",
    "\n",
    "* gps_height - Altitude of the well"
   ]
  },
  {
   "cell_type": "code",
   "execution_count": 83,
   "metadata": {},
   "outputs": [
    {
     "data": {
      "image/png": "[encoded data removed]",
      "text/plain": [
       "<Figure size 432x288 with 1 Axes>"
      ]
     },
     "metadata": {
      "needs_background": "light"
     },
     "output_type": "display_data"
    }
   ],
   "source": [
    "sns.violinplot(x = 'status_group', y = 'gps_height', data = data);"
   ]
  },
  {
   "cell_type": "code",
   "execution_count": 84,
   "metadata": {},
   "outputs": [
    {
     "data": {
      "image/png": "[encoded data removed]",
      "text/plain": [
       "<Figure size 2160x1080 with 1 Axes>"
      ]
     },
     "metadata": {
      "needs_background": "light"
     },
     "output_type": "display_data"
    }
   ],
   "source": [
    "plt.figure(figsize=(30,15))\n",
    "ax = data.groupby('status_group')['gps_height'].hist(legend = True)\n"
   ]
  },
  {
   "cell_type": "code",
   "execution_count": 85,
   "metadata": {},
   "outputs": [
    {
     "data": {
      "text/plain": [
       "count    59400.000000\n",
       "mean       668.297239\n",
       "std        693.116350\n",
       "min        -90.000000\n",
       "25%          0.000000\n",
       "50%        369.000000\n",
       "75%       1319.250000\n",
       "max       2770.000000\n",
       "Name: gps_height, dtype: float64"
      ]
     },
     "execution_count": 85,
     "metadata": {},
     "output_type": "execute_result"
    }
   ],
   "source": [
    "data.gps_height.describe()"
   ]
  },
  {
   "cell_type": "code",
   "execution_count": 86,
   "metadata": {},
   "outputs": [],
   "source": [
    "to_drop.append('gps_height')"
   ]
  },
  {
   "cell_type": "markdown",
   "metadata": {},
   "source": [
    "There is around 36% of 0 values for the population feature. There are also many single digit values, around 12% of the waterpoints have a population of 1 listed. Since there is no information on how this feature was recorded (proximity of people to waterpoint), we can consider binning the values in certain intervals. \n",
    "\n",
    "* population - Population around the well"
   ]
  },
  {
   "cell_type": "code",
   "execution_count": 87,
   "metadata": {},
   "outputs": [
    {
     "data": {
      "text/plain": [
       "0       0.359949\n",
       "1       0.118266\n",
       "200     0.032660\n",
       "150     0.031852\n",
       "250     0.028300\n",
       "          ...   \n",
       "3241    0.000017\n",
       "1960    0.000017\n",
       "1685    0.000017\n",
       "2248    0.000017\n",
       "1439    0.000017\n",
       "Name: population, Length: 1049, dtype: float64"
      ]
     },
     "execution_count": 87,
     "metadata": {},
     "output_type": "execute_result"
    }
   ],
   "source": [
    "data.population.value_counts(normalize = True)"
   ]
  },
  {
   "cell_type": "code",
   "execution_count": 88,
   "metadata": {},
   "outputs": [
    {
     "data": {
      "image/png": "[encoded data removed]",
      "text/plain": [
       "<Figure size 2160x1080 with 1 Axes>"
      ]
     },
     "metadata": {
      "needs_background": "light"
     },
     "output_type": "display_data"
    }
   ],
   "source": [
    "plt.figure(figsize=(30,15))\n",
    "ax = sns.violinplot(x = 'status_group', y = 'population', data = data);"
   ]
  },
  {
   "cell_type": "markdown",
   "metadata": {},
   "source": [
    "From above graph we can see that after a certain amount of population, there are more functional waterpoints than non functional. "
   ]
  },
  {
   "cell_type": "code",
   "execution_count": 89,
   "metadata": {},
   "outputs": [
    {
     "data": {
      "text/plain": [
       "count    38019.000000\n",
       "mean       281.087167\n",
       "std        564.687660\n",
       "min          1.000000\n",
       "25%         40.000000\n",
       "50%        150.000000\n",
       "75%        324.000000\n",
       "max      30500.000000\n",
       "Name: population, dtype: float64"
      ]
     },
     "execution_count": 89,
     "metadata": {},
     "output_type": "execute_result"
    }
   ],
   "source": [
    "data[data.population > 0]['population'].describe()"
   ]
  },
  {
   "cell_type": "code",
   "execution_count": 90,
   "metadata": {},
   "outputs": [],
   "source": [
    "# bin values with 0 to none and quartiles for values above 0\n",
    "data['pop_bins'] = pd.cut(data.population, bins = [0, 1, 40, 150, 324, 30500], labels = ['none', 'low', 'below_average', 'above_average', 'high'], include_lowest = True)"
   ]
  },
  {
   "cell_type": "code",
   "execution_count": 91,
   "metadata": {},
   "outputs": [
    {
     "data": {
      "text/plain": [
       "none             28406\n",
       "below_average     9978\n",
       "high              9492\n",
       "above_average     8595\n",
       "low               2929\n",
       "Name: pop_bins, dtype: int64"
      ]
     },
     "execution_count": 91,
     "metadata": {},
     "output_type": "execute_result"
    }
   ],
   "source": [
    "data.pop_bins.value_counts()"
   ]
  },
  {
   "cell_type": "code",
   "execution_count": 92,
   "metadata": {},
   "outputs": [
    {
     "data": {
      "image/png": "[encoded data removed]",
      "text/plain": [
       "<Figure size 2160x1080 with 1 Axes>"
      ]
     },
     "metadata": {
      "needs_background": "light"
     },
     "output_type": "display_data"
    }
   ],
   "source": [
    "plt.figure(figsize=(30,15))\n",
    "ax = sns.countplot(x = 'pop_bins', hue = 'status_group', data = data)"
   ]
  },
  {
   "cell_type": "markdown",
   "metadata": {},
   "source": [
    "Ratio of function to non functional increases from 0 to low population."
   ]
  },
  {
   "cell_type": "code",
   "execution_count": 93,
   "metadata": {},
   "outputs": [
    {
     "data": {
      "text/html": [
       "<div>\n",
       "<style scoped>\n",
       "    .dataframe tbody tr th:only-of-type {\n",
       "        vertical-align: middle;\n",
       "    }\n",
       "\n",
       "    .dataframe tbody tr th {\n",
       "        vertical-align: top;\n",
       "    }\n",
       "\n",
       "    .dataframe thead th {\n",
       "        text-align: right;\n",
       "    }\n",
       "</style>\n",
       "<table border=\"1\" class=\"dataframe\">\n",
       "  <thead>\n",
       "    <tr style=\"text-align: right;\">\n",
       "      <th></th>\n",
       "      <th></th>\n",
       "      <th>id</th>\n",
       "      <th>amount_tsh</th>\n",
       "      <th>date_recorded</th>\n",
       "      <th>funder</th>\n",
       "      <th>gps_height</th>\n",
       "      <th>installer</th>\n",
       "      <th>longitude</th>\n",
       "      <th>latitude</th>\n",
       "      <th>wpt_name</th>\n",
       "      <th>num_private</th>\n",
       "      <th>...</th>\n",
       "      <th>payment_type</th>\n",
       "      <th>water_quality</th>\n",
       "      <th>quality_group</th>\n",
       "      <th>quantity</th>\n",
       "      <th>quantity_group</th>\n",
       "      <th>source</th>\n",
       "      <th>source_type</th>\n",
       "      <th>source_class</th>\n",
       "      <th>waterpoint_type</th>\n",
       "      <th>waterpoint_type_group</th>\n",
       "    </tr>\n",
       "    <tr>\n",
       "      <th>pop_bins</th>\n",
       "      <th>status_group</th>\n",
       "      <th></th>\n",
       "      <th></th>\n",
       "      <th></th>\n",
       "      <th></th>\n",
       "      <th></th>\n",
       "      <th></th>\n",
       "      <th></th>\n",
       "      <th></th>\n",
       "      <th></th>\n",
       "      <th></th>\n",
       "      <th></th>\n",
       "      <th></th>\n",
       "      <th></th>\n",
       "      <th></th>\n",
       "      <th></th>\n",
       "      <th></th>\n",
       "      <th></th>\n",
       "      <th></th>\n",
       "      <th></th>\n",
       "      <th></th>\n",
       "      <th></th>\n",
       "    </tr>\n",
       "  </thead>\n",
       "  <tbody>\n",
       "    <tr>\n",
       "      <th rowspan=\"2\" valign=\"top\">none</th>\n",
       "      <th>functional</th>\n",
       "      <td>16314</td>\n",
       "      <td>16314</td>\n",
       "      <td>16314</td>\n",
       "      <td>16314</td>\n",
       "      <td>16314</td>\n",
       "      <td>16314</td>\n",
       "      <td>16314</td>\n",
       "      <td>16314</td>\n",
       "      <td>16314</td>\n",
       "      <td>16314</td>\n",
       "      <td>...</td>\n",
       "      <td>16314</td>\n",
       "      <td>16314</td>\n",
       "      <td>16314</td>\n",
       "      <td>16314</td>\n",
       "      <td>16314</td>\n",
       "      <td>16314</td>\n",
       "      <td>16314</td>\n",
       "      <td>16314</td>\n",
       "      <td>16314</td>\n",
       "      <td>16314</td>\n",
       "    </tr>\n",
       "    <tr>\n",
       "      <th>non functional</th>\n",
       "      <td>12092</td>\n",
       "      <td>12092</td>\n",
       "      <td>12092</td>\n",
       "      <td>12092</td>\n",
       "      <td>12092</td>\n",
       "      <td>12092</td>\n",
       "      <td>12092</td>\n",
       "      <td>12092</td>\n",
       "      <td>12092</td>\n",
       "      <td>12092</td>\n",
       "      <td>...</td>\n",
       "      <td>12092</td>\n",
       "      <td>12092</td>\n",
       "      <td>12092</td>\n",
       "      <td>12092</td>\n",
       "      <td>12092</td>\n",
       "      <td>12092</td>\n",
       "      <td>12092</td>\n",
       "      <td>12092</td>\n",
       "      <td>12092</td>\n",
       "      <td>12092</td>\n",
       "    </tr>\n",
       "    <tr>\n",
       "      <th rowspan=\"2\" valign=\"top\">low</th>\n",
       "      <th>functional</th>\n",
       "      <td>2323</td>\n",
       "      <td>2323</td>\n",
       "      <td>2323</td>\n",
       "      <td>2323</td>\n",
       "      <td>2323</td>\n",
       "      <td>2323</td>\n",
       "      <td>2323</td>\n",
       "      <td>2323</td>\n",
       "      <td>2323</td>\n",
       "      <td>2323</td>\n",
       "      <td>...</td>\n",
       "      <td>2323</td>\n",
       "      <td>2323</td>\n",
       "      <td>2323</td>\n",
       "      <td>2323</td>\n",
       "      <td>2323</td>\n",
       "      <td>2323</td>\n",
       "      <td>2323</td>\n",
       "      <td>2323</td>\n",
       "      <td>2323</td>\n",
       "      <td>2323</td>\n",
       "    </tr>\n",
       "    <tr>\n",
       "      <th>non functional</th>\n",
       "      <td>606</td>\n",
       "      <td>606</td>\n",
       "      <td>606</td>\n",
       "      <td>606</td>\n",
       "      <td>606</td>\n",
       "      <td>606</td>\n",
       "      <td>606</td>\n",
       "      <td>606</td>\n",
       "      <td>606</td>\n",
       "      <td>606</td>\n",
       "      <td>...</td>\n",
       "      <td>606</td>\n",
       "      <td>606</td>\n",
       "      <td>606</td>\n",
       "      <td>606</td>\n",
       "      <td>606</td>\n",
       "      <td>606</td>\n",
       "      <td>606</td>\n",
       "      <td>606</td>\n",
       "      <td>606</td>\n",
       "      <td>606</td>\n",
       "    </tr>\n",
       "    <tr>\n",
       "      <th rowspan=\"2\" valign=\"top\">below_average</th>\n",
       "      <th>functional</th>\n",
       "      <td>6901</td>\n",
       "      <td>6901</td>\n",
       "      <td>6901</td>\n",
       "      <td>6901</td>\n",
       "      <td>6901</td>\n",
       "      <td>6901</td>\n",
       "      <td>6901</td>\n",
       "      <td>6901</td>\n",
       "      <td>6901</td>\n",
       "      <td>6901</td>\n",
       "      <td>...</td>\n",
       "      <td>6901</td>\n",
       "      <td>6901</td>\n",
       "      <td>6901</td>\n",
       "      <td>6901</td>\n",
       "      <td>6901</td>\n",
       "      <td>6901</td>\n",
       "      <td>6901</td>\n",
       "      <td>6901</td>\n",
       "      <td>6901</td>\n",
       "      <td>6901</td>\n",
       "    </tr>\n",
       "    <tr>\n",
       "      <th>non functional</th>\n",
       "      <td>3077</td>\n",
       "      <td>3077</td>\n",
       "      <td>3077</td>\n",
       "      <td>3077</td>\n",
       "      <td>3077</td>\n",
       "      <td>3077</td>\n",
       "      <td>3077</td>\n",
       "      <td>3077</td>\n",
       "      <td>3077</td>\n",
       "      <td>3077</td>\n",
       "      <td>...</td>\n",
       "      <td>3077</td>\n",
       "      <td>3077</td>\n",
       "      <td>3077</td>\n",
       "      <td>3077</td>\n",
       "      <td>3077</td>\n",
       "      <td>3077</td>\n",
       "      <td>3077</td>\n",
       "      <td>3077</td>\n",
       "      <td>3077</td>\n",
       "      <td>3077</td>\n",
       "    </tr>\n",
       "    <tr>\n",
       "      <th rowspan=\"2\" valign=\"top\">above_average</th>\n",
       "      <th>functional</th>\n",
       "      <td>5119</td>\n",
       "      <td>5119</td>\n",
       "      <td>5119</td>\n",
       "      <td>5119</td>\n",
       "      <td>5119</td>\n",
       "      <td>5119</td>\n",
       "      <td>5119</td>\n",
       "      <td>5119</td>\n",
       "      <td>5119</td>\n",
       "      <td>5119</td>\n",
       "      <td>...</td>\n",
       "      <td>5119</td>\n",
       "      <td>5119</td>\n",
       "      <td>5119</td>\n",
       "      <td>5119</td>\n",
       "      <td>5119</td>\n",
       "      <td>5119</td>\n",
       "      <td>5119</td>\n",
       "      <td>5119</td>\n",
       "      <td>5119</td>\n",
       "      <td>5119</td>\n",
       "    </tr>\n",
       "    <tr>\n",
       "      <th>non functional</th>\n",
       "      <td>3476</td>\n",
       "      <td>3476</td>\n",
       "      <td>3476</td>\n",
       "      <td>3476</td>\n",
       "      <td>3476</td>\n",
       "      <td>3476</td>\n",
       "      <td>3476</td>\n",
       "      <td>3476</td>\n",
       "      <td>3476</td>\n",
       "      <td>3476</td>\n",
       "      <td>...</td>\n",
       "      <td>3476</td>\n",
       "      <td>3476</td>\n",
       "      <td>3476</td>\n",
       "      <td>3476</td>\n",
       "      <td>3476</td>\n",
       "      <td>3476</td>\n",
       "      <td>3476</td>\n",
       "      <td>3476</td>\n",
       "      <td>3476</td>\n",
       "      <td>3476</td>\n",
       "    </tr>\n",
       "    <tr>\n",
       "      <th rowspan=\"2\" valign=\"top\">high</th>\n",
       "      <th>functional</th>\n",
       "      <td>5919</td>\n",
       "      <td>5919</td>\n",
       "      <td>5919</td>\n",
       "      <td>5919</td>\n",
       "      <td>5919</td>\n",
       "      <td>5919</td>\n",
       "      <td>5919</td>\n",
       "      <td>5919</td>\n",
       "      <td>5919</td>\n",
       "      <td>5919</td>\n",
       "      <td>...</td>\n",
       "      <td>5919</td>\n",
       "      <td>5919</td>\n",
       "      <td>5919</td>\n",
       "      <td>5919</td>\n",
       "      <td>5919</td>\n",
       "      <td>5919</td>\n",
       "      <td>5919</td>\n",
       "      <td>5919</td>\n",
       "      <td>5919</td>\n",
       "      <td>5919</td>\n",
       "    </tr>\n",
       "    <tr>\n",
       "      <th>non functional</th>\n",
       "      <td>3573</td>\n",
       "      <td>3573</td>\n",
       "      <td>3573</td>\n",
       "      <td>3573</td>\n",
       "      <td>3573</td>\n",
       "      <td>3573</td>\n",
       "      <td>3573</td>\n",
       "      <td>3573</td>\n",
       "      <td>3573</td>\n",
       "      <td>3573</td>\n",
       "      <td>...</td>\n",
       "      <td>3573</td>\n",
       "      <td>3573</td>\n",
       "      <td>3573</td>\n",
       "      <td>3573</td>\n",
       "      <td>3573</td>\n",
       "      <td>3573</td>\n",
       "      <td>3573</td>\n",
       "      <td>3573</td>\n",
       "      <td>3573</td>\n",
       "      <td>3573</td>\n",
       "    </tr>\n",
       "  </tbody>\n",
       "</table>\n",
       "<p>10 rows × 40 columns</p>\n",
       "</div>"
      ],
      "text/plain": [
       "                                 id  amount_tsh  date_recorded  funder  \\\n",
       "pop_bins      status_group                                               \n",
       "none          functional      16314       16314          16314   16314   \n",
       "              non functional  12092       12092          12092   12092   \n",
       "low           functional       2323        2323           2323    2323   \n",
       "              non functional    606         606            606     606   \n",
       "below_average functional       6901        6901           6901    6901   \n",
       "              non functional   3077        3077           3077    3077   \n",
       "above_average functional       5119        5119           5119    5119   \n",
       "              non functional   3476        3476           3476    3476   \n",
       "high          functional       5919        5919           5919    5919   \n",
       "              non functional   3573        3573           3573    3573   \n",
       "\n",
       "                              gps_height  installer  longitude  latitude  \\\n",
       "pop_bins      status_group                                                 \n",
       "none          functional           16314      16314      16314     16314   \n",
       "              non functional       12092      12092      12092     12092   \n",
       "low           functional            2323       2323       2323      2323   \n",
       "              non functional         606        606        606       606   \n",
       "below_average functional            6901       6901       6901      6901   \n",
       "              non functional        3077       3077       3077      3077   \n",
       "above_average functional            5119       5119       5119      5119   \n",
       "              non functional        3476       3476       3476      3476   \n",
       "high          functional            5919       5919       5919      5919   \n",
       "              non functional        3573       3573       3573      3573   \n",
       "\n",
       "                              wpt_name  num_private  ...  payment_type  \\\n",
       "pop_bins      status_group                           ...                 \n",
       "none          functional         16314        16314  ...         16314   \n",
       "              non functional     12092        12092  ...         12092   \n",
       "low           functional          2323         2323  ...          2323   \n",
       "              non functional       606          606  ...           606   \n",
       "below_average functional          6901         6901  ...          6901   \n",
       "              non functional      3077         3077  ...          3077   \n",
       "above_average functional          5119         5119  ...          5119   \n",
       "              non functional      3476         3476  ...          3476   \n",
       "high          functional          5919         5919  ...          5919   \n",
       "              non functional      3573         3573  ...          3573   \n",
       "\n",
       "                              water_quality  quality_group  quantity  \\\n",
       "pop_bins      status_group                                             \n",
       "none          functional              16314          16314     16314   \n",
       "              non functional          12092          12092     12092   \n",
       "low           functional               2323           2323      2323   \n",
       "              non functional            606            606       606   \n",
       "below_average functional               6901           6901      6901   \n",
       "              non functional           3077           3077      3077   \n",
       "above_average functional               5119           5119      5119   \n",
       "              non functional           3476           3476      3476   \n",
       "high          functional               5919           5919      5919   \n",
       "              non functional           3573           3573      3573   \n",
       "\n",
       "                              quantity_group  source  source_type  \\\n",
       "pop_bins      status_group                                          \n",
       "none          functional               16314   16314        16314   \n",
       "              non functional           12092   12092        12092   \n",
       "low           functional                2323    2323         2323   \n",
       "              non functional             606     606          606   \n",
       "below_average functional                6901    6901         6901   \n",
       "              non functional            3077    3077         3077   \n",
       "above_average functional                5119    5119         5119   \n",
       "              non functional            3476    3476         3476   \n",
       "high          functional                5919    5919         5919   \n",
       "              non functional            3573    3573         3573   \n",
       "\n",
       "                              source_class  waterpoint_type  \\\n",
       "pop_bins      status_group                                    \n",
       "none          functional             16314            16314   \n",
       "              non functional         12092            12092   \n",
       "low           functional              2323             2323   \n",
       "              non functional           606              606   \n",
       "below_average functional              6901             6901   \n",
       "              non functional          3077             3077   \n",
       "above_average functional              5119             5119   \n",
       "              non functional          3476             3476   \n",
       "high          functional              5919             5919   \n",
       "              non functional          3573             3573   \n",
       "\n",
       "                              waterpoint_type_group  \n",
       "pop_bins      status_group                           \n",
       "none          functional                      16314  \n",
       "              non functional                  12092  \n",
       "low           functional                       2323  \n",
       "              non functional                    606  \n",
       "below_average functional                       6901  \n",
       "              non functional                   3077  \n",
       "above_average functional                       5119  \n",
       "              non functional                   3476  \n",
       "high          functional                       5919  \n",
       "              non functional                   3573  \n",
       "\n",
       "[10 rows x 40 columns]"
      ]
     },
     "execution_count": 93,
     "metadata": {},
     "output_type": "execute_result"
    }
   ],
   "source": [
    "data.groupby(['pop_bins', 'status_group']).count()"
   ]
  },
  {
   "cell_type": "code",
   "execution_count": 94,
   "metadata": {},
   "outputs": [],
   "source": [
    "to_drop.append('population')"
   ]
  },
  {
   "cell_type": "markdown",
   "metadata": {},
   "source": [
    "construction_year contains around 35% of 0 values. We will bin the values to 10 year intervals, with 0 values listed as unknown.\n",
    "\n",
    "* construction_year - Year the waterpoint was constructed"
   ]
  },
  {
   "cell_type": "code",
   "execution_count": 95,
   "metadata": {},
   "outputs": [
    {
     "data": {
      "text/plain": [
       "0       0.348636\n",
       "2010    0.044529\n",
       "2008    0.043990\n",
       "2009    0.042643\n",
       "2000    0.035202\n",
       "2007    0.026717\n",
       "2006    0.024764\n",
       "2003    0.021650\n",
       "2011    0.021145\n",
       "2004    0.018906\n",
       "2012    0.018249\n",
       "2002    0.018098\n",
       "1978    0.017458\n",
       "1995    0.017071\n",
       "2005    0.017020\n",
       "1999    0.016481\n",
       "1998    0.016263\n",
       "1990    0.016061\n",
       "1985    0.015909\n",
       "1980    0.013653\n",
       "1996    0.013653\n",
       "1984    0.013114\n",
       "1982    0.012525\n",
       "1994    0.012424\n",
       "1972    0.011919\n",
       "1974    0.011380\n",
       "1997    0.010842\n",
       "1992    0.010774\n",
       "1993    0.010236\n",
       "2001    0.009091\n",
       "1988    0.008771\n",
       "1983    0.008215\n",
       "1975    0.007357\n",
       "1986    0.007306\n",
       "1976    0.006970\n",
       "1970    0.006919\n",
       "1991    0.005455\n",
       "1989    0.005320\n",
       "1987    0.005084\n",
       "1981    0.004007\n",
       "1977    0.003401\n",
       "1979    0.003232\n",
       "1973    0.003098\n",
       "2013    0.002963\n",
       "1971    0.002441\n",
       "1960    0.001717\n",
       "1967    0.001481\n",
       "1963    0.001431\n",
       "1968    0.001296\n",
       "1969    0.000993\n",
       "1964    0.000673\n",
       "1962    0.000505\n",
       "1961    0.000354\n",
       "1965    0.000320\n",
       "1966    0.000286\n",
       "Name: construction_year, dtype: float64"
      ]
     },
     "execution_count": 95,
     "metadata": {},
     "output_type": "execute_result"
    }
   ],
   "source": [
    "data.construction_year.value_counts(normalize = True)"
   ]
  },
  {
   "cell_type": "code",
   "execution_count": 96,
   "metadata": {},
   "outputs": [],
   "source": [
    "construct_df = data[data.construction_year > 0]"
   ]
  },
  {
   "cell_type": "code",
   "execution_count": 97,
   "metadata": {},
   "outputs": [
    {
     "data": {
      "image/png": "[encoded data removed]",
      "text/plain": [
       "<Figure size 432x288 with 1 Axes>"
      ]
     },
     "metadata": {
      "needs_background": "light"
     },
     "output_type": "display_data"
    }
   ],
   "source": [
    "sns.violinplot(x = 'status_group', y = 'construction_year', data = construct_df);"
   ]
  },
  {
   "cell_type": "code",
   "execution_count": 98,
   "metadata": {},
   "outputs": [
    {
     "data": {
      "text/html": [
       "<div>\n",
       "<style scoped>\n",
       "    .dataframe tbody tr th:only-of-type {\n",
       "        vertical-align: middle;\n",
       "    }\n",
       "\n",
       "    .dataframe tbody tr th {\n",
       "        vertical-align: top;\n",
       "    }\n",
       "\n",
       "    .dataframe thead th {\n",
       "        text-align: right;\n",
       "    }\n",
       "</style>\n",
       "<table border=\"1\" class=\"dataframe\">\n",
       "  <thead>\n",
       "    <tr style=\"text-align: right;\">\n",
       "      <th></th>\n",
       "      <th>id</th>\n",
       "      <th>amount_tsh</th>\n",
       "      <th>gps_height</th>\n",
       "      <th>longitude</th>\n",
       "      <th>latitude</th>\n",
       "      <th>num_private</th>\n",
       "      <th>region_code</th>\n",
       "      <th>district_code</th>\n",
       "      <th>population</th>\n",
       "      <th>construction_year</th>\n",
       "    </tr>\n",
       "  </thead>\n",
       "  <tbody>\n",
       "    <tr>\n",
       "      <th>count</th>\n",
       "      <td>38691.000000</td>\n",
       "      <td>38691.000000</td>\n",
       "      <td>38691.000000</td>\n",
       "      <td>38691.000000</td>\n",
       "      <td>38691.000000</td>\n",
       "      <td>38691.000000</td>\n",
       "      <td>38691.000000</td>\n",
       "      <td>38691.000000</td>\n",
       "      <td>38691.000000</td>\n",
       "      <td>38691.000000</td>\n",
       "    </tr>\n",
       "    <tr>\n",
       "      <th>mean</th>\n",
       "      <td>37083.008736</td>\n",
       "      <td>0.448528</td>\n",
       "      <td>1002.367760</td>\n",
       "      <td>35.983262</td>\n",
       "      <td>-6.235372</td>\n",
       "      <td>0.707710</td>\n",
       "      <td>15.706495</td>\n",
       "      <td>5.969786</td>\n",
       "      <td>269.799617</td>\n",
       "      <td>1996.814686</td>\n",
       "    </tr>\n",
       "    <tr>\n",
       "      <th>std</th>\n",
       "      <td>21420.922010</td>\n",
       "      <td>0.497350</td>\n",
       "      <td>618.078669</td>\n",
       "      <td>2.558709</td>\n",
       "      <td>2.761317</td>\n",
       "      <td>15.083957</td>\n",
       "      <td>21.003006</td>\n",
       "      <td>10.700673</td>\n",
       "      <td>552.343746</td>\n",
       "      <td>12.472045</td>\n",
       "    </tr>\n",
       "    <tr>\n",
       "      <th>min</th>\n",
       "      <td>1.000000</td>\n",
       "      <td>0.000000</td>\n",
       "      <td>-63.000000</td>\n",
       "      <td>29.607122</td>\n",
       "      <td>-11.649440</td>\n",
       "      <td>0.000000</td>\n",
       "      <td>2.000000</td>\n",
       "      <td>1.000000</td>\n",
       "      <td>0.000000</td>\n",
       "      <td>1960.000000</td>\n",
       "    </tr>\n",
       "    <tr>\n",
       "      <th>25%</th>\n",
       "      <td>18489.500000</td>\n",
       "      <td>0.000000</td>\n",
       "      <td>372.000000</td>\n",
       "      <td>34.676719</td>\n",
       "      <td>-8.755274</td>\n",
       "      <td>0.000000</td>\n",
       "      <td>4.000000</td>\n",
       "      <td>2.000000</td>\n",
       "      <td>30.000000</td>\n",
       "      <td>1987.000000</td>\n",
       "    </tr>\n",
       "    <tr>\n",
       "      <th>50%</th>\n",
       "      <td>37078.000000</td>\n",
       "      <td>0.000000</td>\n",
       "      <td>1154.000000</td>\n",
       "      <td>36.648187</td>\n",
       "      <td>-6.064216</td>\n",
       "      <td>0.000000</td>\n",
       "      <td>11.000000</td>\n",
       "      <td>3.000000</td>\n",
       "      <td>150.000000</td>\n",
       "      <td>2000.000000</td>\n",
       "    </tr>\n",
       "    <tr>\n",
       "      <th>75%</th>\n",
       "      <td>55514.500000</td>\n",
       "      <td>1.000000</td>\n",
       "      <td>1488.000000</td>\n",
       "      <td>37.803940</td>\n",
       "      <td>-3.650661</td>\n",
       "      <td>0.000000</td>\n",
       "      <td>16.000000</td>\n",
       "      <td>5.000000</td>\n",
       "      <td>305.000000</td>\n",
       "      <td>2008.000000</td>\n",
       "    </tr>\n",
       "    <tr>\n",
       "      <th>max</th>\n",
       "      <td>74247.000000</td>\n",
       "      <td>1.000000</td>\n",
       "      <td>2770.000000</td>\n",
       "      <td>40.345193</td>\n",
       "      <td>-1.042375</td>\n",
       "      <td>1776.000000</td>\n",
       "      <td>99.000000</td>\n",
       "      <td>63.000000</td>\n",
       "      <td>30500.000000</td>\n",
       "      <td>2013.000000</td>\n",
       "    </tr>\n",
       "  </tbody>\n",
       "</table>\n",
       "</div>"
      ],
      "text/plain": [
       "                 id    amount_tsh    gps_height     longitude      latitude  \\\n",
       "count  38691.000000  38691.000000  38691.000000  38691.000000  38691.000000   \n",
       "mean   37083.008736      0.448528   1002.367760     35.983262     -6.235372   \n",
       "std    21420.922010      0.497350    618.078669      2.558709      2.761317   \n",
       "min        1.000000      0.000000    -63.000000     29.607122    -11.649440   \n",
       "25%    18489.500000      0.000000    372.000000     34.676719     -8.755274   \n",
       "50%    37078.000000      0.000000   1154.000000     36.648187     -6.064216   \n",
       "75%    55514.500000      1.000000   1488.000000     37.803940     -3.650661   \n",
       "max    74247.000000      1.000000   2770.000000     40.345193     -1.042375   \n",
       "\n",
       "        num_private   region_code  district_code    population  \\\n",
       "count  38691.000000  38691.000000   38691.000000  38691.000000   \n",
       "mean       0.707710     15.706495       5.969786    269.799617   \n",
       "std       15.083957     21.003006      10.700673    552.343746   \n",
       "min        0.000000      2.000000       1.000000      0.000000   \n",
       "25%        0.000000      4.000000       2.000000     30.000000   \n",
       "50%        0.000000     11.000000       3.000000    150.000000   \n",
       "75%        0.000000     16.000000       5.000000    305.000000   \n",
       "max     1776.000000     99.000000      63.000000  30500.000000   \n",
       "\n",
       "       construction_year  \n",
       "count       38691.000000  \n",
       "mean         1996.814686  \n",
       "std            12.472045  \n",
       "min          1960.000000  \n",
       "25%          1987.000000  \n",
       "50%          2000.000000  \n",
       "75%          2008.000000  \n",
       "max          2013.000000  "
      ]
     },
     "execution_count": 98,
     "metadata": {},
     "output_type": "execute_result"
    }
   ],
   "source": [
    "construct_df.describe()"
   ]
  },
  {
   "cell_type": "code",
   "execution_count": 99,
   "metadata": {},
   "outputs": [],
   "source": [
    "data['construct_bins'] = pd.cut(data.construction_year, bins = [-1, 1959, 1969, 1979, 1989, 1999, 2009, 2014], labels = ['unknown', '1960s', '1970s', '1980s', '1990s', '2000s', '2010s'])"
   ]
  },
  {
   "cell_type": "code",
   "execution_count": 100,
   "metadata": {},
   "outputs": [
    {
     "data": {
      "image/png": "[encoded data removed]",
      "text/plain": [
       "<Figure size 2160x1080 with 1 Axes>"
      ]
     },
     "metadata": {
      "needs_background": "light"
     },
     "output_type": "display_data"
    }
   ],
   "source": [
    "plt.figure(figsize=(30,15))\n",
    "ax = sns.countplot(x = 'construct_bins', hue = 'status_group', data = data)"
   ]
  },
  {
   "cell_type": "code",
   "execution_count": 101,
   "metadata": {},
   "outputs": [],
   "source": [
    "to_drop.append('construction_year')"
   ]
  },
  {
   "cell_type": "markdown",
   "metadata": {},
   "source": [
    "From the above graph, we can see older wells have more non functional than functional statuses."
   ]
  },
  {
   "cell_type": "markdown",
   "metadata": {},
   "source": [
    "Boolean Features, filling null values with most common values.\n",
    "\n",
    "* public_meeting - True/False\n",
    "* permit - If the waterpoint is permitted"
   ]
  },
  {
   "cell_type": "code",
   "execution_count": 102,
   "metadata": {},
   "outputs": [
    {
     "data": {
      "text/plain": [
       "3334"
      ]
     },
     "execution_count": 102,
     "metadata": {},
     "output_type": "execute_result"
    }
   ],
   "source": [
    "data.public_meeting.isnull().sum()"
   ]
  },
  {
   "cell_type": "code",
   "execution_count": 103,
   "metadata": {},
   "outputs": [
    {
     "data": {
      "text/plain": [
       "True     51011\n",
       "False     5055\n",
       "Name: public_meeting, dtype: int64"
      ]
     },
     "execution_count": 103,
     "metadata": {},
     "output_type": "execute_result"
    }
   ],
   "source": [
    "data.public_meeting.value_counts()"
   ]
  },
  {
   "cell_type": "code",
   "execution_count": 104,
   "metadata": {},
   "outputs": [],
   "source": [
    "data.public_meeting.fillna(True, inplace = True)"
   ]
  },
  {
   "cell_type": "code",
   "execution_count": 105,
   "metadata": {},
   "outputs": [
    {
     "data": {
      "text/plain": [
       "True     54345\n",
       "False     5055\n",
       "Name: public_meeting, dtype: int64"
      ]
     },
     "execution_count": 105,
     "metadata": {},
     "output_type": "execute_result"
    }
   ],
   "source": [
    "data.public_meeting.value_counts()"
   ]
  },
  {
   "cell_type": "code",
   "execution_count": 106,
   "metadata": {},
   "outputs": [
    {
     "data": {
      "image/png": "[encoded data removed]",
      "text/plain": [
       "<Figure size 2160x1080 with 1 Axes>"
      ]
     },
     "metadata": {
      "needs_background": "light"
     },
     "output_type": "display_data"
    }
   ],
   "source": [
    "plt.figure(figsize=(30,15))\n",
    "ax = sns.countplot(x = 'public_meeting', hue = 'status_group', data = data)"
   ]
  },
  {
   "cell_type": "markdown",
   "metadata": {},
   "source": [
    "Data shows when public meeting is true there are more functional wells than non functional."
   ]
  },
  {
   "cell_type": "code",
   "execution_count": 107,
   "metadata": {},
   "outputs": [
    {
     "data": {
      "text/plain": [
       "3056"
      ]
     },
     "execution_count": 107,
     "metadata": {},
     "output_type": "execute_result"
    }
   ],
   "source": [
    "data.permit.isnull().sum()"
   ]
  },
  {
   "cell_type": "code",
   "execution_count": 108,
   "metadata": {},
   "outputs": [
    {
     "data": {
      "text/plain": [
       "True     38852\n",
       "False    17492\n",
       "Name: permit, dtype: int64"
      ]
     },
     "execution_count": 108,
     "metadata": {},
     "output_type": "execute_result"
    }
   ],
   "source": [
    "data.permit.value_counts()"
   ]
  },
  {
   "cell_type": "code",
   "execution_count": 109,
   "metadata": {},
   "outputs": [],
   "source": [
    "data.permit.fillna(True, inplace = True)"
   ]
  },
  {
   "cell_type": "code",
   "execution_count": 110,
   "metadata": {},
   "outputs": [
    {
     "data": {
      "text/plain": [
       "True     41908\n",
       "False    17492\n",
       "Name: permit, dtype: int64"
      ]
     },
     "execution_count": 110,
     "metadata": {},
     "output_type": "execute_result"
    }
   ],
   "source": [
    "data.permit.value_counts()"
   ]
  },
  {
   "cell_type": "code",
   "execution_count": 111,
   "metadata": {},
   "outputs": [
    {
     "data": {
      "image/png": "[encoded data removed]",
      "text/plain": [
       "<Figure size 2160x1080 with 1 Axes>"
      ]
     },
     "metadata": {
      "needs_background": "light"
     },
     "output_type": "display_data"
    }
   ],
   "source": [
    "plt.figure(figsize=(30,15))\n",
    "ax = sns.countplot(x = 'permit', hue = 'status_group', data = data)"
   ]
  },
  {
   "cell_type": "markdown",
   "metadata": {},
   "source": [
    "Data shows permit is true there are more functional wells than non functional."
   ]
  },
  {
   "cell_type": "markdown",
   "metadata": {},
   "source": [
    "Basin feature shows wells with Ruvuma values have more non functional wells than functional.\n",
    "\n",
    "* basin - Geographic water basin"
   ]
  },
  {
   "cell_type": "code",
   "execution_count": 112,
   "metadata": {},
   "outputs": [
    {
     "data": {
      "text/plain": [
       "Lake Victoria              10248\n",
       "Pangani                     8940\n",
       "Rufiji                      7976\n",
       "Internal                    7785\n",
       "Lake Tanganyika             6432\n",
       "Wami / Ruvu                 5987\n",
       "Lake Nyasa                  5085\n",
       "Ruvuma / Southern Coast     4493\n",
       "Lake Rukwa                  2454\n",
       "Name: basin, dtype: int64"
      ]
     },
     "execution_count": 112,
     "metadata": {},
     "output_type": "execute_result"
    }
   ],
   "source": [
    "data.basin.value_counts()"
   ]
  },
  {
   "cell_type": "code",
   "execution_count": 113,
   "metadata": {},
   "outputs": [
    {
     "data": {
      "image/png": "[encoded data removed]",
      "text/plain": [
       "<Figure size 2160x1080 with 1 Axes>"
      ]
     },
     "metadata": {
      "needs_background": "light"
     },
     "output_type": "display_data"
    }
   ],
   "source": [
    "plt.figure(figsize=(30,15))\n",
    "ax = sns.countplot(x = 'basin', hue = 'status_group', data = data)"
   ]
  },
  {
   "cell_type": "markdown",
   "metadata": {},
   "source": [
    "Remaining features do not provide any information that we will need and can be dropped.\n",
    "\n",
    "* wpt_name - Name of the waterpoint if there is one (as expected high number of unique values)\n",
    "* num_private - (no description and values are around 99% 0) \n",
    "* recorded_by - Group entering this row of data (only 1 value for all records)"
   ]
  },
  {
   "cell_type": "code",
   "execution_count": 114,
   "metadata": {},
   "outputs": [
    {
     "data": {
      "text/plain": [
       "GeoData Consultants Ltd    59400\n",
       "Name: recorded_by, dtype: int64"
      ]
     },
     "execution_count": 114,
     "metadata": {},
     "output_type": "execute_result"
    }
   ],
   "source": [
    "data.recorded_by.value_counts()"
   ]
  },
  {
   "cell_type": "code",
   "execution_count": 115,
   "metadata": {},
   "outputs": [
    {
     "data": {
      "text/plain": [
       "none                3563\n",
       "Shuleni             1748\n",
       "Zahanati             830\n",
       "Msikitini            535\n",
       "Kanisani             323\n",
       "                    ... \n",
       "Lwabitende             1\n",
       "Kwa Kiduga             1\n",
       "Kwa Bugumba            1\n",
       "Iponyamakulu           1\n",
       "Shuleni Igoji Ii       1\n",
       "Name: wpt_name, Length: 37400, dtype: int64"
      ]
     },
     "execution_count": 115,
     "metadata": {},
     "output_type": "execute_result"
    }
   ],
   "source": [
    "data.wpt_name.value_counts()"
   ]
  },
  {
   "cell_type": "code",
   "execution_count": 116,
   "metadata": {},
   "outputs": [
    {
     "data": {
      "text/plain": [
       "0      0.987256\n",
       "6      0.001364\n",
       "1      0.001229\n",
       "5      0.000774\n",
       "8      0.000774\n",
       "         ...   \n",
       "180    0.000017\n",
       "213    0.000017\n",
       "23     0.000017\n",
       "55     0.000017\n",
       "94     0.000017\n",
       "Name: num_private, Length: 65, dtype: float64"
      ]
     },
     "execution_count": 116,
     "metadata": {},
     "output_type": "execute_result"
    }
   ],
   "source": [
    "data.num_private.value_counts(normalize = True)"
   ]
  },
  {
   "cell_type": "code",
   "execution_count": 117,
   "metadata": {},
   "outputs": [],
   "source": [
    "to_drop.extend(['recorded_by', 'wpt_name', 'num_private', 'id', 'date_recorded', 'longitude', 'latitude'])"
   ]
  },
  {
   "cell_type": "code",
   "execution_count": 118,
   "metadata": {},
   "outputs": [],
   "source": [
    "data.drop(to_drop, axis = 1, inplace = True)"
   ]
  },
  {
   "cell_type": "code",
   "execution_count": 119,
   "metadata": {},
   "outputs": [
    {
     "name": "stdout",
     "output_type": "stream",
     "text": [
      "<class 'pandas.core.frame.DataFrame'>\n",
      "Int64Index: 59400 entries, 0 to 59399\n",
      "Data columns (total 18 columns):\n",
      " #   Column                 Non-Null Count  Dtype   \n",
      "---  ------                 --------------  -----   \n",
      " 0   amount_tsh             59400 non-null  float64 \n",
      " 1   funder                 59400 non-null  object  \n",
      " 2   installer              59400 non-null  object  \n",
      " 3   basin                  59400 non-null  object  \n",
      " 4   district_code          59400 non-null  int64   \n",
      " 5   lga                    59400 non-null  object  \n",
      " 6   public_meeting         59400 non-null  bool    \n",
      " 7   permit                 59400 non-null  bool    \n",
      " 8   extraction_type_group  59400 non-null  object  \n",
      " 9   management             59400 non-null  object  \n",
      " 10  payment                59400 non-null  object  \n",
      " 11  quality_group          59400 non-null  object  \n",
      " 12  quantity               59400 non-null  object  \n",
      " 13  source_type            59400 non-null  object  \n",
      " 14  waterpoint_type        59400 non-null  object  \n",
      " 15  status_group           59400 non-null  object  \n",
      " 16  pop_bins               59400 non-null  category\n",
      " 17  construct_bins         59400 non-null  category\n",
      "dtypes: bool(2), category(2), float64(1), int64(1), object(12)\n",
      "memory usage: 9.5+ MB\n"
     ]
    }
   ],
   "source": [
    "data.info()"
   ]
  },
  {
   "cell_type": "code",
   "execution_count": 120,
   "metadata": {},
   "outputs": [
    {
     "data": {
      "text/plain": [
       "amount_tsh               0\n",
       "funder                   0\n",
       "installer                0\n",
       "basin                    0\n",
       "district_code            0\n",
       "lga                      0\n",
       "public_meeting           0\n",
       "permit                   0\n",
       "extraction_type_group    0\n",
       "management               0\n",
       "payment                  0\n",
       "quality_group            0\n",
       "quantity                 0\n",
       "source_type              0\n",
       "waterpoint_type          0\n",
       "status_group             0\n",
       "pop_bins                 0\n",
       "construct_bins           0\n",
       "dtype: int64"
      ]
     },
     "execution_count": 120,
     "metadata": {},
     "output_type": "execute_result"
    }
   ],
   "source": [
    "data.isnull().sum()"
   ]
  },
  {
   "cell_type": "code",
   "execution_count": 121,
   "metadata": {},
   "outputs": [],
   "source": [
    "data.to_csv('Data/cleaned_df.csv', index = False)"
   ]
  }
 ],
 "metadata": {
  "kernelspec": {
   "display_name": "Python (learn-env)",
   "language": "python",
   "name": "learn-env"
  },
  "language_info": {
   "codemirror_mode": {
    "name": "ipython",
    "version": 3
   },
   "file_extension": ".py",
   "mimetype": "text/x-python",
   "name": "python",
   "nbconvert_exporter": "python",
   "pygments_lexer": "ipython3",
   "version": "3.8.5"
  },
  "toc": {
   "base_numbering": 1,
   "nav_menu": {},
   "number_sections": true,
   "sideBar": true,
   "skip_h1_title": false,
   "title_cell": "Table of Contents",
   "title_sidebar": "Contents",
   "toc_cell": false,
   "toc_position": {},
   "toc_section_display": true,
   "toc_window_display": false
  },
  "varInspector": {
   "cols": {
    "lenName": 16,
    "lenType": 16,
    "lenVar": 40
   },
   "kernels_config": {
    "python": {
     "delete_cmd_postfix": "",
     "delete_cmd_prefix": "del ",
     "library": "var_list.py",
     "varRefreshCmd": "print(var_dic_list())"
    },
    "r": {
     "delete_cmd_postfix": ") ",
     "delete_cmd_prefix": "rm(",
     "library": "var_list.r",
     "varRefreshCmd": "cat(var_dic_list()) "
    }
   },
   "types_to_exclude": [
    "module",
    "function",
    "builtin_function_or_method",
    "instance",
    "_Feature"
   ],
   "window_display": false
  }
 },
 "nbformat": 4,
 "nbformat_minor": 4
}
