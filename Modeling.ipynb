{
 "cells": [
  {
   "cell_type": "markdown",
   "metadata": {},
   "source": [
    "## Final Project Submission\n",
    "\n",
    "Please fill out:\n",
    "* Student name: Wesley Yu\n",
    "* Student pace: Flex\n",
    "* Scheduled project review date/time:\n",
    "* Instructor name: Abhineet Kulkarni\n",
    "* Blog post URL:"
   ]
  },
  {
   "cell_type": "markdown",
   "metadata": {},
   "source": [
    "# Tanzanian Water Well Analysis\n",
    "\n",
    "**Authors:** Wesley Yu\n",
    "***"
   ]
  },
  {
   "cell_type": "markdown",
   "metadata": {},
   "source": [
    "## Overview\n",
    "\n",
    "This notebook will go over modeling process for classifying water well functionality."
   ]
  },
  {
   "cell_type": "code",
   "execution_count": 1,
   "metadata": {},
   "outputs": [],
   "source": [
    "# import libraries\n",
    "import pandas as pd\n",
    "import numpy as np\n",
    "from matplotlib import pyplot as plt\n",
    "import seaborn as sns\n",
    "\n",
    "from sklearn.model_selection import train_test_split, GridSearchCV, RandomizedSearchCV, cross_val_score, cross_validate\n",
    "from sklearn.pipeline import Pipeline\n",
    "from sklearn.preprocessing import StandardScaler, OneHotEncoder, FunctionTransformer\n",
    "from sklearn.impute import SimpleImputer\n",
    "from sklearn.compose import ColumnTransformer\n",
    "from sklearn.linear_model import LogisticRegression\n",
    "from sklearn.tree import DecisionTreeClassifier\n",
    "from sklearn.ensemble import RandomForestClassifier, GradientBoostingClassifier\n",
    "from sklearn.metrics import plot_confusion_matrix, recall_score,\\\n",
    "    accuracy_score, precision_score, f1_score\n",
    "from scipy.stats import randint as sp_randInt\n",
    "from xgboost import XGBClassifier\n",
    "from sklearn.metrics import precision_recall_curve"
   ]
  },
  {
   "cell_type": "code",
   "execution_count": 2,
   "metadata": {},
   "outputs": [],
   "source": [
    "# bring in cleaned data\n",
    "data = pd.read_csv('Data/cleaned_df.csv')"
   ]
  },
  {
   "cell_type": "code",
   "execution_count": 3,
   "metadata": {},
   "outputs": [
    {
     "data": {
      "text/html": [
       "<div>\n",
       "<style scoped>\n",
       "    .dataframe tbody tr th:only-of-type {\n",
       "        vertical-align: middle;\n",
       "    }\n",
       "\n",
       "    .dataframe tbody tr th {\n",
       "        vertical-align: top;\n",
       "    }\n",
       "\n",
       "    .dataframe thead th {\n",
       "        text-align: right;\n",
       "    }\n",
       "</style>\n",
       "<table border=\"1\" class=\"dataframe\">\n",
       "  <thead>\n",
       "    <tr style=\"text-align: right;\">\n",
       "      <th></th>\n",
       "      <th>amount_tsh</th>\n",
       "      <th>funder</th>\n",
       "      <th>installer</th>\n",
       "      <th>basin</th>\n",
       "      <th>district_code</th>\n",
       "      <th>lga</th>\n",
       "      <th>public_meeting</th>\n",
       "      <th>permit</th>\n",
       "      <th>extraction_type_group</th>\n",
       "      <th>management</th>\n",
       "      <th>payment</th>\n",
       "      <th>quality_group</th>\n",
       "      <th>quantity</th>\n",
       "      <th>source_type</th>\n",
       "      <th>waterpoint_type</th>\n",
       "      <th>status_group</th>\n",
       "      <th>pop_bins</th>\n",
       "      <th>construct_bins</th>\n",
       "    </tr>\n",
       "  </thead>\n",
       "  <tbody>\n",
       "    <tr>\n",
       "      <th>0</th>\n",
       "      <td>1.0</td>\n",
       "      <td>other</td>\n",
       "      <td>other</td>\n",
       "      <td>Lake Nyasa</td>\n",
       "      <td>5</td>\n",
       "      <td>Ludewa</td>\n",
       "      <td>True</td>\n",
       "      <td>False</td>\n",
       "      <td>gravity</td>\n",
       "      <td>vwc</td>\n",
       "      <td>pay annually</td>\n",
       "      <td>good</td>\n",
       "      <td>enough</td>\n",
       "      <td>spring</td>\n",
       "      <td>communal standpipe</td>\n",
       "      <td>functional</td>\n",
       "      <td>below_average</td>\n",
       "      <td>90s</td>\n",
       "    </tr>\n",
       "    <tr>\n",
       "      <th>1</th>\n",
       "      <td>0.0</td>\n",
       "      <td>other</td>\n",
       "      <td>other</td>\n",
       "      <td>Lake Victoria</td>\n",
       "      <td>2</td>\n",
       "      <td>Serengeti</td>\n",
       "      <td>True</td>\n",
       "      <td>True</td>\n",
       "      <td>gravity</td>\n",
       "      <td>wug</td>\n",
       "      <td>never pay</td>\n",
       "      <td>good</td>\n",
       "      <td>insufficient</td>\n",
       "      <td>rainwater harvesting</td>\n",
       "      <td>communal standpipe</td>\n",
       "      <td>functional</td>\n",
       "      <td>above_average</td>\n",
       "      <td>10s</td>\n",
       "    </tr>\n",
       "    <tr>\n",
       "      <th>2</th>\n",
       "      <td>1.0</td>\n",
       "      <td>other</td>\n",
       "      <td>other</td>\n",
       "      <td>Pangani</td>\n",
       "      <td>4</td>\n",
       "      <td>Simanjiro</td>\n",
       "      <td>True</td>\n",
       "      <td>True</td>\n",
       "      <td>gravity</td>\n",
       "      <td>vwc</td>\n",
       "      <td>pay per bucket</td>\n",
       "      <td>good</td>\n",
       "      <td>enough</td>\n",
       "      <td>dam</td>\n",
       "      <td>communal standpipe multiple</td>\n",
       "      <td>functional</td>\n",
       "      <td>above_average</td>\n",
       "      <td>00s</td>\n",
       "    </tr>\n",
       "    <tr>\n",
       "      <th>3</th>\n",
       "      <td>0.0</td>\n",
       "      <td>Unicef</td>\n",
       "      <td>other</td>\n",
       "      <td>Ruvuma / Southern Coast</td>\n",
       "      <td>63</td>\n",
       "      <td>Nanyumbu</td>\n",
       "      <td>True</td>\n",
       "      <td>True</td>\n",
       "      <td>submersible</td>\n",
       "      <td>vwc</td>\n",
       "      <td>never pay</td>\n",
       "      <td>good</td>\n",
       "      <td>dry</td>\n",
       "      <td>borehole</td>\n",
       "      <td>communal standpipe multiple</td>\n",
       "      <td>non functional</td>\n",
       "      <td>below_average</td>\n",
       "      <td>80s</td>\n",
       "    </tr>\n",
       "    <tr>\n",
       "      <th>4</th>\n",
       "      <td>0.0</td>\n",
       "      <td>other</td>\n",
       "      <td>other</td>\n",
       "      <td>Lake Victoria</td>\n",
       "      <td>1</td>\n",
       "      <td>Karagwe</td>\n",
       "      <td>True</td>\n",
       "      <td>True</td>\n",
       "      <td>gravity</td>\n",
       "      <td>other</td>\n",
       "      <td>never pay</td>\n",
       "      <td>good</td>\n",
       "      <td>seasonal</td>\n",
       "      <td>rainwater harvesting</td>\n",
       "      <td>communal standpipe</td>\n",
       "      <td>functional</td>\n",
       "      <td>none</td>\n",
       "      <td>unknown</td>\n",
       "    </tr>\n",
       "  </tbody>\n",
       "</table>\n",
       "</div>"
      ],
      "text/plain": [
       "   amount_tsh  funder installer                    basin  district_code  \\\n",
       "0         1.0   other     other               Lake Nyasa              5   \n",
       "1         0.0   other     other            Lake Victoria              2   \n",
       "2         1.0   other     other                  Pangani              4   \n",
       "3         0.0  Unicef     other  Ruvuma / Southern Coast             63   \n",
       "4         0.0   other     other            Lake Victoria              1   \n",
       "\n",
       "         lga  public_meeting  permit extraction_type_group management  \\\n",
       "0     Ludewa            True   False               gravity        vwc   \n",
       "1  Serengeti            True    True               gravity        wug   \n",
       "2  Simanjiro            True    True               gravity        vwc   \n",
       "3   Nanyumbu            True    True           submersible        vwc   \n",
       "4    Karagwe            True    True               gravity      other   \n",
       "\n",
       "          payment quality_group      quantity           source_type  \\\n",
       "0    pay annually          good        enough                spring   \n",
       "1       never pay          good  insufficient  rainwater harvesting   \n",
       "2  pay per bucket          good        enough                   dam   \n",
       "3       never pay          good           dry              borehole   \n",
       "4       never pay          good      seasonal  rainwater harvesting   \n",
       "\n",
       "               waterpoint_type    status_group       pop_bins construct_bins  \n",
       "0           communal standpipe      functional  below_average            90s  \n",
       "1           communal standpipe      functional  above_average            10s  \n",
       "2  communal standpipe multiple      functional  above_average            00s  \n",
       "3  communal standpipe multiple  non functional  below_average            80s  \n",
       "4           communal standpipe      functional           none        unknown  "
      ]
     },
     "execution_count": 3,
     "metadata": {},
     "output_type": "execute_result"
    }
   ],
   "source": [
    "data.head()"
   ]
  },
  {
   "cell_type": "code",
   "execution_count": 4,
   "metadata": {},
   "outputs": [
    {
     "name": "stdout",
     "output_type": "stream",
     "text": [
      "<class 'pandas.core.frame.DataFrame'>\n",
      "RangeIndex: 59400 entries, 0 to 59399\n",
      "Data columns (total 18 columns):\n",
      " #   Column                 Non-Null Count  Dtype  \n",
      "---  ------                 --------------  -----  \n",
      " 0   amount_tsh             59400 non-null  float64\n",
      " 1   funder                 59400 non-null  object \n",
      " 2   installer              59400 non-null  object \n",
      " 3   basin                  59400 non-null  object \n",
      " 4   district_code          59400 non-null  int64  \n",
      " 5   lga                    59400 non-null  object \n",
      " 6   public_meeting         59400 non-null  bool   \n",
      " 7   permit                 59400 non-null  bool   \n",
      " 8   extraction_type_group  59400 non-null  object \n",
      " 9   management             59400 non-null  object \n",
      " 10  payment                59400 non-null  object \n",
      " 11  quality_group          59400 non-null  object \n",
      " 12  quantity               59400 non-null  object \n",
      " 13  source_type            59400 non-null  object \n",
      " 14  waterpoint_type        59400 non-null  object \n",
      " 15  status_group           59400 non-null  object \n",
      " 16  pop_bins               59400 non-null  object \n",
      " 17  construct_bins         59400 non-null  object \n",
      "dtypes: bool(2), float64(1), int64(1), object(14)\n",
      "memory usage: 7.4+ MB\n"
     ]
    }
   ],
   "source": [
    "data.info()"
   ]
  },
  {
   "cell_type": "code",
   "execution_count": 3,
   "metadata": {},
   "outputs": [],
   "source": [
    "# assigning features and target\n",
    "X = data.drop('status_group', axis = 1)\n",
    "y = data.status_group"
   ]
  },
  {
   "cell_type": "markdown",
   "metadata": {},
   "source": [
    "Changing status group to binary. \n",
    "* functional = 0\n",
    "* non funcation = 1"
   ]
  },
  {
   "cell_type": "code",
   "execution_count": 4,
   "metadata": {},
   "outputs": [],
   "source": [
    "y.replace({'functional': 0, 'non functional': 1}, inplace = True)"
   ]
  },
  {
   "cell_type": "code",
   "execution_count": 7,
   "metadata": {},
   "outputs": [
    {
     "data": {
      "text/plain": [
       "0    36576\n",
       "1    22824\n",
       "Name: status_group, dtype: int64"
      ]
     },
     "execution_count": 7,
     "metadata": {},
     "output_type": "execute_result"
    }
   ],
   "source": [
    "y.value_counts()"
   ]
  },
  {
   "cell_type": "markdown",
   "metadata": {},
   "source": [
    "Creating pipeline for preprocessing steps. Most features are categorical, numeric features have already been changed to either binary or ordinal. Other preprocessing steps can be added if needed."
   ]
  },
  {
   "cell_type": "code",
   "execution_count": 5,
   "metadata": {},
   "outputs": [],
   "source": [
    "cat_cols = list(X.select_dtypes('object').columns)"
   ]
  },
  {
   "cell_type": "code",
   "execution_count": 6,
   "metadata": {},
   "outputs": [],
   "source": [
    "ohe = OneHotEncoder(sparse=False, handle_unknown='ignore')"
   ]
  },
  {
   "cell_type": "code",
   "execution_count": 7,
   "metadata": {},
   "outputs": [],
   "source": [
    "CT = ColumnTransformer(transformers=[('ohe', ohe, cat_cols)],\n",
    "                                       remainder='passthrough')"
   ]
  },
  {
   "cell_type": "markdown",
   "metadata": {},
   "source": [
    "Splitting data to train and test sets."
   ]
  },
  {
   "cell_type": "code",
   "execution_count": 8,
   "metadata": {},
   "outputs": [],
   "source": [
    "X_train, X_test, y_train, y_test = train_test_split(X, y, random_state=42)"
   ]
  },
  {
   "cell_type": "markdown",
   "metadata": {},
   "source": [
    "## Baseline Model"
   ]
  },
  {
   "cell_type": "markdown",
   "metadata": {},
   "source": [
    "For our baseline model we will a logistic regression model and optimize for precision. We want to keep the number of false positives low, so that unnecessary resources will not be wasted if a water point was predicted to be non functional but it was in fact functional. We will also monitor recall to ensure we are identifying a good amount of non functional water points."
   ]
  },
  {
   "cell_type": "code",
   "execution_count": 12,
   "metadata": {},
   "outputs": [],
   "source": [
    "logreg_model_pipe = Pipeline(steps=[('ct', CT),\n",
    "                            ('logreg', LogisticRegression(class_weight = 'balanced', random_state=42, max_iter = 700))])"
   ]
  },
  {
   "cell_type": "code",
   "execution_count": 13,
   "metadata": {},
   "outputs": [],
   "source": [
    "cv = cross_validate(logreg_model_pipe, X_train, y_train, cv = 5, scoring = ['precision', 'recall'])"
   ]
  },
  {
   "cell_type": "code",
   "execution_count": 14,
   "metadata": {},
   "outputs": [
    {
     "data": {
      "text/plain": [
       "0.7366979730065301"
      ]
     },
     "execution_count": 14,
     "metadata": {},
     "output_type": "execute_result"
    }
   ],
   "source": [
    "cv['test_precision'].mean()"
   ]
  },
  {
   "cell_type": "code",
   "execution_count": 15,
   "metadata": {},
   "outputs": [
    {
     "data": {
      "text/plain": [
       "0.7367891258490648"
      ]
     },
     "execution_count": 15,
     "metadata": {},
     "output_type": "execute_result"
    }
   ],
   "source": [
    "cv['test_recall'].mean()"
   ]
  },
  {
   "cell_type": "code",
   "execution_count": 16,
   "metadata": {},
   "outputs": [
    {
     "data": {
      "text/plain": [
       "Pipeline(steps=[('ct',\n",
       "                 ColumnTransformer(remainder='passthrough',\n",
       "                                   transformers=[('ohe',\n",
       "                                                  OneHotEncoder(handle_unknown='ignore',\n",
       "                                                                sparse=False),\n",
       "                                                  ['funder', 'installer',\n",
       "                                                   'basin', 'lga',\n",
       "                                                   'extraction_type_group',\n",
       "                                                   'management', 'payment',\n",
       "                                                   'quality_group', 'quantity',\n",
       "                                                   'source_type',\n",
       "                                                   'waterpoint_type',\n",
       "                                                   'pop_bins',\n",
       "                                                   'construct_bins'])])),\n",
       "                ('logreg',\n",
       "                 LogisticRegression(class_weight='balanced', max_iter=700,\n",
       "                                    random_state=42))])"
      ]
     },
     "execution_count": 16,
     "metadata": {},
     "output_type": "execute_result"
    }
   ],
   "source": [
    "logreg_model_pipe.fit(X_train, y_train)"
   ]
  },
  {
   "cell_type": "code",
   "execution_count": 17,
   "metadata": {},
   "outputs": [
    {
     "data": {
      "image/png": "[encoded data removed]",
      "text/plain": [
       "<Figure size 432x288 with 2 Axes>"
      ]
     },
     "metadata": {
      "needs_background": "light"
     },
     "output_type": "display_data"
    }
   ],
   "source": [
    "plot_confusion_matrix(logreg_model_pipe, X_train, y_train);"
   ]
  },
  {
   "cell_type": "markdown",
   "metadata": {},
   "source": [
    "Baseline logistic regression performed decently. Around 73% precision (4475 false positives) of the model's positive predictions were correct and around 73% recall (4432 false negatives) of the total actual positives were correctly predicted. We will see if we can get better results by tuning some hyper parameters. Using gridsearchcv we will try different combinations of solvers and amounts of regulation(C)."
   ]
  },
  {
   "cell_type": "code",
   "execution_count": 18,
   "metadata": {},
   "outputs": [],
   "source": [
    "params = {\"logreg__C\": [0.01, 0.1, 1],\n",
    "          \"logreg__solver\": ['lbfgs', 'sag', 'saga']}\n",
    "\n",
    "gs = GridSearchCV(estimator=logreg_model_pipe,\n",
    "                 param_grid=params,\n",
    "                 cv=5,\n",
    "                 scoring = ['precision', 'recall'],\n",
    "                 refit = 'precision'\n",
    "                 )"
   ]
  },
  {
   "cell_type": "code",
   "execution_count": 19,
   "metadata": {},
   "outputs": [
    {
     "name": "stderr",
     "output_type": "stream",
     "text": [
      "C:\\Users\\Martian\\Anaconda3\\envs\\learn-env\\lib\\site-packages\\sklearn\\linear_model\\_sag.py:329: ConvergenceWarning: The max_iter was reached which means the coef_ did not converge\n",
      "  warnings.warn(\"The max_iter was reached which means \"\n",
      "C:\\Users\\Martian\\Anaconda3\\envs\\learn-env\\lib\\site-packages\\sklearn\\linear_model\\_sag.py:329: ConvergenceWarning: The max_iter was reached which means the coef_ did not converge\n",
      "  warnings.warn(\"The max_iter was reached which means \"\n",
      "C:\\Users\\Martian\\Anaconda3\\envs\\learn-env\\lib\\site-packages\\sklearn\\linear_model\\_sag.py:329: ConvergenceWarning: The max_iter was reached which means the coef_ did not converge\n",
      "  warnings.warn(\"The max_iter was reached which means \"\n",
      "C:\\Users\\Martian\\Anaconda3\\envs\\learn-env\\lib\\site-packages\\sklearn\\linear_model\\_sag.py:329: ConvergenceWarning: The max_iter was reached which means the coef_ did not converge\n",
      "  warnings.warn(\"The max_iter was reached which means \"\n",
      "C:\\Users\\Martian\\Anaconda3\\envs\\learn-env\\lib\\site-packages\\sklearn\\linear_model\\_sag.py:329: ConvergenceWarning: The max_iter was reached which means the coef_ did not converge\n",
      "  warnings.warn(\"The max_iter was reached which means \"\n",
      "C:\\Users\\Martian\\Anaconda3\\envs\\learn-env\\lib\\site-packages\\sklearn\\linear_model\\_sag.py:329: ConvergenceWarning: The max_iter was reached which means the coef_ did not converge\n",
      "  warnings.warn(\"The max_iter was reached which means \"\n",
      "C:\\Users\\Martian\\Anaconda3\\envs\\learn-env\\lib\\site-packages\\sklearn\\linear_model\\_sag.py:329: ConvergenceWarning: The max_iter was reached which means the coef_ did not converge\n",
      "  warnings.warn(\"The max_iter was reached which means \"\n",
      "C:\\Users\\Martian\\Anaconda3\\envs\\learn-env\\lib\\site-packages\\sklearn\\linear_model\\_sag.py:329: ConvergenceWarning: The max_iter was reached which means the coef_ did not converge\n",
      "  warnings.warn(\"The max_iter was reached which means \"\n",
      "C:\\Users\\Martian\\Anaconda3\\envs\\learn-env\\lib\\site-packages\\sklearn\\linear_model\\_sag.py:329: ConvergenceWarning: The max_iter was reached which means the coef_ did not converge\n",
      "  warnings.warn(\"The max_iter was reached which means \"\n",
      "C:\\Users\\Martian\\Anaconda3\\envs\\learn-env\\lib\\site-packages\\sklearn\\linear_model\\_sag.py:329: ConvergenceWarning: The max_iter was reached which means the coef_ did not converge\n",
      "  warnings.warn(\"The max_iter was reached which means \"\n"
     ]
    },
    {
     "data": {
      "text/plain": [
       "GridSearchCV(cv=5,\n",
       "             estimator=Pipeline(steps=[('ct',\n",
       "                                        ColumnTransformer(remainder='passthrough',\n",
       "                                                          transformers=[('ohe',\n",
       "                                                                         OneHotEncoder(handle_unknown='ignore',\n",
       "                                                                                       sparse=False),\n",
       "                                                                         ['funder',\n",
       "                                                                          'installer',\n",
       "                                                                          'basin',\n",
       "                                                                          'lga',\n",
       "                                                                          'extraction_type_group',\n",
       "                                                                          'management',\n",
       "                                                                          'payment',\n",
       "                                                                          'quality_group',\n",
       "                                                                          'quantity',\n",
       "                                                                          'source_type',\n",
       "                                                                          'waterpoint_type',\n",
       "                                                                          'pop_bins',\n",
       "                                                                          'construct_bins'])])),\n",
       "                                       ('logreg',\n",
       "                                        LogisticRegression(class_weight='balanced',\n",
       "                                                           max_iter=700,\n",
       "                                                           random_state=42))]),\n",
       "             param_grid={'logreg__C': [0.01, 0.1, 1],\n",
       "                         'logreg__solver': ['lbfgs', 'sag', 'saga']},\n",
       "             refit='precision', scoring=['precision', 'recall'])"
      ]
     },
     "execution_count": 19,
     "metadata": {},
     "output_type": "execute_result"
    }
   ],
   "source": [
    "gs.fit(X_train, y_train)"
   ]
  },
  {
   "cell_type": "code",
   "execution_count": 20,
   "metadata": {},
   "outputs": [
    {
     "data": {
      "text/plain": [
       "{'logreg__C': 0.1, 'logreg__solver': 'saga'}"
      ]
     },
     "execution_count": 20,
     "metadata": {},
     "output_type": "execute_result"
    }
   ],
   "source": [
    "gs.best_params_"
   ]
  },
  {
   "cell_type": "code",
   "execution_count": 21,
   "metadata": {},
   "outputs": [
    {
     "data": {
      "text/plain": [
       "0.7442428285589741"
      ]
     },
     "execution_count": 21,
     "metadata": {},
     "output_type": "execute_result"
    }
   ],
   "source": [
    "gs.best_score_"
   ]
  },
  {
   "cell_type": "code",
   "execution_count": 22,
   "metadata": {},
   "outputs": [
    {
     "data": {
      "text/plain": [
       "0.7264076684292015"
      ]
     },
     "execution_count": 22,
     "metadata": {},
     "output_type": "execute_result"
    }
   ],
   "source": [
    "i = gs.best_index_\n",
    "gs.cv_results_['mean_test_recall'][i]"
   ]
  },
  {
   "cell_type": "markdown",
   "metadata": {},
   "source": [
    "Best hyper parameters were found to be solver = saga and C = 0.1. With a precision score of 0.7442."
   ]
  },
  {
   "cell_type": "code",
   "execution_count": 23,
   "metadata": {},
   "outputs": [],
   "source": [
    "logreg_model_pipe = Pipeline(steps=[('ct', CT),\n",
    "                            ('logreg', LogisticRegression(class_weight = 'balanced', random_state=42, max_iter = 700, solver = 'saga', C = 0.1))])"
   ]
  },
  {
   "cell_type": "code",
   "execution_count": 24,
   "metadata": {
    "scrolled": true
   },
   "outputs": [
    {
     "data": {
      "text/plain": [
       "Pipeline(steps=[('ct',\n",
       "                 ColumnTransformer(remainder='passthrough',\n",
       "                                   transformers=[('ohe',\n",
       "                                                  OneHotEncoder(handle_unknown='ignore',\n",
       "                                                                sparse=False),\n",
       "                                                  ['funder', 'installer',\n",
       "                                                   'basin', 'lga',\n",
       "                                                   'extraction_type_group',\n",
       "                                                   'management', 'payment',\n",
       "                                                   'quality_group', 'quantity',\n",
       "                                                   'source_type',\n",
       "                                                   'waterpoint_type',\n",
       "                                                   'pop_bins',\n",
       "                                                   'construct_bins'])])),\n",
       "                ('logreg',\n",
       "                 LogisticRegression(C=0.1, class_weight='balanced',\n",
       "                                    max_iter=700, random_state=42,\n",
       "                                    solver='saga'))])"
      ]
     },
     "execution_count": 24,
     "metadata": {},
     "output_type": "execute_result"
    }
   ],
   "source": [
    "logreg_model_pipe.fit(X_train, y_train)"
   ]
  },
  {
   "cell_type": "code",
   "execution_count": 25,
   "metadata": {},
   "outputs": [
    {
     "data": {
      "image/png": "[encoded data removed]",
      "text/plain": [
       "<Figure size 432x288 with 2 Axes>"
      ]
     },
     "metadata": {
      "needs_background": "light"
     },
     "output_type": "display_data"
    }
   ],
   "source": [
    "plot_confusion_matrix(logreg_model_pipe, X_train, y_train);"
   ]
  },
  {
   "cell_type": "markdown",
   "metadata": {},
   "source": [
    "Confusion matrix shows that we have reduced false positives from 4475 to 4276."
   ]
  },
  {
   "cell_type": "markdown",
   "metadata": {},
   "source": [
    "## Other classification algorithms\n",
    "### Decision tree\n",
    "Based on our features a decision tree model may be able to out perform a logistic regression model due to the majority of categorical features."
   ]
  },
  {
   "cell_type": "code",
   "execution_count": 26,
   "metadata": {},
   "outputs": [],
   "source": [
    "dt = DecisionTreeClassifier(random_state = 42, class_weight = 'balanced')\n",
    "dt_model_pipe = Pipeline([('ct', CT), ('dt', dt)])"
   ]
  },
  {
   "cell_type": "code",
   "execution_count": 27,
   "metadata": {},
   "outputs": [],
   "source": [
    "cv = cross_validate(dt_model_pipe, X_train, y_train, cv = 5, scoring = ['precision', 'recall'])"
   ]
  },
  {
   "cell_type": "code",
   "execution_count": 28,
   "metadata": {},
   "outputs": [
    {
     "data": {
      "text/plain": [
       "0.7535421268016254"
      ]
     },
     "execution_count": 28,
     "metadata": {},
     "output_type": "execute_result"
    }
   ],
   "source": [
    "cv['test_precision'].mean()"
   ]
  },
  {
   "cell_type": "code",
   "execution_count": 29,
   "metadata": {},
   "outputs": [
    {
     "data": {
      "text/plain": [
       "0.7686918216855545"
      ]
     },
     "execution_count": 29,
     "metadata": {},
     "output_type": "execute_result"
    }
   ],
   "source": [
    "cv['test_recall'].mean()"
   ]
  },
  {
   "cell_type": "code",
   "execution_count": 30,
   "metadata": {},
   "outputs": [
    {
     "data": {
      "text/plain": [
       "Pipeline(steps=[('ct',\n",
       "                 ColumnTransformer(remainder='passthrough',\n",
       "                                   transformers=[('ohe',\n",
       "                                                  OneHotEncoder(handle_unknown='ignore',\n",
       "                                                                sparse=False),\n",
       "                                                  ['funder', 'installer',\n",
       "                                                   'basin', 'lga',\n",
       "                                                   'extraction_type_group',\n",
       "                                                   'management', 'payment',\n",
       "                                                   'quality_group', 'quantity',\n",
       "                                                   'source_type',\n",
       "                                                   'waterpoint_type',\n",
       "                                                   'pop_bins',\n",
       "                                                   'construct_bins'])])),\n",
       "                ('dt',\n",
       "                 DecisionTreeClassifier(class_weight='balanced',\n",
       "                                        random_state=42))])"
      ]
     },
     "execution_count": 30,
     "metadata": {},
     "output_type": "execute_result"
    }
   ],
   "source": [
    "dt_model_pipe.fit(X_train, y_train)"
   ]
  },
  {
   "cell_type": "code",
   "execution_count": 31,
   "metadata": {},
   "outputs": [
    {
     "data": {
      "image/png": "[encoded data removed]",
      "text/plain": [
       "<Figure size 432x288 with 2 Axes>"
      ]
     },
     "metadata": {
      "needs_background": "light"
     },
     "output_type": "display_data"
    }
   ],
   "source": [
    "plot_confusion_matrix(dt_model_pipe, X_train, y_train);"
   ]
  },
  {
   "cell_type": "markdown",
   "metadata": {},
   "source": [
    "Decision tree model performed better than tuned logistic regression model. there is a decrease in false positives (4475 to 1967) and negatives (4620 to 1568), and an increase in true positives (12526 to 15578)."
   ]
  },
  {
   "cell_type": "markdown",
   "metadata": {},
   "source": [
    "### Random forest\n",
    "Instead of tuning decision tree parameters for better performance. We can use random forest, which performs multiple decision trees and aggregates their results."
   ]
  },
  {
   "cell_type": "code",
   "execution_count": 32,
   "metadata": {},
   "outputs": [],
   "source": [
    "rfc = RandomForestClassifier(random_state=42, class_weight = 'balanced')\n",
    "rfc_model_pipe = Pipeline([('ct', CT), ('rfc', rfc)])"
   ]
  },
  {
   "cell_type": "code",
   "execution_count": 33,
   "metadata": {},
   "outputs": [],
   "source": [
    "cv = cross_validate(rfc_model_pipe, X_train, y_train, cv = 5, scoring = ['precision', 'recall'])"
   ]
  },
  {
   "cell_type": "code",
   "execution_count": 34,
   "metadata": {},
   "outputs": [
    {
     "data": {
      "text/plain": [
       "0.7996838047831425"
      ]
     },
     "execution_count": 34,
     "metadata": {},
     "output_type": "execute_result"
    }
   ],
   "source": [
    "cv['test_precision'].mean()"
   ]
  },
  {
   "cell_type": "code",
   "execution_count": 35,
   "metadata": {},
   "outputs": [
    {
     "data": {
      "text/plain": [
       "0.761343097418945"
      ]
     },
     "execution_count": 35,
     "metadata": {},
     "output_type": "execute_result"
    }
   ],
   "source": [
    "cv['test_recall'].mean()"
   ]
  },
  {
   "cell_type": "code",
   "execution_count": 36,
   "metadata": {},
   "outputs": [
    {
     "data": {
      "text/plain": [
       "Pipeline(steps=[('ct',\n",
       "                 ColumnTransformer(remainder='passthrough',\n",
       "                                   transformers=[('ohe',\n",
       "                                                  OneHotEncoder(handle_unknown='ignore',\n",
       "                                                                sparse=False),\n",
       "                                                  ['funder', 'installer',\n",
       "                                                   'basin', 'lga',\n",
       "                                                   'extraction_type_group',\n",
       "                                                   'management', 'payment',\n",
       "                                                   'quality_group', 'quantity',\n",
       "                                                   'source_type',\n",
       "                                                   'waterpoint_type',\n",
       "                                                   'pop_bins',\n",
       "                                                   'construct_bins'])])),\n",
       "                ('rfc',\n",
       "                 RandomForestClassifier(class_weight='balanced',\n",
       "                                        random_state=42))])"
      ]
     },
     "execution_count": 36,
     "metadata": {},
     "output_type": "execute_result"
    }
   ],
   "source": [
    "rfc_model_pipe.fit(X_train, y_train)"
   ]
  },
  {
   "cell_type": "code",
   "execution_count": 37,
   "metadata": {},
   "outputs": [
    {
     "data": {
      "image/png": "[encoded data removed]",
      "text/plain": [
       "<Figure size 432x288 with 2 Axes>"
      ]
     },
     "metadata": {
      "needs_background": "light"
     },
     "output_type": "display_data"
    }
   ],
   "source": [
    "plot_confusion_matrix(rfc_model_pipe, X_train, y_train);"
   ]
  },
  {
   "cell_type": "code",
   "execution_count": 38,
   "metadata": {},
   "outputs": [],
   "source": [
    "pred_prob = rfc_model_pipe.predict_proba(X_train)"
   ]
  },
  {
   "cell_type": "code",
   "execution_count": 39,
   "metadata": {},
   "outputs": [],
   "source": [
    "precision, recall, threshold = precision_recall_curve(y_train, pred_prob[:, 1])"
   ]
  },
  {
   "cell_type": "code",
   "execution_count": 41,
   "metadata": {},
   "outputs": [
    {
     "data": {
      "text/plain": [
       "array([0.91361937, 0.        , 0.00682857, ..., 0.99      , 0.        ,\n",
       "       1.        ])"
      ]
     },
     "execution_count": 41,
     "metadata": {},
     "output_type": "execute_result"
    }
   ],
   "source": [
    "pred_prob[:,1]"
   ]
  },
  {
   "cell_type": "code",
   "execution_count": 42,
   "metadata": {},
   "outputs": [
    {
     "data": {
      "text/plain": [
       "Text(0.5, 1.0, 'Precision-Recall Curve')"
      ]
     },
     "execution_count": 42,
     "metadata": {},
     "output_type": "execute_result"
    },
    {
     "data": {
      "image/png": "[encoded data removed]",
      "text/plain": [
       "<Figure size 432x288 with 1 Axes>"
      ]
     },
     "metadata": {
      "needs_background": "light"
     },
     "output_type": "display_data"
    }
   ],
   "source": [
    "plt.plot(threshold, precision[:-1], c ='r', label ='PRECISION')\n",
    "plt.plot(threshold, recall[:-1], c ='b', label ='RECALL')\n",
    "plt.grid()\n",
    "plt.legend()\n",
    "plt.title('Precision-Recall Curve')"
   ]
  },
  {
   "cell_type": "markdown",
   "metadata": {},
   "source": [
    "Random forest model much better in terms of precision compared to decision tree model. False positives decreased from 1406 to 1089, while true positives suffered a small amount 15578 to 15389."
   ]
  },
  {
   "cell_type": "markdown",
   "metadata": {},
   "source": [
    "#### Random Search CV"
   ]
  },
  {
   "cell_type": "markdown",
   "metadata": {},
   "source": [
    "## F1"
   ]
  },
  {
   "cell_type": "code",
   "execution_count": 43,
   "metadata": {},
   "outputs": [],
   "source": [
    "random_grid = {\"rfc__n_estimators\": sp_randInt(100, 300),\n",
    "               \"rfc__criterion\": [\"gini\", \"entropy\"],\n",
    "               \"rfc__max_features\": ['sqrt', 'log2', None],\n",
    "               \"rfc__min_samples_split\": sp_randInt(2, 20),\n",
    "               \"rfc__max_depth\": sp_randInt(2, 20),\n",
    "               \"rfc__min_samples_leaf\": sp_randInt(2, 20)}\n",
    "\n",
    "rf_random = RandomizedSearchCV(estimator = rfc_model_pipe, param_distributions = random_grid, n_iter = 50, cv = 5, random_state=42, scoring = ['f1', 'precision', 'recall'], n_jobs = -1, refit = 'f1')"
   ]
  },
  {
   "cell_type": "code",
   "execution_count": 44,
   "metadata": {},
   "outputs": [
    {
     "data": {
      "text/plain": [
       "RandomizedSearchCV(cv=5,\n",
       "                   estimator=Pipeline(steps=[('ct',\n",
       "                                              ColumnTransformer(remainder='passthrough',\n",
       "                                                                transformers=[('ohe',\n",
       "                                                                               OneHotEncoder(handle_unknown='ignore',\n",
       "                                                                                             sparse=False),\n",
       "                                                                               ['funder',\n",
       "                                                                                'installer',\n",
       "                                                                                'basin',\n",
       "                                                                                'lga',\n",
       "                                                                                'extraction_type_group',\n",
       "                                                                                'management',\n",
       "                                                                                'payment',\n",
       "                                                                                'quality_group',\n",
       "                                                                                'quantity',\n",
       "                                                                                'source_type',\n",
       "                                                                                'waterpoint_type',\n",
       "                                                                                'pop_bins',\n",
       "                                                                                'construct_bins'])])),\n",
       "                                             ('rf...\n",
       "                                                              None],\n",
       "                                        'rfc__min_samples_leaf': <scipy.stats._distn_infrastructure.rv_frozen object at 0x0000000005830430>,\n",
       "                                        'rfc__min_samples_split': <scipy.stats._distn_infrastructure.rv_frozen object at 0x0000000005830A90>,\n",
       "                                        'rfc__n_estimators': <scipy.stats._distn_infrastructure.rv_frozen object at 0x0000000005818520>},\n",
       "                   random_state=42, refit='f1',\n",
       "                   scoring=['f1', 'precision', 'recall'])"
      ]
     },
     "execution_count": 44,
     "metadata": {},
     "output_type": "execute_result"
    }
   ],
   "source": [
    "rf_random.fit(X_train, y_train)"
   ]
  },
  {
   "cell_type": "code",
   "execution_count": 45,
   "metadata": {},
   "outputs": [
    {
     "data": {
      "text/plain": [
       "0.7751193126830734"
      ]
     },
     "execution_count": 45,
     "metadata": {},
     "output_type": "execute_result"
    }
   ],
   "source": [
    "rf_random.best_score_"
   ]
  },
  {
   "cell_type": "code",
   "execution_count": 46,
   "metadata": {},
   "outputs": [
    {
     "data": {
      "text/plain": [
       "{'rfc__criterion': 'gini',\n",
       " 'rfc__max_depth': 18,\n",
       " 'rfc__max_features': None,\n",
       " 'rfc__min_samples_leaf': 7,\n",
       " 'rfc__min_samples_split': 6,\n",
       " 'rfc__n_estimators': 215}"
      ]
     },
     "execution_count": 46,
     "metadata": {},
     "output_type": "execute_result"
    }
   ],
   "source": [
    "rf_random.best_params_"
   ]
  },
  {
   "cell_type": "code",
   "execution_count": 47,
   "metadata": {},
   "outputs": [
    {
     "data": {
      "text/plain": [
       "{'rfc__criterion': 'entropy',\n",
       " 'rfc__max_depth': 2,\n",
       " 'rfc__max_features': 'log2',\n",
       " 'rfc__min_samples_leaf': 17,\n",
       " 'rfc__min_samples_split': 9,\n",
       " 'rfc__n_estimators': 234}"
      ]
     },
     "execution_count": 47,
     "metadata": {},
     "output_type": "execute_result"
    }
   ],
   "source": [
    "rf_random.cv_results_['params'][46]"
   ]
  },
  {
   "cell_type": "code",
   "execution_count": 48,
   "metadata": {},
   "outputs": [
    {
     "data": {
      "text/plain": [
       "{'rfc__criterion': 'gini',\n",
       " 'rfc__max_depth': 18,\n",
       " 'rfc__max_features': None,\n",
       " 'rfc__min_samples_leaf': 7,\n",
       " 'rfc__min_samples_split': 6,\n",
       " 'rfc__n_estimators': 215}"
      ]
     },
     "execution_count": 48,
     "metadata": {},
     "output_type": "execute_result"
    }
   ],
   "source": [
    "rf_random.cv_results_['params'][33]"
   ]
  },
  {
   "cell_type": "code",
   "execution_count": 49,
   "metadata": {},
   "outputs": [],
   "source": [
    "rf_bestf1 = rf_random.best_estimator_"
   ]
  },
  {
   "cell_type": "code",
   "execution_count": 50,
   "metadata": {},
   "outputs": [
    {
     "data": {
      "image/png": "[encoded data removed]",
      "text/plain": [
       "<Figure size 432x288 with 2 Axes>"
      ]
     },
     "metadata": {
      "needs_background": "light"
     },
     "output_type": "display_data"
    }
   ],
   "source": [
    "plot_confusion_matrix(rf_bestf1, X_train, y_train);"
   ]
  },
  {
   "cell_type": "code",
   "execution_count": 51,
   "metadata": {},
   "outputs": [],
   "source": [
    "cv_results_f1 = pd.DataFrame.from_dict(rf_random.cv_results_)"
   ]
  },
  {
   "cell_type": "code",
   "execution_count": 52,
   "metadata": {},
   "outputs": [],
   "source": [
    "df_f1 = cv_results_f1[['mean_test_f1', 'rank_test_f1', 'mean_test_precision', 'rank_test_precision', 'mean_test_recall', 'rank_test_recall']]"
   ]
  },
  {
   "cell_type": "code",
   "execution_count": 53,
   "metadata": {},
   "outputs": [
    {
     "data": {
      "text/html": [
       "<div>\n",
       "<style scoped>\n",
       "    .dataframe tbody tr th:only-of-type {\n",
       "        vertical-align: middle;\n",
       "    }\n",
       "\n",
       "    .dataframe tbody tr th {\n",
       "        vertical-align: top;\n",
       "    }\n",
       "\n",
       "    .dataframe thead th {\n",
       "        text-align: right;\n",
       "    }\n",
       "</style>\n",
       "<table border=\"1\" class=\"dataframe\">\n",
       "  <thead>\n",
       "    <tr style=\"text-align: right;\">\n",
       "      <th></th>\n",
       "      <th>mean_test_f1</th>\n",
       "      <th>rank_test_f1</th>\n",
       "      <th>mean_test_precision</th>\n",
       "      <th>rank_test_precision</th>\n",
       "      <th>mean_test_recall</th>\n",
       "      <th>rank_test_recall</th>\n",
       "    </tr>\n",
       "  </thead>\n",
       "  <tbody>\n",
       "    <tr>\n",
       "      <th>7</th>\n",
       "      <td>0.583371</td>\n",
       "      <td>50</td>\n",
       "      <td>0.885149</td>\n",
       "      <td>1</td>\n",
       "      <td>0.435087</td>\n",
       "      <td>50</td>\n",
       "    </tr>\n",
       "    <tr>\n",
       "      <th>16</th>\n",
       "      <td>0.583646</td>\n",
       "      <td>47</td>\n",
       "      <td>0.883324</td>\n",
       "      <td>2</td>\n",
       "      <td>0.435845</td>\n",
       "      <td>47</td>\n",
       "    </tr>\n",
       "    <tr>\n",
       "      <th>37</th>\n",
       "      <td>0.583646</td>\n",
       "      <td>47</td>\n",
       "      <td>0.883324</td>\n",
       "      <td>2</td>\n",
       "      <td>0.435845</td>\n",
       "      <td>47</td>\n",
       "    </tr>\n",
       "    <tr>\n",
       "      <th>42</th>\n",
       "      <td>0.583646</td>\n",
       "      <td>47</td>\n",
       "      <td>0.883324</td>\n",
       "      <td>2</td>\n",
       "      <td>0.435845</td>\n",
       "      <td>47</td>\n",
       "    </tr>\n",
       "    <tr>\n",
       "      <th>24</th>\n",
       "      <td>0.696664</td>\n",
       "      <td>32</td>\n",
       "      <td>0.850968</td>\n",
       "      <td>5</td>\n",
       "      <td>0.590166</td>\n",
       "      <td>43</td>\n",
       "    </tr>\n",
       "    <tr>\n",
       "      <th>49</th>\n",
       "      <td>0.716173</td>\n",
       "      <td>25</td>\n",
       "      <td>0.837544</td>\n",
       "      <td>6</td>\n",
       "      <td>0.625626</td>\n",
       "      <td>38</td>\n",
       "    </tr>\n",
       "    <tr>\n",
       "      <th>35</th>\n",
       "      <td>0.726986</td>\n",
       "      <td>21</td>\n",
       "      <td>0.835593</td>\n",
       "      <td>7</td>\n",
       "      <td>0.643473</td>\n",
       "      <td>33</td>\n",
       "    </tr>\n",
       "    <tr>\n",
       "      <th>32</th>\n",
       "      <td>0.673174</td>\n",
       "      <td>42</td>\n",
       "      <td>0.832739</td>\n",
       "      <td>8</td>\n",
       "      <td>0.566545</td>\n",
       "      <td>45</td>\n",
       "    </tr>\n",
       "    <tr>\n",
       "      <th>36</th>\n",
       "      <td>0.642664</td>\n",
       "      <td>46</td>\n",
       "      <td>0.831098</td>\n",
       "      <td>9</td>\n",
       "      <td>0.525429</td>\n",
       "      <td>46</td>\n",
       "    </tr>\n",
       "    <tr>\n",
       "      <th>21</th>\n",
       "      <td>0.721419</td>\n",
       "      <td>22</td>\n",
       "      <td>0.829477</td>\n",
       "      <td>10</td>\n",
       "      <td>0.638399</td>\n",
       "      <td>34</td>\n",
       "    </tr>\n",
       "    <tr>\n",
       "      <th>1</th>\n",
       "      <td>0.750513</td>\n",
       "      <td>9</td>\n",
       "      <td>0.819628</td>\n",
       "      <td>11</td>\n",
       "      <td>0.692231</td>\n",
       "      <td>16</td>\n",
       "    </tr>\n",
       "    <tr>\n",
       "      <th>4</th>\n",
       "      <td>0.735513</td>\n",
       "      <td>15</td>\n",
       "      <td>0.818272</td>\n",
       "      <td>12</td>\n",
       "      <td>0.668085</td>\n",
       "      <td>22</td>\n",
       "    </tr>\n",
       "    <tr>\n",
       "      <th>27</th>\n",
       "      <td>0.683722</td>\n",
       "      <td>36</td>\n",
       "      <td>0.814846</td>\n",
       "      <td>13</td>\n",
       "      <td>0.590049</td>\n",
       "      <td>44</td>\n",
       "    </tr>\n",
       "    <tr>\n",
       "      <th>15</th>\n",
       "      <td>0.736599</td>\n",
       "      <td>14</td>\n",
       "      <td>0.814659</td>\n",
       "      <td>14</td>\n",
       "      <td>0.672343</td>\n",
       "      <td>21</td>\n",
       "    </tr>\n",
       "    <tr>\n",
       "      <th>41</th>\n",
       "      <td>0.731057</td>\n",
       "      <td>18</td>\n",
       "      <td>0.813727</td>\n",
       "      <td>15</td>\n",
       "      <td>0.663711</td>\n",
       "      <td>24</td>\n",
       "    </tr>\n",
       "    <tr>\n",
       "      <th>28</th>\n",
       "      <td>0.747302</td>\n",
       "      <td>10</td>\n",
       "      <td>0.812871</td>\n",
       "      <td>16</td>\n",
       "      <td>0.691648</td>\n",
       "      <td>17</td>\n",
       "    </tr>\n",
       "    <tr>\n",
       "      <th>18</th>\n",
       "      <td>0.774238</td>\n",
       "      <td>2</td>\n",
       "      <td>0.809841</td>\n",
       "      <td>17</td>\n",
       "      <td>0.741747</td>\n",
       "      <td>3</td>\n",
       "    </tr>\n",
       "    <tr>\n",
       "      <th>0</th>\n",
       "      <td>0.768603</td>\n",
       "      <td>4</td>\n",
       "      <td>0.806741</td>\n",
       "      <td>18</td>\n",
       "      <td>0.734048</td>\n",
       "      <td>4</td>\n",
       "    </tr>\n",
       "    <tr>\n",
       "      <th>33</th>\n",
       "      <td>0.775119</td>\n",
       "      <td>1</td>\n",
       "      <td>0.806350</td>\n",
       "      <td>19</td>\n",
       "      <td>0.746354</td>\n",
       "      <td>1</td>\n",
       "    </tr>\n",
       "    <tr>\n",
       "      <th>23</th>\n",
       "      <td>0.758386</td>\n",
       "      <td>5</td>\n",
       "      <td>0.803491</td>\n",
       "      <td>20</td>\n",
       "      <td>0.718184</td>\n",
       "      <td>5</td>\n",
       "    </tr>\n",
       "    <tr>\n",
       "      <th>22</th>\n",
       "      <td>0.716977</td>\n",
       "      <td>24</td>\n",
       "      <td>0.803313</td>\n",
       "      <td>21</td>\n",
       "      <td>0.647555</td>\n",
       "      <td>31</td>\n",
       "    </tr>\n",
       "    <tr>\n",
       "      <th>11</th>\n",
       "      <td>0.753612</td>\n",
       "      <td>7</td>\n",
       "      <td>0.802615</td>\n",
       "      <td>22</td>\n",
       "      <td>0.710369</td>\n",
       "      <td>8</td>\n",
       "    </tr>\n",
       "    <tr>\n",
       "      <th>14</th>\n",
       "      <td>0.716109</td>\n",
       "      <td>26</td>\n",
       "      <td>0.800607</td>\n",
       "      <td>23</td>\n",
       "      <td>0.647847</td>\n",
       "      <td>30</td>\n",
       "    </tr>\n",
       "    <tr>\n",
       "      <th>45</th>\n",
       "      <td>0.755433</td>\n",
       "      <td>6</td>\n",
       "      <td>0.800294</td>\n",
       "      <td>24</td>\n",
       "      <td>0.715385</td>\n",
       "      <td>6</td>\n",
       "    </tr>\n",
       "    <tr>\n",
       "      <th>13</th>\n",
       "      <td>0.742823</td>\n",
       "      <td>11</td>\n",
       "      <td>0.798186</td>\n",
       "      <td>25</td>\n",
       "      <td>0.694681</td>\n",
       "      <td>15</td>\n",
       "    </tr>\n",
       "    <tr>\n",
       "      <th>17</th>\n",
       "      <td>0.713510</td>\n",
       "      <td>28</td>\n",
       "      <td>0.797940</td>\n",
       "      <td>26</td>\n",
       "      <td>0.645281</td>\n",
       "      <td>32</td>\n",
       "    </tr>\n",
       "    <tr>\n",
       "      <th>38</th>\n",
       "      <td>0.770363</td>\n",
       "      <td>3</td>\n",
       "      <td>0.797048</td>\n",
       "      <td>27</td>\n",
       "      <td>0.745479</td>\n",
       "      <td>2</td>\n",
       "    </tr>\n",
       "    <tr>\n",
       "      <th>12</th>\n",
       "      <td>0.717943</td>\n",
       "      <td>23</td>\n",
       "      <td>0.795398</td>\n",
       "      <td>28</td>\n",
       "      <td>0.654263</td>\n",
       "      <td>28</td>\n",
       "    </tr>\n",
       "    <tr>\n",
       "      <th>47</th>\n",
       "      <td>0.750741</td>\n",
       "      <td>8</td>\n",
       "      <td>0.791137</td>\n",
       "      <td>29</td>\n",
       "      <td>0.714335</td>\n",
       "      <td>7</td>\n",
       "    </tr>\n",
       "    <tr>\n",
       "      <th>31</th>\n",
       "      <td>0.697931</td>\n",
       "      <td>31</td>\n",
       "      <td>0.779471</td>\n",
       "      <td>30</td>\n",
       "      <td>0.631925</td>\n",
       "      <td>36</td>\n",
       "    </tr>\n",
       "    <tr>\n",
       "      <th>48</th>\n",
       "      <td>0.739256</td>\n",
       "      <td>12</td>\n",
       "      <td>0.778117</td>\n",
       "      <td>31</td>\n",
       "      <td>0.704129</td>\n",
       "      <td>13</td>\n",
       "    </tr>\n",
       "    <tr>\n",
       "      <th>29</th>\n",
       "      <td>0.730728</td>\n",
       "      <td>19</td>\n",
       "      <td>0.770205</td>\n",
       "      <td>32</td>\n",
       "      <td>0.695205</td>\n",
       "      <td>14</td>\n",
       "    </tr>\n",
       "    <tr>\n",
       "      <th>10</th>\n",
       "      <td>0.738569</td>\n",
       "      <td>13</td>\n",
       "      <td>0.769891</td>\n",
       "      <td>33</td>\n",
       "      <td>0.709786</td>\n",
       "      <td>9</td>\n",
       "    </tr>\n",
       "    <tr>\n",
       "      <th>30</th>\n",
       "      <td>0.696482</td>\n",
       "      <td>33</td>\n",
       "      <td>0.769803</td>\n",
       "      <td>34</td>\n",
       "      <td>0.635950</td>\n",
       "      <td>35</td>\n",
       "    </tr>\n",
       "    <tr>\n",
       "      <th>40</th>\n",
       "      <td>0.734389</td>\n",
       "      <td>16</td>\n",
       "      <td>0.762834</td>\n",
       "      <td>35</td>\n",
       "      <td>0.708036</td>\n",
       "      <td>10</td>\n",
       "    </tr>\n",
       "    <tr>\n",
       "      <th>39</th>\n",
       "      <td>0.730167</td>\n",
       "      <td>20</td>\n",
       "      <td>0.758201</td>\n",
       "      <td>36</td>\n",
       "      <td>0.704187</td>\n",
       "      <td>12</td>\n",
       "    </tr>\n",
       "    <tr>\n",
       "      <th>6</th>\n",
       "      <td>0.686498</td>\n",
       "      <td>35</td>\n",
       "      <td>0.757977</td>\n",
       "      <td>37</td>\n",
       "      <td>0.627609</td>\n",
       "      <td>37</td>\n",
       "    </tr>\n",
       "    <tr>\n",
       "      <th>20</th>\n",
       "      <td>0.678796</td>\n",
       "      <td>40</td>\n",
       "      <td>0.757951</td>\n",
       "      <td>38</td>\n",
       "      <td>0.614778</td>\n",
       "      <td>41</td>\n",
       "    </tr>\n",
       "    <tr>\n",
       "      <th>44</th>\n",
       "      <td>0.731167</td>\n",
       "      <td>17</td>\n",
       "      <td>0.756359</td>\n",
       "      <td>39</td>\n",
       "      <td>0.707628</td>\n",
       "      <td>11</td>\n",
       "    </tr>\n",
       "    <tr>\n",
       "      <th>43</th>\n",
       "      <td>0.715942</td>\n",
       "      <td>27</td>\n",
       "      <td>0.755511</td>\n",
       "      <td>40</td>\n",
       "      <td>0.680449</td>\n",
       "      <td>18</td>\n",
       "    </tr>\n",
       "    <tr>\n",
       "      <th>5</th>\n",
       "      <td>0.679637</td>\n",
       "      <td>39</td>\n",
       "      <td>0.755233</td>\n",
       "      <td>41</td>\n",
       "      <td>0.617869</td>\n",
       "      <td>40</td>\n",
       "    </tr>\n",
       "    <tr>\n",
       "      <th>19</th>\n",
       "      <td>0.681017</td>\n",
       "      <td>38</td>\n",
       "      <td>0.753958</td>\n",
       "      <td>42</td>\n",
       "      <td>0.621018</td>\n",
       "      <td>39</td>\n",
       "    </tr>\n",
       "    <tr>\n",
       "      <th>34</th>\n",
       "      <td>0.701974</td>\n",
       "      <td>30</td>\n",
       "      <td>0.734534</td>\n",
       "      <td>43</td>\n",
       "      <td>0.672517</td>\n",
       "      <td>20</td>\n",
       "    </tr>\n",
       "    <tr>\n",
       "      <th>25</th>\n",
       "      <td>0.702328</td>\n",
       "      <td>29</td>\n",
       "      <td>0.732256</td>\n",
       "      <td>44</td>\n",
       "      <td>0.675084</td>\n",
       "      <td>19</td>\n",
       "    </tr>\n",
       "    <tr>\n",
       "      <th>9</th>\n",
       "      <td>0.690275</td>\n",
       "      <td>34</td>\n",
       "      <td>0.728030</td>\n",
       "      <td>45</td>\n",
       "      <td>0.656421</td>\n",
       "      <td>27</td>\n",
       "    </tr>\n",
       "    <tr>\n",
       "      <th>26</th>\n",
       "      <td>0.651226</td>\n",
       "      <td>45</td>\n",
       "      <td>0.719919</td>\n",
       "      <td>46</td>\n",
       "      <td>0.594657</td>\n",
       "      <td>42</td>\n",
       "    </tr>\n",
       "    <tr>\n",
       "      <th>8</th>\n",
       "      <td>0.682231</td>\n",
       "      <td>37</td>\n",
       "      <td>0.702851</td>\n",
       "      <td>47</td>\n",
       "      <td>0.662836</td>\n",
       "      <td>25</td>\n",
       "    </tr>\n",
       "    <tr>\n",
       "      <th>2</th>\n",
       "      <td>0.677146</td>\n",
       "      <td>41</td>\n",
       "      <td>0.687952</td>\n",
       "      <td>48</td>\n",
       "      <td>0.666860</td>\n",
       "      <td>23</td>\n",
       "    </tr>\n",
       "    <tr>\n",
       "      <th>46</th>\n",
       "      <td>0.666707</td>\n",
       "      <td>43</td>\n",
       "      <td>0.672749</td>\n",
       "      <td>49</td>\n",
       "      <td>0.660969</td>\n",
       "      <td>26</td>\n",
       "    </tr>\n",
       "    <tr>\n",
       "      <th>3</th>\n",
       "      <td>0.662689</td>\n",
       "      <td>44</td>\n",
       "      <td>0.672559</td>\n",
       "      <td>50</td>\n",
       "      <td>0.653212</td>\n",
       "      <td>29</td>\n",
       "    </tr>\n",
       "  </tbody>\n",
       "</table>\n",
       "</div>"
      ],
      "text/plain": [
       "    mean_test_f1  rank_test_f1  mean_test_precision  rank_test_precision  \\\n",
       "7       0.583371            50             0.885149                    1   \n",
       "16      0.583646            47             0.883324                    2   \n",
       "37      0.583646            47             0.883324                    2   \n",
       "42      0.583646            47             0.883324                    2   \n",
       "24      0.696664            32             0.850968                    5   \n",
       "49      0.716173            25             0.837544                    6   \n",
       "35      0.726986            21             0.835593                    7   \n",
       "32      0.673174            42             0.832739                    8   \n",
       "36      0.642664            46             0.831098                    9   \n",
       "21      0.721419            22             0.829477                   10   \n",
       "1       0.750513             9             0.819628                   11   \n",
       "4       0.735513            15             0.818272                   12   \n",
       "27      0.683722            36             0.814846                   13   \n",
       "15      0.736599            14             0.814659                   14   \n",
       "41      0.731057            18             0.813727                   15   \n",
       "28      0.747302            10             0.812871                   16   \n",
       "18      0.774238             2             0.809841                   17   \n",
       "0       0.768603             4             0.806741                   18   \n",
       "33      0.775119             1             0.806350                   19   \n",
       "23      0.758386             5             0.803491                   20   \n",
       "22      0.716977            24             0.803313                   21   \n",
       "11      0.753612             7             0.802615                   22   \n",
       "14      0.716109            26             0.800607                   23   \n",
       "45      0.755433             6             0.800294                   24   \n",
       "13      0.742823            11             0.798186                   25   \n",
       "17      0.713510            28             0.797940                   26   \n",
       "38      0.770363             3             0.797048                   27   \n",
       "12      0.717943            23             0.795398                   28   \n",
       "47      0.750741             8             0.791137                   29   \n",
       "31      0.697931            31             0.779471                   30   \n",
       "48      0.739256            12             0.778117                   31   \n",
       "29      0.730728            19             0.770205                   32   \n",
       "10      0.738569            13             0.769891                   33   \n",
       "30      0.696482            33             0.769803                   34   \n",
       "40      0.734389            16             0.762834                   35   \n",
       "39      0.730167            20             0.758201                   36   \n",
       "6       0.686498            35             0.757977                   37   \n",
       "20      0.678796            40             0.757951                   38   \n",
       "44      0.731167            17             0.756359                   39   \n",
       "43      0.715942            27             0.755511                   40   \n",
       "5       0.679637            39             0.755233                   41   \n",
       "19      0.681017            38             0.753958                   42   \n",
       "34      0.701974            30             0.734534                   43   \n",
       "25      0.702328            29             0.732256                   44   \n",
       "9       0.690275            34             0.728030                   45   \n",
       "26      0.651226            45             0.719919                   46   \n",
       "8       0.682231            37             0.702851                   47   \n",
       "2       0.677146            41             0.687952                   48   \n",
       "46      0.666707            43             0.672749                   49   \n",
       "3       0.662689            44             0.672559                   50   \n",
       "\n",
       "    mean_test_recall  rank_test_recall  \n",
       "7           0.435087                50  \n",
       "16          0.435845                47  \n",
       "37          0.435845                47  \n",
       "42          0.435845                47  \n",
       "24          0.590166                43  \n",
       "49          0.625626                38  \n",
       "35          0.643473                33  \n",
       "32          0.566545                45  \n",
       "36          0.525429                46  \n",
       "21          0.638399                34  \n",
       "1           0.692231                16  \n",
       "4           0.668085                22  \n",
       "27          0.590049                44  \n",
       "15          0.672343                21  \n",
       "41          0.663711                24  \n",
       "28          0.691648                17  \n",
       "18          0.741747                 3  \n",
       "0           0.734048                 4  \n",
       "33          0.746354                 1  \n",
       "23          0.718184                 5  \n",
       "22          0.647555                31  \n",
       "11          0.710369                 8  \n",
       "14          0.647847                30  \n",
       "45          0.715385                 6  \n",
       "13          0.694681                15  \n",
       "17          0.645281                32  \n",
       "38          0.745479                 2  \n",
       "12          0.654263                28  \n",
       "47          0.714335                 7  \n",
       "31          0.631925                36  \n",
       "48          0.704129                13  \n",
       "29          0.695205                14  \n",
       "10          0.709786                 9  \n",
       "30          0.635950                35  \n",
       "40          0.708036                10  \n",
       "39          0.704187                12  \n",
       "6           0.627609                37  \n",
       "20          0.614778                41  \n",
       "44          0.707628                11  \n",
       "43          0.680449                18  \n",
       "5           0.617869                40  \n",
       "19          0.621018                39  \n",
       "34          0.672517                20  \n",
       "25          0.675084                19  \n",
       "9           0.656421                27  \n",
       "26          0.594657                42  \n",
       "8           0.662836                25  \n",
       "2           0.666860                23  \n",
       "46          0.660969                26  \n",
       "3           0.653212                29  "
      ]
     },
     "execution_count": 53,
     "metadata": {},
     "output_type": "execute_result"
    }
   ],
   "source": [
    "df_f1.sort_values(by = 'mean_test_precision', ascending = False)"
   ]
  },
  {
   "cell_type": "code",
   "execution_count": 54,
   "metadata": {},
   "outputs": [],
   "source": [
    "pred_prob = rf_bestf1.predict_proba(X_train)\n",
    "\n",
    "precision, recall, threshold = precision_recall_curve(y_train, pred_prob[:, 1])"
   ]
  },
  {
   "cell_type": "code",
   "execution_count": 55,
   "metadata": {},
   "outputs": [
    {
     "data": {
      "text/plain": [
       "Text(0.5, 1.0, 'Precision-Recall Curve')"
      ]
     },
     "execution_count": 55,
     "metadata": {},
     "output_type": "execute_result"
    },
    {
     "data": {
      "image/png": "[encoded data removed]",
      "text/plain": [
       "<Figure size 432x288 with 1 Axes>"
      ]
     },
     "metadata": {
      "needs_background": "light"
     },
     "output_type": "display_data"
    }
   ],
   "source": [
    "plt.plot(threshold, precision[:-1], c ='r', label ='PRECISION')\n",
    "plt.plot(threshold, recall[:-1], c ='b', label ='RECALL')\n",
    "plt.grid()\n",
    "plt.legend()\n",
    "plt.title('Precision-Recall Curve')"
   ]
  },
  {
   "cell_type": "code",
   "execution_count": 269,
   "metadata": {},
   "outputs": [],
   "source": [
    "importances = rf_bestf1.steps[1][1].feature_importances_"
   ]
  },
  {
   "cell_type": "code",
   "execution_count": 270,
   "metadata": {},
   "outputs": [],
   "source": [
    "features = rf_bestf1['ct'].get_feature_names()"
   ]
  },
  {
   "cell_type": "code",
   "execution_count": 271,
   "metadata": {},
   "outputs": [],
   "source": [
    "ohe_list = []\n",
    "for i in range(10,13):\n",
    "    key = 'ohe__x'+str(i)\n",
    "    ohe_list.append(key)"
   ]
  },
  {
   "cell_type": "code",
   "execution_count": 272,
   "metadata": {},
   "outputs": [],
   "source": [
    "dic = {}\n",
    "for i in range(0, 3):\n",
    "    key = ohe_list[i]\n",
    "    value = cat_cols[i+10]\n",
    "    dic[key] = value"
   ]
  },
  {
   "cell_type": "code",
   "execution_count": 273,
   "metadata": {},
   "outputs": [],
   "source": [
    "feature_df = pd.Series(features)"
   ]
  },
  {
   "cell_type": "code",
   "execution_count": 274,
   "metadata": {},
   "outputs": [],
   "source": [
    "feature_df.replace(dic, regex = True, inplace = True)"
   ]
  },
  {
   "cell_type": "code",
   "execution_count": 275,
   "metadata": {},
   "outputs": [],
   "source": [
    "ohe_list = []\n",
    "for i in range(0,10):\n",
    "    key = 'ohe__x'+str(i)\n",
    "    ohe_list.append(key)\n",
    "\n",
    "dic = {}\n",
    "for i in range(0, 10):\n",
    "    key = ohe_list[i]\n",
    "    value = cat_cols[i]\n",
    "    dic[key] = value"
   ]
  },
  {
   "cell_type": "code",
   "execution_count": 276,
   "metadata": {},
   "outputs": [],
   "source": [
    "feature_df.replace(dic, regex = True, inplace = True)"
   ]
  },
  {
   "cell_type": "code",
   "execution_count": 277,
   "metadata": {},
   "outputs": [],
   "source": [
    "features_prefix = list(feature_df)"
   ]
  },
  {
   "cell_type": "code",
   "execution_count": 278,
   "metadata": {},
   "outputs": [],
   "source": [
    "indices = np.argsort(importances)"
   ]
  },
  {
   "cell_type": "code",
   "execution_count": 280,
   "metadata": {},
   "outputs": [
    {
     "data": {
      "image/png": "[encoded data removed]",
      "text/plain": [
       "<Figure size 432x288 with 1 Axes>"
      ]
     },
     "metadata": {
      "needs_background": "light"
     },
     "output_type": "display_data"
    }
   ],
   "source": [
    "num_features = 20\n",
    "plt.title('Feature Importances')\n",
    "plt.barh(range(num_features), importances[indices[-num_features:]], color='b', align='center')\n",
    "plt.yticks(range(num_features), [features_prefix[i] for i in indices[-num_features:]])\n",
    "plt.xlabel('Relative Importance')\n",
    "plt.show()"
   ]
  },
  {
   "cell_type": "code",
   "execution_count": 201,
   "metadata": {},
   "outputs": [
    {
     "data": {
      "text/plain": [
       "{'rfc__criterion': 'entropy',\n",
       " 'rfc__max_depth': 3,\n",
       " 'rfc__max_features': None,\n",
       " 'rfc__min_samples_leaf': 8,\n",
       " 'rfc__min_samples_split': 13,\n",
       " 'rfc__n_estimators': 107}"
      ]
     },
     "execution_count": 201,
     "metadata": {},
     "output_type": "execute_result"
    }
   ],
   "source": [
    "rf_random.cv_results_['params'][7]"
   ]
  },
  {
   "cell_type": "code",
   "execution_count": 58,
   "metadata": {},
   "outputs": [
    {
     "data": {
      "text/plain": [
       "Pipeline(steps=[('ct',\n",
       "                 ColumnTransformer(remainder='passthrough',\n",
       "                                   transformers=[('ohe',\n",
       "                                                  OneHotEncoder(handle_unknown='ignore',\n",
       "                                                                sparse=False),\n",
       "                                                  ['funder', 'installer',\n",
       "                                                   'basin', 'lga',\n",
       "                                                   'extraction_type_group',\n",
       "                                                   'management', 'payment',\n",
       "                                                   'quality_group', 'quantity',\n",
       "                                                   'source_type',\n",
       "                                                   'waterpoint_type',\n",
       "                                                   'pop_bins',\n",
       "                                                   'construct_bins'])])),\n",
       "                ('rfc',\n",
       "                 RandomForestClassifier(class_weight='balanced',\n",
       "                                        criterion='entropy', max_depth=3,\n",
       "                                        max_features=None, min_samples_leaf=8,\n",
       "                                        min_samples_split=13, n_estimators=107,\n",
       "                                        random_state=42))])"
      ]
     },
     "execution_count": 58,
     "metadata": {},
     "output_type": "execute_result"
    }
   ],
   "source": [
    "rfc = RandomForestClassifier(random_state=42, class_weight = 'balanced', criterion = 'entropy', max_depth = 3, max_features = None, min_samples_leaf = 8, min_samples_split = 13, n_estimators = 107)\n",
    "rfc_bestp = Pipeline([('ct', CT), ('rfc', rfc)])\n",
    "rfc_bestp.fit(X_train, y_train)"
   ]
  },
  {
   "cell_type": "code",
   "execution_count": 59,
   "metadata": {},
   "outputs": [],
   "source": [
    "pred_prob = rfc_bestp.predict_proba(X_train)\n",
    "\n",
    "precision, recall, threshold = precision_recall_curve(y_train, pred_prob[:, 1])"
   ]
  },
  {
   "cell_type": "code",
   "execution_count": 60,
   "metadata": {},
   "outputs": [
    {
     "data": {
      "text/plain": [
       "Text(0.5, 1.0, 'Precision-Recall Curve')"
      ]
     },
     "execution_count": 60,
     "metadata": {},
     "output_type": "execute_result"
    },
    {
     "data": {
      "image/png": "[encoded data removed]",
      "text/plain": [
       "<Figure size 432x288 with 1 Axes>"
      ]
     },
     "metadata": {
      "needs_background": "light"
     },
     "output_type": "display_data"
    }
   ],
   "source": [
    "plt.plot(threshold, precision[:-1], c ='r', label ='PRECISION')\n",
    "plt.plot(threshold, recall[:-1], c ='b', label ='RECALL')\n",
    "plt.grid()\n",
    "plt.legend()\n",
    "plt.title('Precision-Recall Curve')"
   ]
  },
  {
   "cell_type": "code",
   "execution_count": 209,
   "metadata": {},
   "outputs": [],
   "source": [
    "importances = rfc_bestp.steps[1][1].feature_importances_"
   ]
  },
  {
   "cell_type": "code",
   "execution_count": 210,
   "metadata": {},
   "outputs": [],
   "source": [
    "features = rfc_bestp['ct'].get_feature_names()"
   ]
  },
  {
   "cell_type": "code",
   "execution_count": null,
   "metadata": {},
   "outputs": [],
   "source": [
    "ohe_list = []\n",
    "for i in range(10,13):\n",
    "    key = 'ohe__x'+str(i)\n",
    "    ohe_list.append(key)\n",
    "\n",
    "dic = {}\n",
    "for i in range(0, 3):\n",
    "    key = ohe_list[i]\n",
    "    value = cat_cols[i+10]\n",
    "    dic[key] = value"
   ]
  },
  {
   "cell_type": "code",
   "execution_count": 244,
   "metadata": {},
   "outputs": [],
   "source": [
    "feature_df = pd.Series(features)"
   ]
  },
  {
   "cell_type": "code",
   "execution_count": 251,
   "metadata": {},
   "outputs": [],
   "source": [
    "feature_df.replace(dic, regex = True, inplace = True)"
   ]
  },
  {
   "cell_type": "code",
   "execution_count": 248,
   "metadata": {},
   "outputs": [],
   "source": [
    "ohe_list = []\n",
    "for i in range(0,10):\n",
    "    key = 'ohe__x'+str(i)\n",
    "    ohe_list.append(key)"
   ]
  },
  {
   "cell_type": "code",
   "execution_count": 250,
   "metadata": {},
   "outputs": [],
   "source": [
    "dic = {}\n",
    "for i in range(0, 10):\n",
    "    key = ohe_list[i]\n",
    "    value = cat_cols[i]\n",
    "    dic[key] = value"
   ]
  },
  {
   "cell_type": "code",
   "execution_count": null,
   "metadata": {},
   "outputs": [],
   "source": [
    "feature_df.replace(dic, regex = True, inplace = True)"
   ]
  },
  {
   "cell_type": "code",
   "execution_count": 252,
   "metadata": {},
   "outputs": [],
   "source": [
    "features_prefix = list(feature_df)"
   ]
  },
  {
   "cell_type": "code",
   "execution_count": 255,
   "metadata": {},
   "outputs": [],
   "source": [
    "indices = np.argsort(importances)"
   ]
  },
  {
   "cell_type": "code",
   "execution_count": 256,
   "metadata": {},
   "outputs": [
    {
     "data": {
      "image/png": "[encoded data removed]",
      "text/plain": [
       "<Figure size 432x288 with 1 Axes>"
      ]
     },
     "metadata": {
      "needs_background": "light"
     },
     "output_type": "display_data"
    }
   ],
   "source": [
    "num_features = 10\n",
    "plt.title('Feature Importances')\n",
    "plt.barh(range(num_features), importances[indices[-num_features:]], color='b', align='center')\n",
    "plt.yticks(range(num_features), [features_prefix[i] for i in indices[-num_features:]])\n",
    "plt.xlabel('Relative Importance')\n",
    "plt.show()"
   ]
  },
  {
   "cell_type": "markdown",
   "metadata": {},
   "source": [
    "### XGBoost "
   ]
  },
  {
   "cell_type": "code",
   "execution_count": 10,
   "metadata": {},
   "outputs": [],
   "source": [
    "xgb = XGBClassifier(random_state = 42)\n",
    "xgb_model_pipe = Pipeline([('ct', CT), ('xgb', xgb)])"
   ]
  },
  {
   "cell_type": "code",
   "execution_count": 282,
   "metadata": {},
   "outputs": [],
   "source": [
    "cv = cross_validate(xgb_model_pipe, X_train, y_train, cv = 5, scoring = ['precision', 'recall'])"
   ]
  },
  {
   "cell_type": "code",
   "execution_count": 283,
   "metadata": {},
   "outputs": [
    {
     "data": {
      "text/plain": [
       "0.8640172447953635"
      ]
     },
     "execution_count": 283,
     "metadata": {},
     "output_type": "execute_result"
    }
   ],
   "source": [
    "cv['test_precision'].mean()"
   ]
  },
  {
   "cell_type": "code",
   "execution_count": 284,
   "metadata": {},
   "outputs": [
    {
     "data": {
      "text/plain": [
       "0.6812662532829654"
      ]
     },
     "execution_count": 284,
     "metadata": {},
     "output_type": "execute_result"
    }
   ],
   "source": [
    "cv['test_recall'].mean()"
   ]
  },
  {
   "cell_type": "code",
   "execution_count": 69,
   "metadata": {},
   "outputs": [
    {
     "data": {
      "text/plain": [
       "Pipeline(steps=[('ct',\n",
       "                 ColumnTransformer(remainder='passthrough',\n",
       "                                   transformers=[('ohe',\n",
       "                                                  OneHotEncoder(handle_unknown='ignore',\n",
       "                                                                sparse=False),\n",
       "                                                  ['funder', 'installer',\n",
       "                                                   'basin', 'lga',\n",
       "                                                   'extraction_type_group',\n",
       "                                                   'management', 'payment',\n",
       "                                                   'quality_group', 'quantity',\n",
       "                                                   'source_type',\n",
       "                                                   'waterpoint_type',\n",
       "                                                   'pop_bins',\n",
       "                                                   'construct_bins'])])),\n",
       "                ('xgb',\n",
       "                 XGBClassifier(base_score=0.5, bo...\n",
       "                               colsample_bytree=1, gamma=0, gpu_id=-1,\n",
       "                               importance_type='gain',\n",
       "                               interaction_constraints='',\n",
       "                               learning_rate=0.300000012, max_delta_step=0,\n",
       "                               max_depth=6, min_child_weight=1, missing=nan,\n",
       "                               monotone_constraints='()', n_estimators=100,\n",
       "                               n_jobs=0, num_parallel_tree=1, random_state=42,\n",
       "                               reg_alpha=0, reg_lambda=1, scale_pos_weight=1.6,\n",
       "                               subsample=1, tree_method='exact',\n",
       "                               validate_parameters=1, verbosity=None))])"
      ]
     },
     "execution_count": 69,
     "metadata": {},
     "output_type": "execute_result"
    }
   ],
   "source": [
    "xgb_model_pipe.fit(X_train, y_train)"
   ]
  },
  {
   "cell_type": "code",
   "execution_count": 70,
   "metadata": {},
   "outputs": [
    {
     "data": {
      "image/png": "[encoded data removed]",
      "text/plain": [
       "<Figure size 432x288 with 2 Axes>"
      ]
     },
     "metadata": {
      "needs_background": "light"
     },
     "output_type": "display_data"
    }
   ],
   "source": [
    "plot_confusion_matrix(xgb_model_pipe, X_train, y_train);"
   ]
  },
  {
   "cell_type": "code",
   "execution_count": 285,
   "metadata": {},
   "outputs": [],
   "source": [
    "params = {\"xgb__scale_pos_weight\": [0.7, 0.8, 0.9, 1, 1.1, 1.2, 1.3, 1.4, 1.5]}\n",
    "\n",
    "gs = GridSearchCV(estimator=xgb_model_pipe,\n",
    "                 param_grid=params,\n",
    "                 cv=5,\n",
    "                 scoring = ['precision', 'recall'],\n",
    "                 refit = 'precision'\n",
    "                 )"
   ]
  },
  {
   "cell_type": "code",
   "execution_count": 286,
   "metadata": {},
   "outputs": [
    {
     "data": {
      "text/plain": [
       "GridSearchCV(cv=5,\n",
       "             estimator=Pipeline(steps=[('ct',\n",
       "                                        ColumnTransformer(remainder='passthrough',\n",
       "                                                          transformers=[('ohe',\n",
       "                                                                         OneHotEncoder(handle_unknown='ignore',\n",
       "                                                                                       sparse=False),\n",
       "                                                                         ['funder',\n",
       "                                                                          'installer',\n",
       "                                                                          'basin',\n",
       "                                                                          'lga',\n",
       "                                                                          'extraction_type_group',\n",
       "                                                                          'management',\n",
       "                                                                          'payment',\n",
       "                                                                          'quality_group',\n",
       "                                                                          'quantity',\n",
       "                                                                          'source_type',\n",
       "                                                                          'waterpoint_type',\n",
       "                                                                          'pop_bins',\n",
       "                                                                          'construct_bins'])])),\n",
       "                                       ('xgb',\n",
       "                                        XGB...\n",
       "                                                      missing=nan,\n",
       "                                                      monotone_constraints=None,\n",
       "                                                      n_estimators=100,\n",
       "                                                      n_jobs=None,\n",
       "                                                      num_parallel_tree=None,\n",
       "                                                      random_state=42,\n",
       "                                                      reg_alpha=None,\n",
       "                                                      reg_lambda=None,\n",
       "                                                      scale_pos_weight=None,\n",
       "                                                      subsample=None,\n",
       "                                                      tree_method=None,\n",
       "                                                      validate_parameters=None,\n",
       "                                                      verbosity=None))]),\n",
       "             param_grid={'xgb__scale_pos_weight': [0.7, 0.8, 0.9, 1, 1.1, 1.2,\n",
       "                                                   1.3, 1.4, 1.5]},\n",
       "             refit='precision', scoring=['precision', 'recall'])"
      ]
     },
     "execution_count": 286,
     "metadata": {},
     "output_type": "execute_result"
    }
   ],
   "source": [
    "gs.fit(X_train, y_train)"
   ]
  },
  {
   "cell_type": "code",
   "execution_count": 287,
   "metadata": {},
   "outputs": [
    {
     "data": {
      "text/plain": [
       "{'xgb__scale_pos_weight': 0.7}"
      ]
     },
     "execution_count": 287,
     "metadata": {},
     "output_type": "execute_result"
    }
   ],
   "source": [
    "gs.best_params_"
   ]
  },
  {
   "cell_type": "code",
   "execution_count": 288,
   "metadata": {},
   "outputs": [
    {
     "data": {
      "text/plain": [
       "0.8990384731584067"
      ]
     },
     "execution_count": 288,
     "metadata": {},
     "output_type": "execute_result"
    }
   ],
   "source": [
    "gs.best_score_"
   ]
  },
  {
   "cell_type": "code",
   "execution_count": 75,
   "metadata": {},
   "outputs": [],
   "source": [
    "xgb_gs = gs.best_estimator_"
   ]
  },
  {
   "cell_type": "code",
   "execution_count": 76,
   "metadata": {},
   "outputs": [
    {
     "data": {
      "image/png": "[encoded data removed]",
      "text/plain": [
       "<Figure size 432x288 with 2 Axes>"
      ]
     },
     "metadata": {
      "needs_background": "light"
     },
     "output_type": "display_data"
    }
   ],
   "source": [
    "plot_confusion_matrix(xgb_gs, X_train, y_train);"
   ]
  },
  {
   "cell_type": "code",
   "execution_count": 11,
   "metadata": {},
   "outputs": [],
   "source": [
    "random_grid = {\"xgb__n_estimators\": sp_randInt(100, 300),\n",
    "               \"xgb__subsample\": [0.6, 0.8, 1.0],\n",
    "               \"xgb__colsample_bytree\": [0.6, 0.8, 1.0],\n",
    "               \"xgb__learning_rate\": [0.05, 0.10, 0.20],\n",
    "               \"xgb__gamma\": [0.5, 1, 5],\n",
    "               \"xgb__max_depth\": sp_randInt(2, 20),\n",
    "               \"xgb__min_child_weight\": sp_randInt(1, 10)}\n",
    "\n",
    "xgb_random = RandomizedSearchCV(estimator = xgb_model_pipe, param_distributions = random_grid, n_iter = 50, cv = 5, random_state=42, scoring = ['f1', 'precision', 'recall'], n_jobs = -1, refit = 'f1')"
   ]
  },
  {
   "cell_type": "code",
   "execution_count": 12,
   "metadata": {},
   "outputs": [
    {
     "data": {
      "text/plain": [
       "RandomizedSearchCV(cv=5,\n",
       "                   estimator=Pipeline(steps=[('ct',\n",
       "                                              ColumnTransformer(remainder='passthrough',\n",
       "                                                                transformers=[('ohe',\n",
       "                                                                               OneHotEncoder(handle_unknown='ignore',\n",
       "                                                                                             sparse=False),\n",
       "                                                                               ['funder',\n",
       "                                                                                'installer',\n",
       "                                                                                'basin',\n",
       "                                                                                'lga',\n",
       "                                                                                'extraction_type_group',\n",
       "                                                                                'management',\n",
       "                                                                                'payment',\n",
       "                                                                                'quality_group',\n",
       "                                                                                'quantity',\n",
       "                                                                                'source_type',\n",
       "                                                                                'waterpoint_type',\n",
       "                                                                                'pop_bins',\n",
       "                                                                                'construct_bins'])])),\n",
       "                                             ('xg...\n",
       "                                        'xgb__max_depth': <scipy.stats._distn_infrastructure.rv_frozen object at 0x000000000576D5B0>,\n",
       "                                        'xgb__min_child_weight': <scipy.stats._distn_infrastructure.rv_frozen object at 0x000000000576D7F0>,\n",
       "                                        'xgb__n_estimators': <scipy.stats._distn_infrastructure.rv_frozen object at 0x000000000576D460>,\n",
       "                                        'xgb__subsample': [0.6, 0.8, 1.0]},\n",
       "                   random_state=42, refit='f1',\n",
       "                   scoring=['f1', 'precision', 'recall'])"
      ]
     },
     "execution_count": 12,
     "metadata": {},
     "output_type": "execute_result"
    }
   ],
   "source": [
    "xgb_random.fit(X_train, y_train)"
   ]
  },
  {
   "cell_type": "code",
   "execution_count": 13,
   "metadata": {},
   "outputs": [
    {
     "data": {
      "text/plain": [
       "0.7872610716134794"
      ]
     },
     "execution_count": 13,
     "metadata": {},
     "output_type": "execute_result"
    }
   ],
   "source": [
    "xgb_random.best_score_"
   ]
  },
  {
   "cell_type": "code",
   "execution_count": 15,
   "metadata": {},
   "outputs": [
    {
     "data": {
      "text/plain": [
       "{'xgb__colsample_bytree': 0.8,\n",
       " 'xgb__gamma': 0.5,\n",
       " 'xgb__learning_rate': 0.2,\n",
       " 'xgb__max_depth': 19,\n",
       " 'xgb__min_child_weight': 7,\n",
       " 'xgb__n_estimators': 258,\n",
       " 'xgb__subsample': 0.8}"
      ]
     },
     "execution_count": 15,
     "metadata": {},
     "output_type": "execute_result"
    }
   ],
   "source": [
    "xgb_random.best_params_"
   ]
  },
  {
   "cell_type": "code",
   "execution_count": 14,
   "metadata": {},
   "outputs": [
    {
     "data": {
      "text/html": [
       "<div>\n",
       "<style scoped>\n",
       "    .dataframe tbody tr th:only-of-type {\n",
       "        vertical-align: middle;\n",
       "    }\n",
       "\n",
       "    .dataframe tbody tr th {\n",
       "        vertical-align: top;\n",
       "    }\n",
       "\n",
       "    .dataframe thead th {\n",
       "        text-align: right;\n",
       "    }\n",
       "</style>\n",
       "<table border=\"1\" class=\"dataframe\">\n",
       "  <thead>\n",
       "    <tr style=\"text-align: right;\">\n",
       "      <th></th>\n",
       "      <th>mean_test_f1</th>\n",
       "      <th>rank_test_f1</th>\n",
       "      <th>mean_test_precision</th>\n",
       "      <th>rank_test_precision</th>\n",
       "      <th>mean_test_recall</th>\n",
       "      <th>rank_test_recall</th>\n",
       "    </tr>\n",
       "  </thead>\n",
       "  <tbody>\n",
       "    <tr>\n",
       "      <th>36</th>\n",
       "      <td>0.694751</td>\n",
       "      <td>48</td>\n",
       "      <td>0.884746</td>\n",
       "      <td>1</td>\n",
       "      <td>0.571969</td>\n",
       "      <td>48</td>\n",
       "    </tr>\n",
       "    <tr>\n",
       "      <th>23</th>\n",
       "      <td>0.725160</td>\n",
       "      <td>44</td>\n",
       "      <td>0.883631</td>\n",
       "      <td>2</td>\n",
       "      <td>0.614953</td>\n",
       "      <td>47</td>\n",
       "    </tr>\n",
       "    <tr>\n",
       "      <th>27</th>\n",
       "      <td>0.669279</td>\n",
       "      <td>49</td>\n",
       "      <td>0.882343</td>\n",
       "      <td>3</td>\n",
       "      <td>0.539134</td>\n",
       "      <td>49</td>\n",
       "    </tr>\n",
       "    <tr>\n",
       "      <th>46</th>\n",
       "      <td>0.667035</td>\n",
       "      <td>50</td>\n",
       "      <td>0.881803</td>\n",
       "      <td>4</td>\n",
       "      <td>0.536451</td>\n",
       "      <td>50</td>\n",
       "    </tr>\n",
       "    <tr>\n",
       "      <th>5</th>\n",
       "      <td>0.738791</td>\n",
       "      <td>39</td>\n",
       "      <td>0.877694</td>\n",
       "      <td>5</td>\n",
       "      <td>0.637932</td>\n",
       "      <td>41</td>\n",
       "    </tr>\n",
       "    <tr>\n",
       "      <th>22</th>\n",
       "      <td>0.752627</td>\n",
       "      <td>31</td>\n",
       "      <td>0.876508</td>\n",
       "      <td>6</td>\n",
       "      <td>0.659454</td>\n",
       "      <td>34</td>\n",
       "    </tr>\n",
       "    <tr>\n",
       "      <th>14</th>\n",
       "      <td>0.748287</td>\n",
       "      <td>35</td>\n",
       "      <td>0.876108</td>\n",
       "      <td>7</td>\n",
       "      <td>0.653096</td>\n",
       "      <td>37</td>\n",
       "    </tr>\n",
       "    <tr>\n",
       "      <th>17</th>\n",
       "      <td>0.730521</td>\n",
       "      <td>42</td>\n",
       "      <td>0.875548</td>\n",
       "      <td>8</td>\n",
       "      <td>0.626793</td>\n",
       "      <td>42</td>\n",
       "    </tr>\n",
       "    <tr>\n",
       "      <th>43</th>\n",
       "      <td>0.772593</td>\n",
       "      <td>16</td>\n",
       "      <td>0.875386</td>\n",
       "      <td>9</td>\n",
       "      <td>0.691473</td>\n",
       "      <td>21</td>\n",
       "    </tr>\n",
       "    <tr>\n",
       "      <th>8</th>\n",
       "      <td>0.756250</td>\n",
       "      <td>28</td>\n",
       "      <td>0.873761</td>\n",
       "      <td>10</td>\n",
       "      <td>0.666685</td>\n",
       "      <td>30</td>\n",
       "    </tr>\n",
       "    <tr>\n",
       "      <th>12</th>\n",
       "      <td>0.740641</td>\n",
       "      <td>38</td>\n",
       "      <td>0.872950</td>\n",
       "      <td>11</td>\n",
       "      <td>0.643240</td>\n",
       "      <td>39</td>\n",
       "    </tr>\n",
       "    <tr>\n",
       "      <th>32</th>\n",
       "      <td>0.758417</td>\n",
       "      <td>26</td>\n",
       "      <td>0.870053</td>\n",
       "      <td>12</td>\n",
       "      <td>0.672342</td>\n",
       "      <td>28</td>\n",
       "    </tr>\n",
       "    <tr>\n",
       "      <th>16</th>\n",
       "      <td>0.725625</td>\n",
       "      <td>43</td>\n",
       "      <td>0.869071</td>\n",
       "      <td>13</td>\n",
       "      <td>0.622885</td>\n",
       "      <td>43</td>\n",
       "    </tr>\n",
       "    <tr>\n",
       "      <th>4</th>\n",
       "      <td>0.768859</td>\n",
       "      <td>21</td>\n",
       "      <td>0.868712</td>\n",
       "      <td>14</td>\n",
       "      <td>0.689607</td>\n",
       "      <td>22</td>\n",
       "    </tr>\n",
       "    <tr>\n",
       "      <th>41</th>\n",
       "      <td>0.761424</td>\n",
       "      <td>25</td>\n",
       "      <td>0.868231</td>\n",
       "      <td>15</td>\n",
       "      <td>0.678116</td>\n",
       "      <td>26</td>\n",
       "    </tr>\n",
       "    <tr>\n",
       "      <th>45</th>\n",
       "      <td>0.779924</td>\n",
       "      <td>11</td>\n",
       "      <td>0.868142</td>\n",
       "      <td>16</td>\n",
       "      <td>0.708036</td>\n",
       "      <td>12</td>\n",
       "    </tr>\n",
       "    <tr>\n",
       "      <th>44</th>\n",
       "      <td>0.775429</td>\n",
       "      <td>13</td>\n",
       "      <td>0.868045</td>\n",
       "      <td>17</td>\n",
       "      <td>0.700746</td>\n",
       "      <td>16</td>\n",
       "    </tr>\n",
       "    <tr>\n",
       "      <th>35</th>\n",
       "      <td>0.773769</td>\n",
       "      <td>14</td>\n",
       "      <td>0.867161</td>\n",
       "      <td>18</td>\n",
       "      <td>0.698588</td>\n",
       "      <td>17</td>\n",
       "    </tr>\n",
       "    <tr>\n",
       "      <th>19</th>\n",
       "      <td>0.748896</td>\n",
       "      <td>33</td>\n",
       "      <td>0.866389</td>\n",
       "      <td>19</td>\n",
       "      <td>0.659570</td>\n",
       "      <td>33</td>\n",
       "    </tr>\n",
       "    <tr>\n",
       "      <th>38</th>\n",
       "      <td>0.724199</td>\n",
       "      <td>45</td>\n",
       "      <td>0.866067</td>\n",
       "      <td>20</td>\n",
       "      <td>0.622360</td>\n",
       "      <td>46</td>\n",
       "    </tr>\n",
       "    <tr>\n",
       "      <th>29</th>\n",
       "      <td>0.745588</td>\n",
       "      <td>36</td>\n",
       "      <td>0.864840</td>\n",
       "      <td>21</td>\n",
       "      <td>0.655313</td>\n",
       "      <td>35</td>\n",
       "    </tr>\n",
       "    <tr>\n",
       "      <th>28</th>\n",
       "      <td>0.744302</td>\n",
       "      <td>37</td>\n",
       "      <td>0.863532</td>\n",
       "      <td>22</td>\n",
       "      <td>0.654088</td>\n",
       "      <td>36</td>\n",
       "    </tr>\n",
       "    <tr>\n",
       "      <th>26</th>\n",
       "      <td>0.786821</td>\n",
       "      <td>2</td>\n",
       "      <td>0.862731</td>\n",
       "      <td>23</td>\n",
       "      <td>0.723258</td>\n",
       "      <td>6</td>\n",
       "    </tr>\n",
       "    <tr>\n",
       "      <th>3</th>\n",
       "      <td>0.770625</td>\n",
       "      <td>18</td>\n",
       "      <td>0.861994</td>\n",
       "      <td>24</td>\n",
       "      <td>0.696838</td>\n",
       "      <td>18</td>\n",
       "    </tr>\n",
       "    <tr>\n",
       "      <th>24</th>\n",
       "      <td>0.764157</td>\n",
       "      <td>23</td>\n",
       "      <td>0.861517</td>\n",
       "      <td>25</td>\n",
       "      <td>0.686632</td>\n",
       "      <td>23</td>\n",
       "    </tr>\n",
       "    <tr>\n",
       "      <th>31</th>\n",
       "      <td>0.755053</td>\n",
       "      <td>29</td>\n",
       "      <td>0.861463</td>\n",
       "      <td>26</td>\n",
       "      <td>0.672167</td>\n",
       "      <td>29</td>\n",
       "    </tr>\n",
       "    <tr>\n",
       "      <th>30</th>\n",
       "      <td>0.779378</td>\n",
       "      <td>12</td>\n",
       "      <td>0.861018</td>\n",
       "      <td>27</td>\n",
       "      <td>0.711944</td>\n",
       "      <td>11</td>\n",
       "    </tr>\n",
       "    <tr>\n",
       "      <th>15</th>\n",
       "      <td>0.780033</td>\n",
       "      <td>10</td>\n",
       "      <td>0.860573</td>\n",
       "      <td>28</td>\n",
       "      <td>0.713344</td>\n",
       "      <td>10</td>\n",
       "    </tr>\n",
       "    <tr>\n",
       "      <th>25</th>\n",
       "      <td>0.769732</td>\n",
       "      <td>20</td>\n",
       "      <td>0.860428</td>\n",
       "      <td>29</td>\n",
       "      <td>0.696372</td>\n",
       "      <td>19</td>\n",
       "    </tr>\n",
       "    <tr>\n",
       "      <th>13</th>\n",
       "      <td>0.767839</td>\n",
       "      <td>22</td>\n",
       "      <td>0.859978</td>\n",
       "      <td>30</td>\n",
       "      <td>0.693689</td>\n",
       "      <td>20</td>\n",
       "    </tr>\n",
       "    <tr>\n",
       "      <th>21</th>\n",
       "      <td>0.761910</td>\n",
       "      <td>24</td>\n",
       "      <td>0.859879</td>\n",
       "      <td>31</td>\n",
       "      <td>0.684066</td>\n",
       "      <td>24</td>\n",
       "    </tr>\n",
       "    <tr>\n",
       "      <th>49</th>\n",
       "      <td>0.772837</td>\n",
       "      <td>15</td>\n",
       "      <td>0.859569</td>\n",
       "      <td>32</td>\n",
       "      <td>0.702088</td>\n",
       "      <td>15</td>\n",
       "    </tr>\n",
       "    <tr>\n",
       "      <th>9</th>\n",
       "      <td>0.749690</td>\n",
       "      <td>32</td>\n",
       "      <td>0.858423</td>\n",
       "      <td>33</td>\n",
       "      <td>0.665460</td>\n",
       "      <td>32</td>\n",
       "    </tr>\n",
       "    <tr>\n",
       "      <th>48</th>\n",
       "      <td>0.721835</td>\n",
       "      <td>46</td>\n",
       "      <td>0.858298</td>\n",
       "      <td>34</td>\n",
       "      <td>0.622885</td>\n",
       "      <td>44</td>\n",
       "    </tr>\n",
       "    <tr>\n",
       "      <th>39</th>\n",
       "      <td>0.734778</td>\n",
       "      <td>41</td>\n",
       "      <td>0.858031</td>\n",
       "      <td>35</td>\n",
       "      <td>0.642598</td>\n",
       "      <td>40</td>\n",
       "    </tr>\n",
       "    <tr>\n",
       "      <th>42</th>\n",
       "      <td>0.720875</td>\n",
       "      <td>47</td>\n",
       "      <td>0.856175</td>\n",
       "      <td>36</td>\n",
       "      <td>0.622594</td>\n",
       "      <td>45</td>\n",
       "    </tr>\n",
       "    <tr>\n",
       "      <th>7</th>\n",
       "      <td>0.771724</td>\n",
       "      <td>17</td>\n",
       "      <td>0.855998</td>\n",
       "      <td>37</td>\n",
       "      <td>0.702612</td>\n",
       "      <td>14</td>\n",
       "    </tr>\n",
       "    <tr>\n",
       "      <th>1</th>\n",
       "      <td>0.781432</td>\n",
       "      <td>7</td>\n",
       "      <td>0.855539</td>\n",
       "      <td>38</td>\n",
       "      <td>0.719176</td>\n",
       "      <td>7</td>\n",
       "    </tr>\n",
       "    <tr>\n",
       "      <th>10</th>\n",
       "      <td>0.748318</td>\n",
       "      <td>34</td>\n",
       "      <td>0.854263</td>\n",
       "      <td>39</td>\n",
       "      <td>0.665869</td>\n",
       "      <td>31</td>\n",
       "    </tr>\n",
       "    <tr>\n",
       "      <th>2</th>\n",
       "      <td>0.780520</td>\n",
       "      <td>8</td>\n",
       "      <td>0.854101</td>\n",
       "      <td>40</td>\n",
       "      <td>0.718651</td>\n",
       "      <td>9</td>\n",
       "    </tr>\n",
       "    <tr>\n",
       "      <th>11</th>\n",
       "      <td>0.783715</td>\n",
       "      <td>5</td>\n",
       "      <td>0.853631</td>\n",
       "      <td>41</td>\n",
       "      <td>0.724425</td>\n",
       "      <td>5</td>\n",
       "    </tr>\n",
       "    <tr>\n",
       "      <th>6</th>\n",
       "      <td>0.780352</td>\n",
       "      <td>9</td>\n",
       "      <td>0.853214</td>\n",
       "      <td>42</td>\n",
       "      <td>0.719001</td>\n",
       "      <td>8</td>\n",
       "    </tr>\n",
       "    <tr>\n",
       "      <th>47</th>\n",
       "      <td>0.754902</td>\n",
       "      <td>30</td>\n",
       "      <td>0.852639</td>\n",
       "      <td>43</td>\n",
       "      <td>0.677358</td>\n",
       "      <td>27</td>\n",
       "    </tr>\n",
       "    <tr>\n",
       "      <th>20</th>\n",
       "      <td>0.735036</td>\n",
       "      <td>40</td>\n",
       "      <td>0.852033</td>\n",
       "      <td>44</td>\n",
       "      <td>0.646447</td>\n",
       "      <td>38</td>\n",
       "    </tr>\n",
       "    <tr>\n",
       "      <th>40</th>\n",
       "      <td>0.756260</td>\n",
       "      <td>27</td>\n",
       "      <td>0.849563</td>\n",
       "      <td>45</td>\n",
       "      <td>0.681558</td>\n",
       "      <td>25</td>\n",
       "    </tr>\n",
       "    <tr>\n",
       "      <th>18</th>\n",
       "      <td>0.785660</td>\n",
       "      <td>4</td>\n",
       "      <td>0.849328</td>\n",
       "      <td>46</td>\n",
       "      <td>0.730899</td>\n",
       "      <td>3</td>\n",
       "    </tr>\n",
       "    <tr>\n",
       "      <th>34</th>\n",
       "      <td>0.769760</td>\n",
       "      <td>19</td>\n",
       "      <td>0.848708</td>\n",
       "      <td>47</td>\n",
       "      <td>0.704304</td>\n",
       "      <td>13</td>\n",
       "    </tr>\n",
       "    <tr>\n",
       "      <th>0</th>\n",
       "      <td>0.781872</td>\n",
       "      <td>6</td>\n",
       "      <td>0.845239</td>\n",
       "      <td>48</td>\n",
       "      <td>0.727399</td>\n",
       "      <td>4</td>\n",
       "    </tr>\n",
       "    <tr>\n",
       "      <th>37</th>\n",
       "      <td>0.786077</td>\n",
       "      <td>3</td>\n",
       "      <td>0.843041</td>\n",
       "      <td>49</td>\n",
       "      <td>0.736381</td>\n",
       "      <td>2</td>\n",
       "    </tr>\n",
       "    <tr>\n",
       "      <th>33</th>\n",
       "      <td>0.787261</td>\n",
       "      <td>1</td>\n",
       "      <td>0.841362</td>\n",
       "      <td>50</td>\n",
       "      <td>0.739764</td>\n",
       "      <td>1</td>\n",
       "    </tr>\n",
       "  </tbody>\n",
       "</table>\n",
       "</div>"
      ],
      "text/plain": [
       "    mean_test_f1  rank_test_f1  mean_test_precision  rank_test_precision  \\\n",
       "36      0.694751            48             0.884746                    1   \n",
       "23      0.725160            44             0.883631                    2   \n",
       "27      0.669279            49             0.882343                    3   \n",
       "46      0.667035            50             0.881803                    4   \n",
       "5       0.738791            39             0.877694                    5   \n",
       "22      0.752627            31             0.876508                    6   \n",
       "14      0.748287            35             0.876108                    7   \n",
       "17      0.730521            42             0.875548                    8   \n",
       "43      0.772593            16             0.875386                    9   \n",
       "8       0.756250            28             0.873761                   10   \n",
       "12      0.740641            38             0.872950                   11   \n",
       "32      0.758417            26             0.870053                   12   \n",
       "16      0.725625            43             0.869071                   13   \n",
       "4       0.768859            21             0.868712                   14   \n",
       "41      0.761424            25             0.868231                   15   \n",
       "45      0.779924            11             0.868142                   16   \n",
       "44      0.775429            13             0.868045                   17   \n",
       "35      0.773769            14             0.867161                   18   \n",
       "19      0.748896            33             0.866389                   19   \n",
       "38      0.724199            45             0.866067                   20   \n",
       "29      0.745588            36             0.864840                   21   \n",
       "28      0.744302            37             0.863532                   22   \n",
       "26      0.786821             2             0.862731                   23   \n",
       "3       0.770625            18             0.861994                   24   \n",
       "24      0.764157            23             0.861517                   25   \n",
       "31      0.755053            29             0.861463                   26   \n",
       "30      0.779378            12             0.861018                   27   \n",
       "15      0.780033            10             0.860573                   28   \n",
       "25      0.769732            20             0.860428                   29   \n",
       "13      0.767839            22             0.859978                   30   \n",
       "21      0.761910            24             0.859879                   31   \n",
       "49      0.772837            15             0.859569                   32   \n",
       "9       0.749690            32             0.858423                   33   \n",
       "48      0.721835            46             0.858298                   34   \n",
       "39      0.734778            41             0.858031                   35   \n",
       "42      0.720875            47             0.856175                   36   \n",
       "7       0.771724            17             0.855998                   37   \n",
       "1       0.781432             7             0.855539                   38   \n",
       "10      0.748318            34             0.854263                   39   \n",
       "2       0.780520             8             0.854101                   40   \n",
       "11      0.783715             5             0.853631                   41   \n",
       "6       0.780352             9             0.853214                   42   \n",
       "47      0.754902            30             0.852639                   43   \n",
       "20      0.735036            40             0.852033                   44   \n",
       "40      0.756260            27             0.849563                   45   \n",
       "18      0.785660             4             0.849328                   46   \n",
       "34      0.769760            19             0.848708                   47   \n",
       "0       0.781872             6             0.845239                   48   \n",
       "37      0.786077             3             0.843041                   49   \n",
       "33      0.787261             1             0.841362                   50   \n",
       "\n",
       "    mean_test_recall  rank_test_recall  \n",
       "36          0.571969                48  \n",
       "23          0.614953                47  \n",
       "27          0.539134                49  \n",
       "46          0.536451                50  \n",
       "5           0.637932                41  \n",
       "22          0.659454                34  \n",
       "14          0.653096                37  \n",
       "17          0.626793                42  \n",
       "43          0.691473                21  \n",
       "8           0.666685                30  \n",
       "12          0.643240                39  \n",
       "32          0.672342                28  \n",
       "16          0.622885                43  \n",
       "4           0.689607                22  \n",
       "41          0.678116                26  \n",
       "45          0.708036                12  \n",
       "44          0.700746                16  \n",
       "35          0.698588                17  \n",
       "19          0.659570                33  \n",
       "38          0.622360                46  \n",
       "29          0.655313                35  \n",
       "28          0.654088                36  \n",
       "26          0.723258                 6  \n",
       "3           0.696838                18  \n",
       "24          0.686632                23  \n",
       "31          0.672167                29  \n",
       "30          0.711944                11  \n",
       "15          0.713344                10  \n",
       "25          0.696372                19  \n",
       "13          0.693689                20  \n",
       "21          0.684066                24  \n",
       "49          0.702088                15  \n",
       "9           0.665460                32  \n",
       "48          0.622885                44  \n",
       "39          0.642598                40  \n",
       "42          0.622594                45  \n",
       "7           0.702612                14  \n",
       "1           0.719176                 7  \n",
       "10          0.665869                31  \n",
       "2           0.718651                 9  \n",
       "11          0.724425                 5  \n",
       "6           0.719001                 8  \n",
       "47          0.677358                27  \n",
       "20          0.646447                38  \n",
       "40          0.681558                25  \n",
       "18          0.730899                 3  \n",
       "34          0.704304                13  \n",
       "0           0.727399                 4  \n",
       "37          0.736381                 2  \n",
       "33          0.739764                 1  "
      ]
     },
     "execution_count": 14,
     "metadata": {},
     "output_type": "execute_result"
    }
   ],
   "source": [
    "cv_results_f1 = pd.DataFrame.from_dict(xgb_random.cv_results_)\n",
    "\n",
    "df_f1 = cv_results_f1[['mean_test_f1', 'rank_test_f1', 'mean_test_precision', 'rank_test_precision', 'mean_test_recall', 'rank_test_recall']]\n",
    "\n",
    "df_f1.sort_values(by = 'mean_test_precision', ascending = False)"
   ]
  },
  {
   "cell_type": "code",
   "execution_count": 16,
   "metadata": {},
   "outputs": [],
   "source": [
    "xgb_bestf1 = xgb_random.best_estimator_"
   ]
  },
  {
   "cell_type": "code",
   "execution_count": 17,
   "metadata": {},
   "outputs": [],
   "source": [
    "pred_prob = xgb_bestf1.predict_proba(X_train)\n",
    "\n",
    "precision, recall, threshold = precision_recall_curve(y_train, pred_prob[:, 1])"
   ]
  },
  {
   "cell_type": "code",
   "execution_count": 18,
   "metadata": {},
   "outputs": [
    {
     "data": {
      "text/plain": [
       "Text(0.5, 1.0, 'Precision-Recall Curve')"
      ]
     },
     "execution_count": 18,
     "metadata": {},
     "output_type": "execute_result"
    },
    {
     "data": {
      "image/png": "[encoded data removed]",
      "text/plain": [
       "<Figure size 432x288 with 1 Axes>"
      ]
     },
     "metadata": {
      "needs_background": "light"
     },
     "output_type": "display_data"
    }
   ],
   "source": [
    "plt.plot(threshold, precision[:-1], c ='r', label ='PRECISION')\n",
    "plt.plot(threshold, recall[:-1], c ='b', label ='RECALL')\n",
    "plt.grid()\n",
    "plt.legend()\n",
    "plt.title('Precision-Recall Curve')"
   ]
  },
  {
   "cell_type": "code",
   "execution_count": 19,
   "metadata": {},
   "outputs": [
    {
     "data": {
      "image/png": "[encoded data removed]",
      "text/plain": [
       "<Figure size 432x288 with 2 Axes>"
      ]
     },
     "metadata": {
      "needs_background": "light"
     },
     "output_type": "display_data"
    }
   ],
   "source": [
    "plot_confusion_matrix(xgb_bestf1, X_train, y_train);"
   ]
  },
  {
   "cell_type": "code",
   "execution_count": 20,
   "metadata": {},
   "outputs": [
    {
     "data": {
      "image/png": "[encoded data removed]",
      "text/plain": [
       "<Figure size 432x288 with 1 Axes>"
      ]
     },
     "metadata": {
      "needs_background": "light"
     },
     "output_type": "display_data"
    }
   ],
   "source": [
    "importances = xgb_bestf1.steps[1][1].feature_importances_\n",
    "\n",
    "features = xgb_bestf1['ct'].get_feature_names()\n",
    "\n",
    "ohe_list = []\n",
    "for i in range(10,13):\n",
    "    key = 'ohe__x'+str(i)\n",
    "    ohe_list.append(key)\n",
    "\n",
    "dic = {}\n",
    "for i in range(0, 3):\n",
    "    key = ohe_list[i]\n",
    "    value = cat_cols[i+10]\n",
    "    dic[key] = value\n",
    "\n",
    "feature_df = pd.Series(features)\n",
    "\n",
    "feature_df.replace(dic, regex = True, inplace = True)\n",
    "\n",
    "ohe_list = []\n",
    "for i in range(0,10):\n",
    "    key = 'ohe__x'+str(i)\n",
    "    ohe_list.append(key)\n",
    "\n",
    "dic = {}\n",
    "for i in range(0, 10):\n",
    "    key = ohe_list[i]\n",
    "    value = cat_cols[i]\n",
    "    dic[key] = value\n",
    "\n",
    "feature_df.replace(dic, regex = True, inplace = True)\n",
    "\n",
    "features_prefix = list(feature_df)\n",
    "\n",
    "indices = np.argsort(importances)\n",
    "\n",
    "num_features = 20\n",
    "plt.title('Feature Importances')\n",
    "plt.barh(range(num_features), importances[indices[-num_features:]], color='b', align='center')\n",
    "plt.yticks(range(num_features), [features_prefix[i] for i in indices[-num_features:]])\n",
    "plt.xlabel('Relative Importance')\n",
    "plt.show()"
   ]
  },
  {
   "cell_type": "code",
   "execution_count": 21,
   "metadata": {},
   "outputs": [
    {
     "data": {
      "image/png": "[encoded data removed]",
      "text/plain": [
       "<Figure size 432x288 with 2 Axes>"
      ]
     },
     "metadata": {
      "needs_background": "light"
     },
     "output_type": "display_data"
    }
   ],
   "source": [
    "plot_confusion_matrix(xgb_bestf1, X_test, y_test);"
   ]
  },
  {
   "cell_type": "code",
   "execution_count": 23,
   "metadata": {},
   "outputs": [],
   "source": [
    "prt = pd.DataFrame([precision, recall, threshold])"
   ]
  },
  {
   "cell_type": "code",
   "execution_count": 25,
   "metadata": {},
   "outputs": [
    {
     "data": {
      "text/html": [
       "<div>\n",
       "<style scoped>\n",
       "    .dataframe tbody tr th:only-of-type {\n",
       "        vertical-align: middle;\n",
       "    }\n",
       "\n",
       "    .dataframe tbody tr th {\n",
       "        vertical-align: top;\n",
       "    }\n",
       "\n",
       "    .dataframe thead th {\n",
       "        text-align: right;\n",
       "    }\n",
       "</style>\n",
       "<table border=\"1\" class=\"dataframe\">\n",
       "  <thead>\n",
       "    <tr style=\"text-align: right;\">\n",
       "      <th></th>\n",
       "      <th>0</th>\n",
       "      <th>1</th>\n",
       "      <th>2</th>\n",
       "    </tr>\n",
       "  </thead>\n",
       "  <tbody>\n",
       "    <tr>\n",
       "      <th>0</th>\n",
       "      <td>0.413017</td>\n",
       "      <td>1.000000</td>\n",
       "      <td>0.006029</td>\n",
       "    </tr>\n",
       "    <tr>\n",
       "      <th>1</th>\n",
       "      <td>0.413851</td>\n",
       "      <td>0.999942</td>\n",
       "      <td>0.006037</td>\n",
       "    </tr>\n",
       "    <tr>\n",
       "      <th>2</th>\n",
       "      <td>0.413861</td>\n",
       "      <td>0.999942</td>\n",
       "      <td>0.006064</td>\n",
       "    </tr>\n",
       "    <tr>\n",
       "      <th>3</th>\n",
       "      <td>0.413950</td>\n",
       "      <td>0.999942</td>\n",
       "      <td>0.006077</td>\n",
       "    </tr>\n",
       "    <tr>\n",
       "      <th>4</th>\n",
       "      <td>0.413960</td>\n",
       "      <td>0.999942</td>\n",
       "      <td>0.006084</td>\n",
       "    </tr>\n",
       "    <tr>\n",
       "      <th>...</th>\n",
       "      <td>...</td>\n",
       "      <td>...</td>\n",
       "      <td>...</td>\n",
       "    </tr>\n",
       "    <tr>\n",
       "      <th>17833</th>\n",
       "      <td>1.000000</td>\n",
       "      <td>0.000875</td>\n",
       "      <td>0.999966</td>\n",
       "    </tr>\n",
       "    <tr>\n",
       "      <th>17834</th>\n",
       "      <td>1.000000</td>\n",
       "      <td>0.000817</td>\n",
       "      <td>0.999973</td>\n",
       "    </tr>\n",
       "    <tr>\n",
       "      <th>17835</th>\n",
       "      <td>1.000000</td>\n",
       "      <td>0.000583</td>\n",
       "      <td>0.999975</td>\n",
       "    </tr>\n",
       "    <tr>\n",
       "      <th>17836</th>\n",
       "      <td>1.000000</td>\n",
       "      <td>0.000058</td>\n",
       "      <td>0.999976</td>\n",
       "    </tr>\n",
       "    <tr>\n",
       "      <th>17837</th>\n",
       "      <td>1.000000</td>\n",
       "      <td>0.000000</td>\n",
       "      <td>NaN</td>\n",
       "    </tr>\n",
       "  </tbody>\n",
       "</table>\n",
       "<p>17838 rows × 3 columns</p>\n",
       "</div>"
      ],
      "text/plain": [
       "              0         1         2\n",
       "0      0.413017  1.000000  0.006029\n",
       "1      0.413851  0.999942  0.006037\n",
       "2      0.413861  0.999942  0.006064\n",
       "3      0.413950  0.999942  0.006077\n",
       "4      0.413960  0.999942  0.006084\n",
       "...         ...       ...       ...\n",
       "17833  1.000000  0.000875  0.999966\n",
       "17834  1.000000  0.000817  0.999973\n",
       "17835  1.000000  0.000583  0.999975\n",
       "17836  1.000000  0.000058  0.999976\n",
       "17837  1.000000  0.000000       NaN\n",
       "\n",
       "[17838 rows x 3 columns]"
      ]
     },
     "execution_count": 25,
     "metadata": {},
     "output_type": "execute_result"
    }
   ],
   "source": [
    "prt.T"
   ]
  },
  {
   "cell_type": "code",
   "execution_count": null,
   "metadata": {},
   "outputs": [],
   "source": []
  }
 ],
 "metadata": {
  "kernelspec": {
   "display_name": "Python (learn-env)",
   "language": "python",
   "name": "learn-env"
  },
  "language_info": {
   "codemirror_mode": {
    "name": "ipython",
    "version": 3
   },
   "file_extension": ".py",
   "mimetype": "text/x-python",
   "name": "python",
   "nbconvert_exporter": "python",
   "pygments_lexer": "ipython3",
   "version": "3.8.5"
  },
  "toc": {
   "base_numbering": 1,
   "nav_menu": {},
   "number_sections": true,
   "sideBar": true,
   "skip_h1_title": false,
   "title_cell": "Table of Contents",
   "title_sidebar": "Contents",
   "toc_cell": false,
   "toc_position": {},
   "toc_section_display": true,
   "toc_window_display": false
  },
  "varInspector": {
   "cols": {
    "lenName": 16,
    "lenType": 16,
    "lenVar": 40
   },
   "kernels_config": {
    "python": {
     "delete_cmd_postfix": "",
     "delete_cmd_prefix": "del ",
     "library": "var_list.py",
     "varRefreshCmd": "print(var_dic_list())"
    },
    "r": {
     "delete_cmd_postfix": ") ",
     "delete_cmd_prefix": "rm(",
     "library": "var_list.r",
     "varRefreshCmd": "cat(var_dic_list()) "
    }
   },
   "types_to_exclude": [
    "module",
    "function",
    "builtin_function_or_method",
    "instance",
    "_Feature"
   ],
   "window_display": false
  }
 },
 "nbformat": 4,
 "nbformat_minor": 4
}
